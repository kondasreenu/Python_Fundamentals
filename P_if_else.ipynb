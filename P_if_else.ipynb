{
  "nbformat": 4,
  "nbformat_minor": 0,
  "metadata": {
    "colab": {
      "name": "P_if_else.ipynb",
      "provenance": [],
      "collapsed_sections": [],
      "authorship_tag": "ABX9TyPGTtGQmJYMyLePFBmQ5G70",
      "include_colab_link": true
    },
    "kernelspec": {
      "name": "python3",
      "display_name": "Python 3"
    },
    "language_info": {
      "name": "python"
    }
  },
  "cells": [
    {
      "cell_type": "markdown",
      "metadata": {
        "id": "view-in-github",
        "colab_type": "text"
      },
      "source": [
        "<a href=\"https://colab.research.google.com/github/kondasreenu/Python_Fundamentals/blob/main/P_if_else.ipynb\" target=\"_parent\"><img src=\"https://colab.research.google.com/assets/colab-badge.svg\" alt=\"Open In Colab\"/></a>"
      ]
    },
    {
      "cell_type": "markdown",
      "source": [
        "**#FLOW CONTROL STATEMENTS**\n",
        "\n",
        "Indentation is most important\n",
        "\n",
        "**Simple if:**\n",
        "\n",
        "if test expression:\n",
        "\n",
        "    statement(s)\n",
        "\n",
        "**if else**\n",
        "\n",
        "if test expression:\n",
        "\n",
        "    Body of if\n",
        "\n",
        "else:\n",
        "\n",
        "    Body of else\n",
        "\n",
        "**if elif else**\n",
        "\n",
        "if test expression:\n",
        "\n",
        "      Body of if\n",
        "\n",
        "elif test expression:\n",
        "\n",
        "      Body of elif\n",
        "\n",
        "else: \n",
        "\n",
        "       Body of else\n"
      ],
      "metadata": {
        "id": "tSWQmQ0x7K8U"
      }
    },
    {
      "cell_type": "code",
      "source": [
        "a = 10\n",
        "if a == 10:\n",
        "  print(\"Hello\")"
      ],
      "metadata": {
        "colab": {
          "base_uri": "https://localhost:8080/"
        },
        "id": "RyAUh6_v7qt1",
        "outputId": "23c87eb6-ac24-40d3-e26f-9e5f201b9cbf"
      },
      "execution_count": 1,
      "outputs": [
        {
          "output_type": "stream",
          "name": "stdout",
          "text": [
            "Hello\n"
          ]
        }
      ]
    },
    {
      "cell_type": "code",
      "source": [
        "a = 10.5\n",
        "if a == 10:\n",
        "   print(\"Hello\")\n",
        "else:\n",
        "    print(\"Hi\")\n"
      ],
      "metadata": {
        "colab": {
          "base_uri": "https://localhost:8080/"
        },
        "id": "28QP6DhC8UGG",
        "outputId": "bcd78d3c-9033-4e85-f4fd-18110d72797b"
      },
      "execution_count": 5,
      "outputs": [
        {
          "output_type": "stream",
          "name": "stdout",
          "text": [
            "Hi\n"
          ]
        }
      ]
    },
    {
      "cell_type": "code",
      "source": [
        "a = int(input(\"Enter a <0 or 0 or >0\"))\n",
        "if a == 0:\n",
        "  print(\"a is zero \")\n",
        "elif a < 0:\n",
        "  print(\"a is less than 0\")\n",
        "else:\n",
        "  print(\"a is greater than 0\")"
      ],
      "metadata": {
        "colab": {
          "base_uri": "https://localhost:8080/"
        },
        "id": "JoEV8vXH8nK_",
        "outputId": "7fda29fa-ef1c-429a-fbc6-9c5a9551afc3"
      },
      "execution_count": 9,
      "outputs": [
        {
          "output_type": "stream",
          "name": "stdout",
          "text": [
            "Enter a <0 or 0 or >00\n",
            "a is zero \n"
          ]
        }
      ]
    },
    {
      "cell_type": "code",
      "source": [
        "a = 100\n",
        "if not a:\n",
        "  print(\"Hello\")\n",
        "else:\n",
        "  print(\"Hi\")"
      ],
      "metadata": {
        "colab": {
          "base_uri": "https://localhost:8080/"
        },
        "id": "cKq_VpDB9M52",
        "outputId": "57602a77-f0e1-40cd-a316-ca8414f231d5"
      },
      "execution_count": 10,
      "outputs": [
        {
          "output_type": "stream",
          "name": "stdout",
          "text": [
            "Hi\n"
          ]
        }
      ]
    },
    {
      "cell_type": "code",
      "source": [
        "a = 100\n",
        "if a: # Non zero value (positive or negative) will be treated as True \n",
        "  print(\"Hello\")\n",
        "else:\n",
        "  print(\"Hi\")"
      ],
      "metadata": {
        "colab": {
          "base_uri": "https://localhost:8080/"
        },
        "outputId": "ebbe303c-1d88-405f-dfb5-e11673169dbe",
        "id": "gO9V3P1y9b3i"
      },
      "execution_count": 12,
      "outputs": [
        {
          "output_type": "stream",
          "name": "stdout",
          "text": [
            "Hello\n"
          ]
        }
      ]
    },
    {
      "cell_type": "code",
      "source": [
        "a = -100\n",
        "if a: # Non zero value (positive or negative) will be treated as True \n",
        "  print(\"Hello\")\n",
        "else:\n",
        "  print(\"Hi\")"
      ],
      "metadata": {
        "colab": {
          "base_uri": "https://localhost:8080/"
        },
        "outputId": "11a16e3b-3351-406a-9972-fe585c006b69",
        "id": "bDSNlTbO9pzc"
      },
      "execution_count": 13,
      "outputs": [
        {
          "output_type": "stream",
          "name": "stdout",
          "text": [
            "Hello\n"
          ]
        }
      ]
    },
    {
      "cell_type": "code",
      "source": [
        "a = 0\n",
        "if a: # zero value will be treated as False \n",
        "  print(\"Hello\")\n",
        "else:\n",
        "  print(\"Hi\")"
      ],
      "metadata": {
        "colab": {
          "base_uri": "https://localhost:8080/"
        },
        "outputId": "d4becb09-5d65-4f24-8a25-c69a60092ff3",
        "id": "1VECN79B9xX8"
      },
      "execution_count": 14,
      "outputs": [
        {
          "output_type": "stream",
          "name": "stdout",
          "text": [
            "Hi\n"
          ]
        }
      ]
    },
    {
      "cell_type": "code",
      "source": [
        "if None: # None will be treated as False \n",
        "  print(\"Hello\")\n",
        "else:\n",
        "  print(\"Hi\")"
      ],
      "metadata": {
        "colab": {
          "base_uri": "https://localhost:8080/"
        },
        "outputId": "44f95370-1490-4097-bd55-625491ea5730",
        "id": "mwyr4ZXp96Uv"
      },
      "execution_count": 15,
      "outputs": [
        {
          "output_type": "stream",
          "name": "stdout",
          "text": [
            "Hi\n"
          ]
        }
      ]
    },
    {
      "cell_type": "markdown",
      "source": [
        "0 None False --> False\n",
        "\n",
        "Positive or Negative Value --> True"
      ],
      "metadata": {
        "id": "TKs_woJ7-Hzq"
      }
    },
    {
      "cell_type": "markdown",
      "source": [
        "**# Program to find biggest of two numbers**"
      ],
      "metadata": {
        "id": "-OMZWE-_-tpz"
      }
    },
    {
      "cell_type": "code",
      "source": [
        "a = int(input(\"Enter avalue of a \"))\n",
        "b = int(input(\"Enter avalue of b \"))\n",
        "if a > b :\n",
        "  print(f\"{a} is Bigger\")\n",
        "else:\n",
        "  print(f\"{b} is Bigger\")"
      ],
      "metadata": {
        "colab": {
          "base_uri": "https://localhost:8080/"
        },
        "id": "Kr_eW05V-xgk",
        "outputId": "a06bdf68-35e8-42a7-cc9c-7faf9285eb33"
      },
      "execution_count": 16,
      "outputs": [
        {
          "output_type": "stream",
          "name": "stdout",
          "text": [
            "Enter avalue of a15\n",
            "Enter avalue of b25\n",
            "25 is Bigger\n"
          ]
        }
      ]
    },
    {
      "cell_type": "markdown",
      "source": [
        "**#Program to find biggest of three numbers**"
      ],
      "metadata": {
        "id": "bXeDI2V9_J3g"
      }
    },
    {
      "cell_type": "code",
      "source": [
        "a = int(input(\"Enter avalue of a \"))\n",
        "b = int(input(\"Enter avalue of b \"))\n",
        "c = int(input(\"Enter avalue of c \"))\n",
        "if a > b :\n",
        "  if a > c:\n",
        "    print(f\"{a} is Bigger\")\n",
        "  else:\n",
        "    print(f\"{c} is Bigger\")\n",
        "else:\n",
        "  if b > c:\n",
        "    print(f\"{b} is Bigger\")\n",
        "  else:\n",
        "    print(f\"{c} is Bigger\")"
      ],
      "metadata": {
        "colab": {
          "base_uri": "https://localhost:8080/"
        },
        "id": "qgeSepSP_Jmw",
        "outputId": "77337496-b6ef-44da-e118-5bd4de1e291b"
      },
      "execution_count": 21,
      "outputs": [
        {
          "output_type": "stream",
          "name": "stdout",
          "text": [
            "Enter avalue of a 4\n",
            "Enter avalue of b 2\n",
            "Enter avalue of c 3\n",
            "4 is Bigger\n"
          ]
        }
      ]
    },
    {
      "cell_type": "code",
      "source": [
        "a = int(input(\"Enter avalue of a \"))\n",
        "b = int(input(\"Enter avalue of b \"))\n",
        "c = int(input(\"Enter avalue of c \"))\n",
        "if a > b and a > c:\n",
        "    largest = a\n",
        "elif b > c:\n",
        "  largest = b\n",
        "else:\n",
        "  largest = c\n",
        "\n",
        "print(f\"{largest} is Bigger\")\n"
      ],
      "metadata": {
        "colab": {
          "base_uri": "https://localhost:8080/"
        },
        "id": "LUGQp0Ox_3go",
        "outputId": "c3c30b05-2f4d-4231-e72a-c745382c32c3"
      },
      "execution_count": 26,
      "outputs": [
        {
          "output_type": "stream",
          "name": "stdout",
          "text": [
            "Enter avalue of a 17\n",
            "Enter avalue of b 19\n",
            "Enter avalue of c 12\n",
            "19 is Bigger\n"
          ]
        }
      ]
    }
  ]
}