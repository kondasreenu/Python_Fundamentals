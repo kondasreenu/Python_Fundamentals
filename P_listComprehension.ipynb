{
  "nbformat": 4,
  "nbformat_minor": 0,
  "metadata": {
    "colab": {
      "name": "P_listComprehension.ipynb",
      "provenance": [],
      "collapsed_sections": [],
      "authorship_tag": "ABX9TyM6EiIo58GQPnHtSjtV1xja",
      "include_colab_link": true
    },
    "kernelspec": {
      "name": "python3",
      "display_name": "Python 3"
    },
    "language_info": {
      "name": "python"
    }
  },
  "cells": [
    {
      "cell_type": "markdown",
      "metadata": {
        "id": "view-in-github",
        "colab_type": "text"
      },
      "source": [
        "<a href=\"https://colab.research.google.com/github/kondasreenu/Python_Fundamentals/blob/main/P_listComprehension.ipynb\" target=\"_parent\"><img src=\"https://colab.research.google.com/assets/colab-badge.svg\" alt=\"Open In Colab\"/></a>"
      ]
    },
    {
      "cell_type": "markdown",
      "source": [
        "#List Comprehensions\n",
        "\n",
        "List comprehensions provide a **concise way to create lists.** \n",
        "\n",
        "One of the Python language’s most distinctive feature, which can be used to create powerful functionality within a single line of code.\n",
        "\n",
        "**Common applications:**\n",
        "\n",
        "To make new lists where each element is the result of some operations applied to each member of another sequence or iterable, or to create a subsequence of those elements that satisfy a certain condition"
      ],
      "metadata": {
        "id": "lVpwXgrz-38l"
      }
    },
    {
      "cell_type": "code",
      "execution_count": 1,
      "metadata": {
        "colab": {
          "base_uri": "https://localhost:8080/"
        },
        "id": "MXDB3skO-yUD",
        "outputId": "0ee1d812-ec64-4c65-d911-401cdedb4417"
      },
      "outputs": [
        {
          "output_type": "stream",
          "name": "stdout",
          "text": [
            "[0, 1, 4, 9, 16, 25, 36, 49, 64, 81]\n"
          ]
        }
      ],
      "source": [
        "# Code to create a list of Squares\n",
        "lst = []\n",
        "for i in range(10):\n",
        "  lst.append(i*i) #lst.append(i**2)\n",
        "print(lst)"
      ]
    },
    {
      "cell_type": "code",
      "source": [
        "#Using List Comprehension\n",
        "\n",
        "lst1 = [i*i for i in range(10)] #Single Line of code\n",
        "print(lst1)\n",
        "\n",
        "\n",
        "print([i*i for i in range(6)]) \n",
        "\n",
        "\n",
        "print(set([i*i for i in range(6)])) #Output is Set\n",
        "\n",
        "\n",
        "print(tuple([i*i for i in range(6)])) #Output is tuple"
      ],
      "metadata": {
        "colab": {
          "base_uri": "https://localhost:8080/"
        },
        "id": "lu_2faJPADJh",
        "outputId": "ee27fea6-25b6-430a-ab47-e2991a949d53"
      },
      "execution_count": 5,
      "outputs": [
        {
          "output_type": "stream",
          "name": "stdout",
          "text": [
            "[0, 1, 4, 9, 16, 25, 36, 49, 64, 81]\n",
            "[0, 1, 4, 9, 16, 25]\n",
            "{0, 1, 4, 9, 16, 25}\n",
            "(0, 1, 4, 9, 16, 25)\n"
          ]
        }
      ]
    },
    {
      "cell_type": "markdown",
      "source": [
        "#Syntax\n",
        "\n",
        "#new_list = [expression for member in iterable]\n",
        "\n",
        "**Every list comprehension in Python includes three elements**:\n",
        "\n",
        "1. **expression** is the member itself, a call to a method, or any other valid expression that returns a value.\n",
        "\n",
        " lst1 = [i*i for i in range(10)]\n",
        "\n",
        " Here, the expression is i * i\n",
        "\n",
        "2. **member** is the object or value in the list or iterable. \n",
        "\n",
        " lst1 = [i*i for i in range(10)]\n",
        "\n",
        " Here, the member value is i.\n",
        "\n",
        "3. **iterable** is a list, set, sequence, generator, or any other object that can return its elements one at a time. \n",
        "\n",
        " lst1 = [i*i for i in range(10)]\n",
        "\n",
        " Here, the iterable is range(10).\n",
        "\n",
        "\n",
        " **Important Point:**\n",
        "\n",
        " **No Colon (:)** at the end of for statement\n",
        "\n",
        " List comprehension in Python **returns a list.**"
      ],
      "metadata": {
        "id": "K0Ir_VXbAl_Y"
      }
    },
    {
      "cell_type": "markdown",
      "source": [
        "**Advantage of List Comprehension  over usage of general approach**\n",
        "\n",
        "List comprehensions are also more declarative than loops, which means they’re easier to read and understand. \n",
        "\n",
        "Loops require you to focus on how the list is created. You have to manually create an empty list, loop over the elements, and add each of them to the end of the list. \n",
        "\n",
        "With a list comprehension in Python, focus on **what you want to go** in the list and trust that Python will take care of how the list construction takes place."
      ],
      "metadata": {
        "id": "SERmHZ5tEVnD"
      }
    },
    {
      "cell_type": "markdown",
      "source": [
        "#**List Comprehension with conditional logic**\n",
        "\n",
        "\n",
        "\n",
        "lst = [expression for member in iterable (if conditional)]\n",
        "\n",
        "\n",
        "Conditionals are allow list comprehensions to filter out unwanted values.\n",
        "\n"
      ],
      "metadata": {
        "id": "WPjLeG9iEutS"
      }
    },
    {
      "cell_type": "code",
      "source": [
        "lst2 = [(a, b) for a in [1,3,5] for b in [3,1,4] if a != b]\n",
        "print(lst2)\n",
        "\n",
        "\n",
        "lst3 = [(a, b) for a in [1,3,5] for b in [3,1,4] if a == b]\n",
        "print(lst3)\n",
        "\n",
        "\n",
        "str1 = \"hyderabad\"\n",
        "str2 = \"secunderabad\"\n",
        "lst4 = [(a, b) for a in str1 for b in str2 if a == b] \n",
        "print(lst4)\n",
        "\n",
        "\n",
        "str1 = \"hyderabad\"\n",
        "str2 = \"secunderabad\"\n",
        "lst4 = [(a, b) for a in str1 for b in str2 if a != b]\n",
        "print(lst4)\n",
        "\n"
      ],
      "metadata": {
        "colab": {
          "base_uri": "https://localhost:8080/"
        },
        "id": "bRsZUsQDFkig",
        "outputId": "6520d006-7b26-4933-b893-4af0ec1dd8b3"
      },
      "execution_count": 12,
      "outputs": [
        {
          "output_type": "stream",
          "name": "stdout",
          "text": [
            "[(1, 3), (1, 4), (3, 1), (3, 4), (5, 3), (5, 1), (5, 4)]\n",
            "[(1, 1), (3, 3)]\n",
            "[('d', 'd'), ('d', 'd'), ('e', 'e'), ('e', 'e'), ('r', 'r'), ('a', 'a'), ('a', 'a'), ('b', 'b'), ('a', 'a'), ('a', 'a'), ('d', 'd'), ('d', 'd')]\n",
            "[('h', 's'), ('h', 'e'), ('h', 'c'), ('h', 'u'), ('h', 'n'), ('h', 'd'), ('h', 'e'), ('h', 'r'), ('h', 'a'), ('h', 'b'), ('h', 'a'), ('h', 'd'), ('y', 's'), ('y', 'e'), ('y', 'c'), ('y', 'u'), ('y', 'n'), ('y', 'd'), ('y', 'e'), ('y', 'r'), ('y', 'a'), ('y', 'b'), ('y', 'a'), ('y', 'd'), ('d', 's'), ('d', 'e'), ('d', 'c'), ('d', 'u'), ('d', 'n'), ('d', 'e'), ('d', 'r'), ('d', 'a'), ('d', 'b'), ('d', 'a'), ('e', 's'), ('e', 'c'), ('e', 'u'), ('e', 'n'), ('e', 'd'), ('e', 'r'), ('e', 'a'), ('e', 'b'), ('e', 'a'), ('e', 'd'), ('r', 's'), ('r', 'e'), ('r', 'c'), ('r', 'u'), ('r', 'n'), ('r', 'd'), ('r', 'e'), ('r', 'a'), ('r', 'b'), ('r', 'a'), ('r', 'd'), ('a', 's'), ('a', 'e'), ('a', 'c'), ('a', 'u'), ('a', 'n'), ('a', 'd'), ('a', 'e'), ('a', 'r'), ('a', 'b'), ('a', 'd'), ('b', 's'), ('b', 'e'), ('b', 'c'), ('b', 'u'), ('b', 'n'), ('b', 'd'), ('b', 'e'), ('b', 'r'), ('b', 'a'), ('b', 'a'), ('b', 'd'), ('a', 's'), ('a', 'e'), ('a', 'c'), ('a', 'u'), ('a', 'n'), ('a', 'd'), ('a', 'e'), ('a', 'r'), ('a', 'b'), ('a', 'd'), ('d', 's'), ('d', 'e'), ('d', 'c'), ('d', 'u'), ('d', 'n'), ('d', 'e'), ('d', 'r'), ('d', 'a'), ('d', 'b'), ('d', 'a')]\n"
          ]
        }
      ]
    },
    {
      "cell_type": "code",
      "source": [
        "#Equivalent code for above without using List Comprehension\n",
        "lst2 = [(a, b) for a in [1,3,5] for b in [3,1,4] if a != b]\n",
        "print(lst2)\n",
        "\n",
        "\n",
        "lst5 = []\n",
        "\n",
        "for a in [1,3,5]:\n",
        "  for b in [3,1,4]:\n",
        "    if(a!=b):\n",
        "      lst5.append((a,b)) #parenthesis for tuple (a,b)\n",
        "\n",
        "print(lst5)\n",
        "\n",
        "\n",
        "\n"
      ],
      "metadata": {
        "colab": {
          "base_uri": "https://localhost:8080/"
        },
        "id": "iBCd-QN-IFbu",
        "outputId": "1e4fc58a-bb74-4db9-c01f-f216b07033df"
      },
      "execution_count": 13,
      "outputs": [
        {
          "output_type": "stream",
          "name": "stdout",
          "text": [
            "[(1, 3), (1, 4), (3, 1), (3, 4), (5, 3), (5, 1), (5, 4)]\n",
            "[(1, 3), (1, 4), (3, 1), (3, 4), (5, 3), (5, 1), (5, 4)]\n"
          ]
        }
      ]
    },
    {
      "cell_type": "code",
      "source": [
        "#Code to find vowels in a Sentence\n",
        "\n",
        "str1 = \"Hello I am learning Python List Comprehension\"\n",
        "\n",
        "vowels = [c for c in str1 if c in 'aeiou']\n",
        "\n",
        "print(vowels) #Observe the output I is missing\n",
        "\n",
        "vowels1 = [c for c in str1 if c in 'aeiou' or c in 'AEIOU']\n",
        "\n",
        "print(vowels1) #Observe the output I\n",
        "\n",
        "#Code to find consonants in a Sentence\n",
        "str1 = \"Hello I am learning Python List Comprehension\"\n",
        "consonants = [c for c in str1 if c not in 'aeiou' and c not in 'AEIOU' and c!=' ']\n",
        "print(consonants)"
      ],
      "metadata": {
        "colab": {
          "base_uri": "https://localhost:8080/"
        },
        "id": "nEjCk6HSItMM",
        "outputId": "b65090f3-532d-4eb5-a82e-418a1f1caf3b"
      },
      "execution_count": 23,
      "outputs": [
        {
          "output_type": "stream",
          "name": "stdout",
          "text": [
            "['e', 'o', 'a', 'e', 'a', 'i', 'o', 'i', 'o', 'e', 'e', 'i', 'o']\n",
            "['e', 'o', 'I', 'a', 'e', 'a', 'i', 'o', 'i', 'o', 'e', 'e', 'i', 'o']\n",
            "['H', 'l', 'l', 'm', 'l', 'r', 'n', 'n', 'g', 'P', 'y', 't', 'h', 'n', 'L', 's', 't', 'C', 'm', 'p', 'r', 'h', 'n', 's', 'n']\n"
          ]
        }
      ]
    },
    {
      "cell_type": "code",
      "source": [
        "#Function calls in List Comprehension\n",
        "def is_consonant(letter):\n",
        "   vowels = 'aeiou'\n",
        "   return letter.isalpha() and letter.lower() not in vowels\n",
        "\n",
        "str1 = \"Hello I am learning Python List Comprehension\"\n",
        "consonants = [i for i in str1 if is_consonant(i)]\n",
        "print(consonants)"
      ],
      "metadata": {
        "colab": {
          "base_uri": "https://localhost:8080/"
        },
        "id": "ZtjmS8w0Mlp2",
        "outputId": "b8ba53df-a300-47ba-8614-5ef54f9fe34d"
      },
      "execution_count": 30,
      "outputs": [
        {
          "output_type": "stream",
          "name": "stdout",
          "text": [
            "['H', 'l', 'l', 'm', 'l', 'r', 'n', 'n', 'g', 'P', 'y', 't', 'h', 'n', 'L', 's', 't', 'C', 'm', 'p', 'r', 'h', 'n', 's', 'n']\n"
          ]
        }
      ]
    },
    {
      "cell_type": "code",
      "source": [
        "#Conditional statement as part of expression\n",
        "#new_list = [expression for member in iterable]\n",
        "\n"
      ],
      "metadata": {
        "id": "aZ21Xw2nNDQz"
      },
      "execution_count": null,
      "outputs": []
    },
    {
      "cell_type": "markdown",
      "source": [
        "**#Conditional statement as part of expression**\n",
        "\n",
        "Condition statement -- filters out some elements in list\n",
        "\n",
        "Situtation: You want to change is a member value \n",
        "\n",
        "Given a list l = [1,2,3,-4,5,8,9,-2]\n",
        "\n",
        "Change all negative values to zeros in the list\n",
        "\n",
        "l = [1,2,3,0,5,8,9,0]\n",
        "\n",
        "To change a member value instead of filtering it out\n",
        "\n",
        "\n",
        "\n",
        "#new_list = [expression conditional for member in iterable]"
      ],
      "metadata": {
        "id": "r1wGqnZiNQUF"
      }
    },
    {
      "cell_type": "code",
      "source": [
        "#conditional statement as part of expression\n",
        "\n",
        "lst6 = [1,2,3,-4,5,8,9,-2]\n",
        "\n",
        "print(lst6)\n",
        "\n",
        "lst7 = [i if i >= 0 else 0 for i in lst6] #output the value of i if the number is positive, but to change i to 0 if the number is negative. \n",
        "\n",
        "print(lst7)\n"
      ],
      "metadata": {
        "colab": {
          "base_uri": "https://localhost:8080/"
        },
        "id": "O0asVbq4N_wB",
        "outputId": "4e986da4-aceb-486b-e1ec-a238bb2134f6"
      },
      "execution_count": 31,
      "outputs": [
        {
          "output_type": "stream",
          "name": "stdout",
          "text": [
            "[1, 2, 3, -4, 5, 8, 9, -2]\n",
            "[1, 2, 3, 0, 5, 8, 9, 0]\n"
          ]
        }
      ]
    },
    {
      "cell_type": "code",
      "source": [
        "#same operation using functions\n",
        "def value_update(value):\n",
        "  return value if value > 0 else 0\n",
        "\n",
        "lst6 = [1,2,3,-4,5,8,9,-2]\n",
        "print(lst6)\n",
        "\n",
        "lst7 = [value_update(i) for i in lst6] #output the value of i if the number is positive, but to change i to 0 if the number is negative. \n",
        "\n",
        "print(lst7)"
      ],
      "metadata": {
        "colab": {
          "base_uri": "https://localhost:8080/"
        },
        "id": "geXw2pyOO24w",
        "outputId": "01ae4b29-856f-41e1-ddb3-0e7cc6cb7fc5"
      },
      "execution_count": 32,
      "outputs": [
        {
          "output_type": "stream",
          "name": "stdout",
          "text": [
            "[1, 2, 3, -4, 5, 8, 9, -2]\n",
            "[1, 2, 3, 0, 5, 8, 9, 0]\n"
          ]
        }
      ]
    },
    {
      "cell_type": "code",
      "source": [
        ""
      ],
      "metadata": {
        "id": "nqMjSs47O2sf"
      },
      "execution_count": null,
      "outputs": []
    },
    {
      "cell_type": "code",
      "source": [
        "#Code to find vowels in a Sentence\n",
        "\n",
        "str1 = \"Hello I am learning Python List Comprehension\"\n",
        "\n",
        "vowels = [c for c in str1 if c in 'aeiou'] # list is output here\n",
        "print(vowels)\n",
        "\n",
        "#set Comprehension\n",
        "vowels = {c for c in str1 if c in 'aeiou'} # set is output here\n",
        "print(vowels) #unique output, no duplciates\n"
      ],
      "metadata": {
        "colab": {
          "base_uri": "https://localhost:8080/"
        },
        "id": "ZidpFuT9Qr0N",
        "outputId": "ee6b94f1-19c8-4c3f-d3de-f5cc4d2765f1"
      },
      "execution_count": 36,
      "outputs": [
        {
          "output_type": "stream",
          "name": "stdout",
          "text": [
            "['e', 'o', 'a', 'e', 'a', 'i', 'o', 'i', 'o', 'e', 'e', 'i', 'o']\n",
            "{'e', 'a', 'i', 'o'}\n"
          ]
        }
      ]
    },
    {
      "cell_type": "code",
      "source": [
        "#Dictionary Comprehension\n",
        "# use curly braces ({}) as well as a key-value pair (i: i * i) in your expression.\n",
        "sqaures = {i:i*i for i in range(10)}\n",
        "print(sqaures)"
      ],
      "metadata": {
        "colab": {
          "base_uri": "https://localhost:8080/"
        },
        "id": "cc7FFoVcRHkt",
        "outputId": "83c392ab-1517-4c74-9f7e-2f069e79c6d3"
      },
      "execution_count": 38,
      "outputs": [
        {
          "output_type": "stream",
          "name": "stdout",
          "text": [
            "{0: 0, 1: 1, 2: 4, 3: 9, 4: 16, 5: 25, 6: 36, 7: 49, 8: 64, 9: 81}\n"
          ]
        }
      ]
    },
    {
      "cell_type": "code",
      "source": [
        "# apply a function to all the elements\n",
        "lst8 = [1,2,3,-4,5,8,9,-2]\n",
        "print(lst8)\n",
        "lst9 = [abs(x) for x in lst8]\n",
        "print(lst9)"
      ],
      "metadata": {
        "colab": {
          "base_uri": "https://localhost:8080/"
        },
        "id": "N_9P6ClEbWVY",
        "outputId": "be9c5356-6be6-4503-d440-9da537a3ba47"
      },
      "execution_count": 39,
      "outputs": [
        {
          "output_type": "stream",
          "name": "stdout",
          "text": [
            "[1, 2, 3, -4, 5, 8, 9, -2]\n",
            "[1, 2, 3, 4, 5, 8, 9, 2]\n"
          ]
        }
      ]
    },
    {
      "cell_type": "markdown",
      "source": [
        "#**Nested List Comprehensions**\n",
        "\n",
        "The initial expression in a list comprehension can be any arbitrary expression, including another list comprehension.\n",
        "\n"
      ],
      "metadata": {
        "id": "sivgyF11cX_2"
      }
    },
    {
      "cell_type": "code",
      "source": [
        "matrix = [\n",
        "  [1, 2, 3, 4],\n",
        "  [5, 6, 7, 8],\n",
        "  [9, 10, 11, 12],\n",
        "]\n",
        "print(matrix)"
      ],
      "metadata": {
        "colab": {
          "base_uri": "https://localhost:8080/"
        },
        "id": "RfpcL9yecknj",
        "outputId": "06a933ac-7a52-4553-dd78-a0c0627debc5"
      },
      "execution_count": 47,
      "outputs": [
        {
          "output_type": "stream",
          "name": "stdout",
          "text": [
            "[[1, 2, 3, 4], [5, 6, 7, 8], [9, 10, 11, 12]]\n"
          ]
        }
      ]
    },
    {
      "cell_type": "code",
      "source": [
        "#Code to transposre the matrix\n",
        "matrix = [\n",
        "  [1, 2, 3, 4],\n",
        "  [5, 6, 7, 8],\n",
        "  [9, 10, 11, 12],\n",
        "]\n",
        "print(matrix)\n",
        "\n",
        "transposed = []\n",
        "for i in range(4):\n",
        "# the following 3 lines implement the nested listcomp\n",
        "  transposed_row = []\n",
        "  for row in matrix:\n",
        "    transposed_row.append(row[i])\n",
        "  transposed.append(transposed_row)\n",
        "\n",
        "print(transposed)"
      ],
      "metadata": {
        "colab": {
          "base_uri": "https://localhost:8080/"
        },
        "id": "UGNCJLmDcuCk",
        "outputId": "57d9a694-cac3-4e09-e558-6f28c5031b6f"
      },
      "execution_count": 50,
      "outputs": [
        {
          "output_type": "stream",
          "name": "stdout",
          "text": [
            "[[1, 2, 3, 4], [5, 6, 7, 8], [9, 10, 11, 12]]\n",
            "[[1, 5, 9], [2, 6, 10], [3, 7, 11], [4, 8, 12]]\n"
          ]
        }
      ]
    },
    {
      "cell_type": "code",
      "source": [
        "#Code to transposre the matrix using list comprehension\n",
        "matrix = [\n",
        "  [1, 2, 3, 4],\n",
        "  [5, 6, 7, 8],\n",
        "  [9, 10, 11, 12],\n",
        "]\n",
        "print(matrix)\n",
        "transposed = []\n",
        "for i in range(4):\n",
        "  transposed.append([row[i] for row in matrix])\n",
        "print(transposed)"
      ],
      "metadata": {
        "colab": {
          "base_uri": "https://localhost:8080/"
        },
        "id": "SY11xWHKdWtr",
        "outputId": "f987bd99-9c0a-42e3-ee8d-e56a22fa48dc"
      },
      "execution_count": 51,
      "outputs": [
        {
          "output_type": "stream",
          "name": "stdout",
          "text": [
            "[[1, 2, 3, 4], [5, 6, 7, 8], [9, 10, 11, 12]]\n",
            "[[1, 5, 9], [2, 6, 10], [3, 7, 11], [4, 8, 12]]\n"
          ]
        }
      ]
    },
    {
      "cell_type": "code",
      "source": [
        "#Code to transposre the matrix using list comprehension more reduction\n",
        "matrix = [\n",
        "  [1, 2, 3, 4],\n",
        "  [5, 6, 7, 8],\n",
        "  [9, 10, 11, 12],\n",
        "]\n",
        "print(matrix)\n",
        "transposed = [[row[i] for row in matrix] for i in range(4)] #Single line\n",
        "print(transposed)"
      ],
      "metadata": {
        "colab": {
          "base_uri": "https://localhost:8080/"
        },
        "id": "ajbyl6ffd9_i",
        "outputId": "0d4ebab7-7ed3-4e9c-bf18-c1a496e0e64f"
      },
      "execution_count": 52,
      "outputs": [
        {
          "output_type": "stream",
          "name": "stdout",
          "text": [
            "[[1, 2, 3, 4], [5, 6, 7, 8], [9, 10, 11, 12]]\n",
            "[[1, 5, 9], [2, 6, 10], [3, 7, 11], [4, 8, 12]]\n"
          ]
        }
      ]
    },
    {
      "cell_type": "code",
      "source": [
        "#In the real world, prefer built-in functions to complex flow statements. \n",
        "#The zip() function would do a great job for this use case:\n",
        "matrix = [\n",
        "  [1, 2, 3, 4],\n",
        "  [5, 6, 7, 8],\n",
        "  [9, 10, 11, 12],\n",
        "]\n",
        "list(zip(*matrix))"
      ],
      "metadata": {
        "colab": {
          "base_uri": "https://localhost:8080/"
        },
        "id": "TwHQgP_9eSBk",
        "outputId": "91fe104c-9e4c-4d78-9739-ec8f04d7741b"
      },
      "execution_count": 53,
      "outputs": [
        {
          "output_type": "execute_result",
          "data": {
            "text/plain": [
              "[(1, 5, 9), (2, 6, 10), (3, 7, 11), (4, 8, 12)]"
            ]
          },
          "metadata": {},
          "execution_count": 53
        }
      ]
    },
    {
      "cell_type": "code",
      "source": [
        "# flatten a list using a listcomp with two 'for'\n",
        "vec = [[1,2,3], [4,5,6], [7,8,9]]\n",
        "print(vec)\n",
        "v1 = [num for elem in vec for num in elem]\n",
        "print(v1)"
      ],
      "metadata": {
        "colab": {
          "base_uri": "https://localhost:8080/"
        },
        "id": "sFqOcTdGbvf2",
        "outputId": "778be219-4e3c-4c02-9b62-304df2306c49"
      },
      "execution_count": 45,
      "outputs": [
        {
          "output_type": "stream",
          "name": "stdout",
          "text": [
            "[[1, 2, 3], [4, 5, 6], [7, 8, 9]]\n",
            "[1, 2, 3, 4, 5, 6, 7, 8, 9]\n"
          ]
        }
      ]
    },
    {
      "cell_type": "code",
      "source": [
        "#Create  a matrix\n",
        "matrix = [[i for i in range(5)] for _ in range(6)]\n",
        "matrix\n",
        "\n",
        "#The outer list comprehension [... for _ in range(6)] creates six rows, \n",
        "#while the inner list comprehension [i for i in range(5)] fills each of these rows with values."
      ],
      "metadata": {
        "colab": {
          "base_uri": "https://localhost:8080/"
        },
        "id": "XA-s1tFleiHv",
        "outputId": "8460ff06-4338-41eb-af1c-30605e8b515a"
      },
      "execution_count": 58,
      "outputs": [
        {
          "output_type": "execute_result",
          "data": {
            "text/plain": [
              "[[0, 1, 2, 3, 4],\n",
              " [0, 1, 2, 3, 4],\n",
              " [0, 1, 2, 3, 4],\n",
              " [0, 1, 2, 3, 4],\n",
              " [0, 1, 2, 3, 4],\n",
              " [0, 1, 2, 3, 4]]"
            ]
          },
          "metadata": {},
          "execution_count": 58
        }
      ]
    },
    {
      "cell_type": "code",
      "source": [
        "matrix = [ \n",
        "          [0, 0, 0], \n",
        "          [1, 1, 1],\n",
        "          [2, 2, 2],\n",
        "        ]\n",
        "print(matrix)\n",
        "\n",
        "flat = [num for row in matrix for num in row]\n",
        "print(flat)"
      ],
      "metadata": {
        "colab": {
          "base_uri": "https://localhost:8080/"
        },
        "id": "y0-TB2ZjfYHD",
        "outputId": "0f8ba8ef-273f-42a1-c57f-70ab76cef826"
      },
      "execution_count": 64,
      "outputs": [
        {
          "output_type": "stream",
          "name": "stdout",
          "text": [
            "[[0, 0, 0], [1, 1, 1], [2, 2, 2]]\n",
            "[0, 0, 0, 1, 1, 1, 2, 2, 2]\n"
          ]
        }
      ]
    },
    {
      "cell_type": "markdown",
      "source": [
        "#understanding of above logic\n",
        "\n",
        "\n",
        "\n",
        "matrix = [ \n",
        "\n",
        "          [0, 0, 0], \n",
        "\n",
        "          [1, 1, 1],\n",
        "\n",
        "          [2, 2, 2],\n",
        "\n",
        "        ]\n",
        "\n",
        "print(matrix)\n",
        "\n",
        "flat = []\n",
        "\n",
        "#flat = [num for row in matrix for num in row]\n",
        "\n",
        "for row in matrix: #outer loop\n",
        "\n",
        "  for num in row: #inner loop\n",
        "\n",
        "    flat.append(num)\n",
        "\n",
        "print(matrix)\n",
        "\n",
        "\n"
      ],
      "metadata": {
        "id": "BTlki9isf1zn"
      }
    }
  ]
}