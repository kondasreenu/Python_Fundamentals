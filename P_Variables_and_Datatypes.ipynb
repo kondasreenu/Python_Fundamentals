{
  "nbformat": 4,
  "nbformat_minor": 0,
  "metadata": {
    "kernelspec": {
      "display_name": "Python 3",
      "name": "python3"
    },
    "language_info": {
      "name": "python"
    },
    "colab": {
      "name": "P_Variables and Datatypes.ipynb",
      "provenance": [],
      "collapsed_sections": [],
      "include_colab_link": true
    }
  },
  "cells": [
    {
      "cell_type": "markdown",
      "metadata": {
        "id": "view-in-github",
        "colab_type": "text"
      },
      "source": [
        "<a href=\"https://colab.research.google.com/github/kondasreenu/Python_Fundamentals/blob/main/P_Variables_and_Datatypes.ipynb\" target=\"_parent\"><img src=\"https://colab.research.google.com/assets/colab-badge.svg\" alt=\"Open In Colab\"/></a>"
      ]
    },
    {
      "cell_type": "markdown",
      "metadata": {
        "id": "hKd6pbVWjAhO"
      },
      "source": [
        "# Variables"
      ]
    },
    {
      "cell_type": "markdown",
      "metadata": {
        "id": "Xci3KHBejAhQ"
      },
      "source": [
        "A variable is initialized (or created) the first time a value is stored in it. \n",
        "\n",
        "When a variable is assigned a new value, the old value is forgotten, this is called **overwriting** the variable.\n",
        "\n",
        "**Variable Names**\n",
        "\n",
        "A good variable name describes the data it contains. They are given unique names to differentiate between different memory locations. The rules for writing a variable name is same as the rules for writing identifiers in Python.\n",
        "\n",
        "**Python does have some naming restrictions.**\n",
        "\n",
        "•\tIt can be only one word with no spaces.\n",
        "\n",
        "•\tIt can use only letters, numbers, and the underscore (_) character.\n",
        "\n",
        "•\tIt can’t begin with a number.\n",
        "\n",
        "•\tVariable names are case-sensitive\n",
        "\n",
        "•\tVariable name starting with an underscore (_) are considered as \"unuseful\".\n",
        "\n",
        "We don't need to declare a variable before using it. In Python, we simply assign a value to a variable and it will exist. We don't even have to declare the type of the variable. This is handled internally according to the type of value we assign to the variable."
      ]
    },
    {
      "cell_type": "markdown",
      "metadata": {
        "id": "X0eXBbyQjAhS"
      },
      "source": [
        "# Variable Assignments"
      ]
    },
    {
      "cell_type": "code",
      "metadata": {
        "id": "EmLqQ8LdjAhT"
      },
      "source": [
        "#We use the assignment operator (=) to assign values to a variable\n",
        "\n",
        "a = 10\n",
        "b = 5.5\n",
        "c = \"DS\""
      ],
      "execution_count": 1,
      "outputs": []
    },
    {
      "cell_type": "markdown",
      "metadata": {
        "id": "OmSXAyFWjAhZ"
      },
      "source": [
        "# Multiple Assignments"
      ]
    },
    {
      "cell_type": "code",
      "metadata": {
        "id": "TSdYQvngjAha"
      },
      "source": [
        "a, b, c = 10, 5.5, \"DS\""
      ],
      "execution_count": 2,
      "outputs": []
    },
    {
      "cell_type": "code",
      "metadata": {
        "id": "k4uwhrsojAhe"
      },
      "source": [
        "a = b = c = \"AI\" #assign the same value to multiple variables at once"
      ],
      "execution_count": 3,
      "outputs": []
    },
    {
      "cell_type": "markdown",
      "metadata": {
        "id": "LoRDnRcAjAhh"
      },
      "source": [
        "# Storage Locations\n",
        "\n",
        "Use id() to get the address of a variable"
      ]
    },
    {
      "cell_type": "code",
      "metadata": {
        "id": "N18ORoyqjAhi",
        "colab": {
          "base_uri": "https://localhost:8080/"
        },
        "outputId": "ae2cce9e-f6c9-4c5b-c86b-59664c3aa88e"
      },
      "source": [
        "x = 3\n",
        "\n",
        "print(id(x))               #print address of variable x"
      ],
      "execution_count": 5,
      "outputs": [
        {
          "output_type": "stream",
          "name": "stdout",
          "text": [
            "94586577119808\n"
          ]
        }
      ]
    },
    {
      "cell_type": "code",
      "metadata": {
        "id": "DzXApOnYjAhq",
        "colab": {
          "base_uri": "https://localhost:8080/"
        },
        "outputId": "bd89a749-5ecb-4edd-8efd-562cf477e1e7"
      },
      "source": [
        "y = 3\n",
        "\n",
        "print(id(y))               #print address of variable y"
      ],
      "execution_count": 6,
      "outputs": [
        {
          "output_type": "stream",
          "name": "stdout",
          "text": [
            "94586577119808\n"
          ]
        }
      ]
    },
    {
      "cell_type": "markdown",
      "metadata": {
        "id": "OJ2zfFRCjAhu"
      },
      "source": [
        "**Observation**:\n",
        "\n",
        "**x and y points to same memory location**\n",
        "    "
      ]
    },
    {
      "cell_type": "code",
      "metadata": {
        "id": "TmRjWWdkjAhv",
        "colab": {
          "base_uri": "https://localhost:8080/"
        },
        "outputId": "efbf601b-c0ee-4f4b-985d-d5a333ccde0e"
      },
      "source": [
        "y = 2 # change in value \n",
        "print(id(y))               #print address of variable y"
      ],
      "execution_count": 7,
      "outputs": [
        {
          "output_type": "stream",
          "name": "stdout",
          "text": [
            "94586577119776\n"
          ]
        }
      ]
    },
    {
      "cell_type": "markdown",
      "metadata": {
        "id": "8HgZqTvSjAh0"
      },
      "source": [
        "# Data Types "
      ]
    },
    {
      "cell_type": "markdown",
      "metadata": {
        "id": "ts-W3G1DjAh3"
      },
      "source": [
        "Every value in Python has a datatype. \n",
        "\n",
        "Since everything is ** an object** in Python programming, **data types are actually classes and variables are instance (object) of these classes.**"
      ]
    },
    {
      "cell_type": "markdown",
      "metadata": {
        "id": "lUrSkm7UjAh4"
      },
      "source": [
        "# Numbers"
      ]
    },
    {
      "cell_type": "markdown",
      "metadata": {
        "id": "H4_fLR0BjAiP"
      },
      "source": [
        "Integers, floating point numbers and complex numbers falls under Python numbers category. They are defined as int, float and complex class in Python.\n",
        "\n",
        "Use the **type()** function to know which class a variable or a value belongs to and the **isinstance()** function to check if an object belongs to a particular class."
      ]
    },
    {
      "cell_type": "code",
      "metadata": {
        "id": "WwLgel3TjAiR",
        "outputId": "61e1c524-029a-4979-f646-41fba5020b6a",
        "colab": {
          "base_uri": "https://localhost:8080/"
        }
      },
      "source": [
        "a = 15                               #data type is implicitly set to integer\n",
        "print(a, \" is of type\", type(a))"
      ],
      "execution_count": 8,
      "outputs": [
        {
          "output_type": "stream",
          "name": "stdout",
          "text": [
            "15  is of type <class 'int'>\n"
          ]
        }
      ]
    },
    {
      "cell_type": "code",
      "metadata": {
        "id": "VFmFyuKljAiY",
        "outputId": "c54c6001-eb9e-4008-8f15-ad819b5a2500",
        "colab": {
          "base_uri": "https://localhost:8080/"
        }
      },
      "source": [
        "a = 12.5                            #data type is changed to float\n",
        "print(a, \" is of type\", type(a))"
      ],
      "execution_count": 9,
      "outputs": [
        {
          "output_type": "stream",
          "name": "stdout",
          "text": [
            "12.5  is of type <class 'float'>\n"
          ]
        }
      ]
    },
    {
      "cell_type": "code",
      "metadata": {
        "id": "ylZA0ZPzjAig",
        "outputId": "31a6fb91-16c0-487f-b4be-55c1d099a4a8",
        "colab": {
          "base_uri": "https://localhost:8080/"
        }
      },
      "source": [
        "a = 11 + 12j                          #data type is changed to complex number\n",
        "print(a, \" is complex number?\") \n",
        "print(isinstance(1+2j, complex))"
      ],
      "execution_count": 10,
      "outputs": [
        {
          "output_type": "stream",
          "name": "stdout",
          "text": [
            "(11+12j)  is complex number?\n",
            "True\n"
          ]
        }
      ]
    },
    {
      "cell_type": "markdown",
      "metadata": {
        "id": "OzdVm2D-jAim"
      },
      "source": [
        "# Boolean"
      ]
    },
    {
      "cell_type": "markdown",
      "metadata": {
        "id": "JDaSahNgjAio"
      },
      "source": [
        " Boolean represents the truth values **False** and **True**\n",
        "\n",
        " Type is bool\n",
        "\n",
        " F in False and T in True are capital"
      ]
    },
    {
      "cell_type": "code",
      "metadata": {
        "id": "QcWk4rwnjAip",
        "outputId": "badf76c5-c03c-485a-c43c-0bd727f23766",
        "colab": {
          "base_uri": "https://localhost:8080/"
        }
      },
      "source": [
        "a = True                          #a is a boolean type\n",
        "print(a,type(a))"
      ],
      "execution_count": 12,
      "outputs": [
        {
          "output_type": "stream",
          "name": "stdout",
          "text": [
            "True <class 'bool'>\n"
          ]
        }
      ]
    },
    {
      "cell_type": "markdown",
      "metadata": {
        "id": "FlyZKNjVjAiz"
      },
      "source": [
        "# Python Strings"
      ]
    },
    {
      "cell_type": "markdown",
      "metadata": {
        "id": "by_In521jAjD"
      },
      "source": [
        "String is a sequence of Unicode characters (letters, numbers, and special characters).  \n",
        "\n",
        "Use single quotes or double quotes to represent strings. \n",
        "\n",
        "Multi-line strings can be denoted using triple quotes, ''' or \"\"\".\n",
        "\n",
        "Strings can be indexed - often synonymously called subscripted as well. \n",
        "\n",
        "Similar to C, the first character of a string has the index 0."
      ]
    },
    {
      "cell_type": "code",
      "metadata": {
        "id": "1gMkenFmjAjF",
        "outputId": "ba69e7c9-f257-44e7-a662-d42efe16f68e",
        "colab": {
          "base_uri": "https://localhost:8080/"
        }
      },
      "source": [
        "s = \"This is an Online Platform for Python\"\n",
        "print(s)"
      ],
      "execution_count": 21,
      "outputs": [
        {
          "output_type": "stream",
          "name": "stdout",
          "text": [
            "This is an Online Platform for Python\n"
          ]
        }
      ]
    },
    {
      "cell_type": "code",
      "metadata": {
        "id": "Pcf-sZ_UjAjM",
        "outputId": "d42dfaf2-1e47-4c60-aa53-17cf64926be0",
        "colab": {
          "base_uri": "https://localhost:8080/"
        }
      },
      "source": [
        "print(s[0])\n",
        "#last char s[len(s)-1] or s[-1]"
      ],
      "execution_count": 14,
      "outputs": [
        {
          "output_type": "stream",
          "name": "stdout",
          "text": [
            "T\n"
          ]
        }
      ]
    },
    {
      "cell_type": "code",
      "source": [
        "print(s[-1]) #In Python, we can use negative indexing, -1 Last character"
      ],
      "metadata": {
        "colab": {
          "base_uri": "https://localhost:8080/"
        },
        "id": "50c4SRr6v_T1",
        "outputId": "beccc0d2-8a6b-4b80-ee3a-2b1b4ec72b44"
      },
      "execution_count": 25,
      "outputs": [
        {
          "output_type": "stream",
          "name": "stdout",
          "text": [
            "n\n"
          ]
        }
      ]
    },
    {
      "cell_type": "code",
      "source": [
        "s = \"This is an Online Platform for Python\"\n",
        "print(s[len(s)-1]) #to get the last character, without [-1] index, using len() which will return no.of characters"
      ],
      "metadata": {
        "colab": {
          "base_uri": "https://localhost:8080/"
        },
        "id": "LIgItIesh-6J",
        "outputId": "e8b8dd4b-e06e-4187-e1be-e5b550f513cb"
      },
      "execution_count": 53,
      "outputs": [
        {
          "output_type": "stream",
          "name": "stdout",
          "text": [
            "n\n"
          ]
        }
      ]
    },
    {
      "cell_type": "markdown",
      "source": [
        "**Slicing**\n",
        "\n",
        "[start:end:step]"
      ],
      "metadata": {
        "id": "YqI_BT89voSj"
      }
    },
    {
      "cell_type": "code",
      "metadata": {
        "id": "ajug377XjAjR",
        "outputId": "7c9a1ae6-9dfb-4505-ef61-d28e2a86cd52",
        "colab": {
          "base_uri": "https://localhost:8080/",
          "height": 35
        }
      },
      "source": [
        "#slicing\n",
        "s[5:] #From 5th chracter to last character"
      ],
      "execution_count": 22,
      "outputs": [
        {
          "output_type": "execute_result",
          "data": {
            "application/vnd.google.colaboratory.intrinsic+json": {
              "type": "string"
            },
            "text/plain": [
              "'is an Online Platform for Python'"
            ]
          },
          "metadata": {},
          "execution_count": 22
        }
      ]
    },
    {
      "cell_type": "code",
      "source": [
        "s[0:2] #characters at 0th and 1st index positions, 2 not inclusive"
      ],
      "metadata": {
        "colab": {
          "base_uri": "https://localhost:8080/",
          "height": 35
        },
        "id": "ZmdJ6El_tPF4",
        "outputId": "8a024b7c-487d-4494-c1fc-331b34cbb2cd"
      },
      "execution_count": 20,
      "outputs": [
        {
          "output_type": "execute_result",
          "data": {
            "application/vnd.google.colaboratory.intrinsic+json": {
              "type": "string"
            },
            "text/plain": [
              "'Th'"
            ]
          },
          "metadata": {},
          "execution_count": 20
        }
      ]
    },
    {
      "cell_type": "code",
      "source": [
        "s[0:4] #characters at 0 to 3 index positions, 4 not inclusive"
      ],
      "metadata": {
        "colab": {
          "base_uri": "https://localhost:8080/",
          "height": 35
        },
        "id": "b_L6X4WctO4Z",
        "outputId": "326954ef-3594-44ea-b5eb-f4c412caa780"
      },
      "execution_count": 24,
      "outputs": [
        {
          "output_type": "execute_result",
          "data": {
            "application/vnd.google.colaboratory.intrinsic+json": {
              "type": "string"
            },
            "text/plain": [
              "'This'"
            ]
          },
          "metadata": {},
          "execution_count": 24
        }
      ]
    },
    {
      "cell_type": "code",
      "source": [
        "s[:] #Prints all characters of the string"
      ],
      "metadata": {
        "colab": {
          "base_uri": "https://localhost:8080/",
          "height": 35
        },
        "id": "lYZiXv_XvjBP",
        "outputId": "d1d08ab5-1be2-41d4-ed72-e562e75fe4bc"
      },
      "execution_count": 26,
      "outputs": [
        {
          "output_type": "execute_result",
          "data": {
            "application/vnd.google.colaboratory.intrinsic+json": {
              "type": "string"
            },
            "text/plain": [
              "'This is an Online Platform for Python'"
            ]
          },
          "metadata": {},
          "execution_count": 26
        }
      ]
    },
    {
      "cell_type": "code",
      "source": [
        "s[4:-1] #From 4th character till last butone character, last character not included"
      ],
      "metadata": {
        "colab": {
          "base_uri": "https://localhost:8080/",
          "height": 35
        },
        "id": "xzzbj6xiwdhb",
        "outputId": "9c9e023e-42cf-405f-d7c1-907c8afd2127"
      },
      "execution_count": 27,
      "outputs": [
        {
          "output_type": "execute_result",
          "data": {
            "application/vnd.google.colaboratory.intrinsic+json": {
              "type": "string"
            },
            "text/plain": [
              "' is an Online Platform for Pytho'"
            ]
          },
          "metadata": {},
          "execution_count": 27
        }
      ]
    },
    {
      "cell_type": "code",
      "source": [
        "s[:]"
      ],
      "metadata": {
        "colab": {
          "base_uri": "https://localhost:8080/",
          "height": 35
        },
        "id": "c5_ApGPNxd7a",
        "outputId": "15bcf7ca-576e-48cb-93d3-691992b40943"
      },
      "execution_count": 36,
      "outputs": [
        {
          "output_type": "execute_result",
          "data": {
            "application/vnd.google.colaboratory.intrinsic+json": {
              "type": "string"
            },
            "text/plain": [
              "'This is an Online Platform for Python'"
            ]
          },
          "metadata": {},
          "execution_count": 36
        }
      ]
    },
    {
      "cell_type": "code",
      "source": [
        "s[::2] #Start, stop is not mentioned, only step Display the 0, 2, 4, 6 at even index positions"
      ],
      "metadata": {
        "colab": {
          "base_uri": "https://localhost:8080/",
          "height": 35
        },
        "id": "7nD3F6hExhyr",
        "outputId": "aa940375-31b5-47ff-eaf5-a36ec2f01bab"
      },
      "execution_count": 38,
      "outputs": [
        {
          "output_type": "execute_result",
          "data": {
            "application/vnd.google.colaboratory.intrinsic+json": {
              "type": "string"
            },
            "text/plain": [
              "'Ti sa niePafr o yhn'"
            ]
          },
          "metadata": {},
          "execution_count": 38
        }
      ]
    },
    {
      "cell_type": "code",
      "source": [
        "s[::-1] #Display the string in reverse order"
      ],
      "metadata": {
        "colab": {
          "base_uri": "https://localhost:8080/",
          "height": 35
        },
        "id": "28n6ySe6GNwF",
        "outputId": "e40fbad3-9300-49e3-c157-6b145111ffd0"
      },
      "execution_count": 39,
      "outputs": [
        {
          "output_type": "execute_result",
          "data": {
            "application/vnd.google.colaboratory.intrinsic+json": {
              "type": "string"
            },
            "text/plain": [
              "'nohtyP rof mroftalP enilnO na si sihT'"
            ]
          },
          "metadata": {},
          "execution_count": 39
        }
      ]
    },
    {
      "cell_type": "code",
      "source": [
        "s[2::4] # starting from charcter at position 2, till the end, step is 4\n"
      ],
      "metadata": {
        "colab": {
          "base_uri": "https://localhost:8080/",
          "height": 35
        },
        "id": "Azdp8RR1GWzu",
        "outputId": "4a6284cb-4937-4fea-9739-4c07a8bf9073"
      },
      "execution_count": 40,
      "outputs": [
        {
          "output_type": "execute_result",
          "data": {
            "application/vnd.google.colaboratory.intrinsic+json": {
              "type": "string"
            },
            "text/plain": [
              "'is iPf  h'"
            ]
          },
          "metadata": {},
          "execution_count": 40
        }
      ]
    },
    {
      "cell_type": "markdown",
      "metadata": {
        "id": "q8EfPYofjAjX"
      },
      "source": [
        "**# Python List**"
      ]
    },
    {
      "cell_type": "markdown",
      "metadata": {
        "id": "HmvLG9uqjAjY"
      },
      "source": [
        "List is an **ordered** sequence of items. \n",
        "It is one of the most used datatype in Python and is very flexible. \n",
        "All the items in a list do not need to be of the same type.\n",
        "[] -- used\n",
        "\n",
        "Declaring a list is, Items separated by commas are enclosed within brackets [ ]."
      ]
    },
    {
      "cell_type": "code",
      "metadata": {
        "id": "-5ZyYAWPjAjZ",
        "outputId": "b4f8f8a1-1899-4739-e6f6-2bf52bd07080"
      },
      "source": [
        "a = [10, 20.5, \"Hello\"]\n",
        "print(a[1])               #print 1st index element"
      ],
      "execution_count": null,
      "outputs": [
        {
          "output_type": "stream",
          "text": [
            "20.5\n"
          ],
          "name": "stdout"
        }
      ]
    },
    {
      "cell_type": "markdown",
      "metadata": {
        "id": "RxDNwaW9jAjd"
      },
      "source": [
        "Lists are **mutable**, meaning, value of elements of a list can be altered."
      ]
    },
    {
      "cell_type": "code",
      "metadata": {
        "id": "JqjN61NijAji",
        "outputId": "713e359c-f5bd-49b9-a039-bb26b7e269e6"
      },
      "source": [
        "a[1] = 30.7\n",
        "print(a)"
      ],
      "execution_count": null,
      "outputs": [
        {
          "output_type": "stream",
          "text": [
            "[10, 30.7, 'Hello']\n"
          ],
          "name": "stdout"
        }
      ]
    },
    {
      "cell_type": "markdown",
      "metadata": {
        "id": "1z43evhgjAjm"
      },
      "source": [
        "**# Python Tuple**"
      ]
    },
    {
      "cell_type": "markdown",
      "metadata": {
        "id": "hl-DNjIKjAjn"
      },
      "source": [
        "**Tuple** is an **ordered** sequence of items same as list.\n",
        "\n",
        "() -- used\n",
        "\n",
        "The only difference is that tuples are immutable. \n",
        "\n",
        "Tuples once created cannot be modified."
      ]
    },
    {
      "cell_type": "code",
      "metadata": {
        "id": "FtTKigm4jAjn"
      },
      "source": [
        "t = (1, 1.5, \"ML\")"
      ],
      "execution_count": null,
      "outputs": []
    },
    {
      "cell_type": "code",
      "metadata": {
        "id": "FXwePsUjjAjs",
        "outputId": "756a5155-079f-41de-a91e-e7f7813e997f"
      },
      "source": [
        "print(t[1]) #extract particular element"
      ],
      "execution_count": null,
      "outputs": [
        {
          "output_type": "stream",
          "text": [
            "1.5\n"
          ],
          "name": "stdout"
        }
      ]
    },
    {
      "cell_type": "code",
      "metadata": {
        "id": "HcmgwUWvjAjv",
        "outputId": "d618dde0-d605-4229-a828-8904a24ae7e7"
      },
      "source": [
        "t[1] = 1.25"
      ],
      "execution_count": null,
      "outputs": [
        {
          "output_type": "error",
          "ename": "TypeError",
          "evalue": "'tuple' object does not support item assignment",
          "traceback": [
            "\u001b[0;31m---------------------------------------------------------------------------\u001b[0m",
            "\u001b[0;31mTypeError\u001b[0m                                 Traceback (most recent call last)",
            "\u001b[0;32m<ipython-input-18-0ddc671fae60>\u001b[0m in \u001b[0;36m<module>\u001b[0;34m()\u001b[0m\n\u001b[0;32m----> 1\u001b[0;31m \u001b[0mt\u001b[0m\u001b[0;34m[\u001b[0m\u001b[0;36m1\u001b[0m\u001b[0;34m]\u001b[0m \u001b[0;34m=\u001b[0m \u001b[0;36m1.25\u001b[0m\u001b[0;34m\u001b[0m\u001b[0m\n\u001b[0m",
            "\u001b[0;31mTypeError\u001b[0m: 'tuple' object does not support item assignment"
          ]
        }
      ]
    },
    {
      "cell_type": "markdown",
      "metadata": {
        "id": "RUTK-g6rjAjz"
      },
      "source": [
        "**# Python Set**"
      ]
    },
    {
      "cell_type": "markdown",
      "metadata": {
        "id": "J8pDiqs1jAjz"
      },
      "source": [
        "**Set** is an **unordered** collection of **unique** items. \n",
        "\n",
        "{ } -- used\n",
        "Duplicates are not allowed\n",
        "\n",
        "Set is defined by values separated by comma inside braces { }. \n",
        "\n",
        "Items in a set are not ordered."
      ]
    },
    {
      "cell_type": "code",
      "metadata": {
        "id": "Pa8_taUijAj0",
        "outputId": "36b31e1c-43da-40dd-8115-0f73066085aa",
        "colab": {
          "base_uri": "https://localhost:8080/"
        }
      },
      "source": [
        "a = {10, 30, 20, 40, 10, 20, 5}\n",
        "print(a) "
      ],
      "execution_count": 43,
      "outputs": [
        {
          "output_type": "stream",
          "name": "stdout",
          "text": [
            "{5, 40, 10, 20, 30}\n"
          ]
        }
      ]
    },
    {
      "cell_type": "code",
      "metadata": {
        "id": "IvCOBoJsjAj4",
        "outputId": "148ffaf6-4147-4dd7-a88e-3a40ad7c8253",
        "colab": {
          "base_uri": "https://localhost:8080/"
        }
      },
      "source": [
        "print(type(a))             #print type of a"
      ],
      "execution_count": 44,
      "outputs": [
        {
          "output_type": "stream",
          "name": "stdout",
          "text": [
            "<class 'set'>\n"
          ]
        }
      ]
    },
    {
      "cell_type": "markdown",
      "metadata": {
        "id": "-REyz-C-jAj8"
      },
      "source": [
        "We can perform set operations like union, intersection on two sets. \n",
        "\n",
        "Set have unique values."
      ]
    },
    {
      "cell_type": "code",
      "metadata": {
        "id": "1PYDi3VRjAj8",
        "outputId": "02b47010-0617-489e-e0ba-21c2b9336ff8",
        "colab": {
          "base_uri": "https://localhost:8080/"
        }
      },
      "source": [
        "s = {10, 20, 20, 30, 30, 30}\n",
        "print(s)                    #automatically set won't consider duplicate elements"
      ],
      "execution_count": 47,
      "outputs": [
        {
          "output_type": "stream",
          "name": "stdout",
          "text": [
            "{10, 20, 30}\n"
          ]
        }
      ]
    },
    {
      "cell_type": "code",
      "metadata": {
        "id": "8gA4UANbjAkA",
        "outputId": "5d4e1d91-6e8e-47c1-c57e-d81cf8978f7e",
        "colab": {
          "base_uri": "https://localhost:8080/",
          "height": 183
        }
      },
      "source": [
        "print(s[1]) #we can't print particular element in set because \n",
        "            #it's unorder collections of items"
      ],
      "execution_count": 48,
      "outputs": [
        {
          "output_type": "error",
          "ename": "TypeError",
          "evalue": "ignored",
          "traceback": [
            "\u001b[0;31m---------------------------------------------------------------------------\u001b[0m",
            "\u001b[0;31mTypeError\u001b[0m                                 Traceback (most recent call last)",
            "\u001b[0;32m<ipython-input-48-3e2f312e6983>\u001b[0m in \u001b[0;36m<module>\u001b[0;34m()\u001b[0m\n\u001b[0;32m----> 1\u001b[0;31m \u001b[0mprint\u001b[0m\u001b[0;34m(\u001b[0m\u001b[0ms\u001b[0m\u001b[0;34m[\u001b[0m\u001b[0;36m1\u001b[0m\u001b[0;34m]\u001b[0m\u001b[0;34m)\u001b[0m \u001b[0;31m#we can't print particular element in set because\u001b[0m\u001b[0;34m\u001b[0m\u001b[0;34m\u001b[0m\u001b[0m\n\u001b[0m\u001b[1;32m      2\u001b[0m             \u001b[0;31m#it's unorder collections of items\u001b[0m\u001b[0;34m\u001b[0m\u001b[0;34m\u001b[0m\u001b[0;34m\u001b[0m\u001b[0m\n",
            "\u001b[0;31mTypeError\u001b[0m: 'set' object is not subscriptable"
          ]
        }
      ]
    },
    {
      "cell_type": "markdown",
      "metadata": {
        "id": "qcVbqDR0jAkE"
      },
      "source": [
        "**# Python Dictionary**"
      ]
    },
    {
      "cell_type": "markdown",
      "metadata": {
        "id": "W0R99yybjAkF"
      },
      "source": [
        "Dictionary is an **unordered** collection of **key-value pairs**.\n",
        "\n",
        "\n",
        "Hash table : \n",
        " | key | Value |\n",
        " ---------------\n",
        " | a   | apple |\n",
        "\n",
        " | b   | ball|\n",
        "\n",
        " | c   | cat |\n",
        "\n",
        " | d    | dog |\n",
        "\n",
        "\n",
        "\n",
        "\n",
        " \n",
        "\n"
      ]
    },
    {
      "cell_type": "markdown",
      "metadata": {
        "id": "xojDNh_ujAkG"
      },
      "source": [
        "In Python, dictionaries are defined within **braces {}** with each item being a pair in the form **key:value** \n",
        "\n",
        "Key and value can be of any type."
      ]
    },
    {
      "cell_type": "code",
      "metadata": {
        "id": "2T9I2fD_jAkG",
        "outputId": "9c718a6d-3ee2-4890-f5e0-c1ebdad680b3",
        "colab": {
          "base_uri": "https://localhost:8080/"
        }
      },
      "source": [
        "d = {'a': \"apple\", 'b': \"bat\"}\n",
        "print(d['a'])"
      ],
      "execution_count": 54,
      "outputs": [
        {
          "output_type": "stream",
          "name": "stdout",
          "text": [
            "apple\n"
          ]
        }
      ]
    },
    {
      "cell_type": "code",
      "source": [
        "print(d['c']) # no c error"
      ],
      "metadata": {
        "colab": {
          "base_uri": "https://localhost:8080/",
          "height": 165
        },
        "id": "J1qP_FBUjeV8",
        "outputId": "cbd74b5d-e5c9-4649-b690-fd3a6ae7fd5d"
      },
      "execution_count": 55,
      "outputs": [
        {
          "output_type": "error",
          "ename": "KeyError",
          "evalue": "ignored",
          "traceback": [
            "\u001b[0;31m---------------------------------------------------------------------------\u001b[0m",
            "\u001b[0;31mKeyError\u001b[0m                                  Traceback (most recent call last)",
            "\u001b[0;32m<ipython-input-55-ca9922a119a7>\u001b[0m in \u001b[0;36m<module>\u001b[0;34m()\u001b[0m\n\u001b[0;32m----> 1\u001b[0;31m \u001b[0mprint\u001b[0m\u001b[0;34m(\u001b[0m\u001b[0md\u001b[0m\u001b[0;34m[\u001b[0m\u001b[0;34m'c'\u001b[0m\u001b[0;34m]\u001b[0m\u001b[0;34m)\u001b[0m\u001b[0;34m\u001b[0m\u001b[0;34m\u001b[0m\u001b[0m\n\u001b[0m",
            "\u001b[0;31mKeyError\u001b[0m: 'c'"
          ]
        }
      ]
    },
    {
      "cell_type": "markdown",
      "metadata": {
        "id": "VAFPibx4jAkK"
      },
      "source": [
        "**# Conversion between Datatypes**"
      ]
    },
    {
      "cell_type": "markdown",
      "metadata": {
        "id": "Gr9LdKwUjAkK"
      },
      "source": [
        "can convert between different data types by using different type conversion functions like int(), float(), str() etc."
      ]
    },
    {
      "cell_type": "code",
      "metadata": {
        "id": "C7Hm3GjUjAkL",
        "outputId": "09b91390-f878-4951-9555-8a0b64ba3c5f"
      },
      "source": [
        "float(5)     #convert interger to float using float() method"
      ],
      "execution_count": null,
      "outputs": [
        {
          "output_type": "execute_result",
          "data": {
            "text/plain": [
              "5.0"
            ]
          },
          "metadata": {
            "tags": []
          },
          "execution_count": 26
        }
      ]
    },
    {
      "cell_type": "code",
      "metadata": {
        "id": "qOQdGOo9jAkO",
        "outputId": "9422f2b0-3c1a-4604-de77-6cf0592c1d50"
      },
      "source": [
        "int(100.5)   #convert float to integer using int() method"
      ],
      "execution_count": null,
      "outputs": [
        {
          "output_type": "execute_result",
          "data": {
            "text/plain": [
              "100"
            ]
          },
          "metadata": {
            "tags": []
          },
          "execution_count": 25
        }
      ]
    },
    {
      "cell_type": "code",
      "metadata": {
        "id": "j_YHvzHjjAkR",
        "outputId": "fccee2e4-fe13-4a7f-c435-ab1c604a477e"
      },
      "source": [
        "str(20)      #convert integer to string"
      ],
      "execution_count": null,
      "outputs": [
        {
          "output_type": "execute_result",
          "data": {
            "text/plain": [
              "'20'"
            ]
          },
          "metadata": {
            "tags": []
          },
          "execution_count": 24
        }
      ]
    },
    {
      "cell_type": "markdown",
      "metadata": {
        "id": "fQlmdkWZjAkV"
      },
      "source": [
        "Conversion to and from string must contain compatible values."
      ]
    },
    {
      "cell_type": "code",
      "metadata": {
        "id": "rmZTUGvNjAkW",
        "outputId": "d8b7fb08-d354-4cf8-9300-32adf9e74d3e"
      },
      "source": [
        "int('10p')"
      ],
      "execution_count": null,
      "outputs": [
        {
          "output_type": "error",
          "ename": "ValueError",
          "evalue": "invalid literal for int() with base 10: '10p'",
          "traceback": [
            "\u001b[0;31m---------------------------------------------------------------------------\u001b[0m",
            "\u001b[0;31mValueError\u001b[0m                                Traceback (most recent call last)",
            "\u001b[0;32m<ipython-input-27-b6ad1e4c556d>\u001b[0m in \u001b[0;36m<module>\u001b[0;34m()\u001b[0m\n\u001b[0;32m----> 1\u001b[0;31m \u001b[0mint\u001b[0m\u001b[0;34m(\u001b[0m\u001b[0;34m'10p'\u001b[0m\u001b[0;34m)\u001b[0m\u001b[0;34m\u001b[0m\u001b[0m\n\u001b[0m",
            "\u001b[0;31mValueError\u001b[0m: invalid literal for int() with base 10: '10p'"
          ]
        }
      ]
    },
    {
      "cell_type": "code",
      "metadata": {
        "id": "ySebSJL4jAka",
        "outputId": "19a94e45-7d21-4a92-947f-767edca1982a",
        "colab": {
          "base_uri": "https://localhost:8080/"
        }
      },
      "source": [
        "user = \"saturday\"\n",
        "lines = 100\n",
        "\n",
        "print(\"Congratulations, on \" + user + \"! You just wrote \" + str(lines) + \" lines of code\" )\n",
        "#remove str and gives error"
      ],
      "execution_count": 49,
      "outputs": [
        {
          "output_type": "stream",
          "name": "stdout",
          "text": [
            "Congratulations, on saturday! You just wrote 100 lines of code\n"
          ]
        }
      ]
    },
    {
      "cell_type": "markdown",
      "metadata": {
        "id": "b70t71oHjAke"
      },
      "source": [
        "We can convert one sequence to other"
      ]
    },
    {
      "cell_type": "code",
      "metadata": {
        "id": "X8JVo21VjAkf",
        "outputId": "57e2eaa3-074d-4040-d256-3e4dcc47b59f",
        "colab": {
          "base_uri": "https://localhost:8080/"
        }
      },
      "source": [
        "a = [1, 2, 3]\n",
        "\n",
        "print(type(a))      #type of a is list \n",
        "\n",
        "s = set(a)          #convert list to set using set() method\n",
        "\n",
        "print(type(s))      #now type of s is set"
      ],
      "execution_count": 50,
      "outputs": [
        {
          "output_type": "stream",
          "name": "stdout",
          "text": [
            "<class 'list'>\n",
            "<class 'set'>\n"
          ]
        }
      ]
    },
    {
      "cell_type": "code",
      "metadata": {
        "id": "_Uhx5L4AjAkm",
        "outputId": "79bb4619-9a2f-4255-8b91-fb9a0b639fdc",
        "colab": {
          "base_uri": "https://localhost:8080/"
        }
      },
      "source": [
        "list(\"Hello\")       #convert String to list using list() method"
      ],
      "execution_count": 51,
      "outputs": [
        {
          "output_type": "execute_result",
          "data": {
            "text/plain": [
              "['H', 'e', 'l', 'l', 'o']"
            ]
          },
          "metadata": {},
          "execution_count": 51
        }
      ]
    }
  ]
}