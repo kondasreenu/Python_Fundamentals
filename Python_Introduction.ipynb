{
  "nbformat": 4,
  "nbformat_minor": 0,
  "metadata": {
    "colab": {
      "name": "Python Introduction",
      "provenance": [],
      "authorship_tag": "ABX9TyOE4uCwOXgYNjJexPGniy3t",
      "include_colab_link": true
    },
    "kernelspec": {
      "name": "python3",
      "display_name": "Python 3"
    },
    "language_info": {
      "name": "python"
    }
  },
  "cells": [
    {
      "cell_type": "markdown",
      "metadata": {
        "id": "view-in-github",
        "colab_type": "text"
      },
      "source": [
        "<a href=\"https://colab.research.google.com/github/kondasreenu/Python_Fundamentals/blob/main/Python_Introduction.ipynb\" target=\"_parent\"><img src=\"https://colab.research.google.com/assets/colab-badge.svg\" alt=\"Open In Colab\"/></a>"
      ]
    },
    {
      "cell_type": "code",
      "execution_count": null,
      "metadata": {
        "id": "NI8DEONvoXtT"
      },
      "outputs": [],
      "source": [
        ""
      ]
    },
    {
      "cell_type": "markdown",
      "source": [
        "Python is developed by **Guido van Rossum**. \n",
        "\n",
        "Guido van Rossum started implementing Python in 1989. \n",
        "\n",
        "Python is a very simple programming language so even if you are new to programming, you can learn python without facing any issues.\n",
        "\n",
        "Python is an easy to learn, powerful programming language. \n",
        "\n",
        "It has efficient high-level data structures and a simple but effective approach to object-oriented programming. \n",
        "\n",
        "Python’s elegant syntax and dynamic typing, together with its interpreted nature, make it an ideal language for scripting and rapid application development in many areas on most platforms.\n",
        "\n",
        "Python is an interpreted language, which can save you considerable time during program development because no compilation and linking is necessary.\n",
        "\n",
        "Python enables programs to be written compactly and readably. \n",
        "\n",
        "Programs written in Python are typically much shorter than equivalent C, C++, or Java programs, for several reasons:\n",
        "•\tThe high-level data types allow you to express complex operations in a single statement;\n",
        "•\tStatement grouping is done by indentation instead of beginning and ending brackets;\n",
        "•\tNo variable or argument declarations are necessary.\n",
        "\n",
        "\n",
        "Popular fields using python are:\n",
        "•\tData Science \n",
        "•\tMachine Learning & AI \n",
        "•\tWeb Development \n",
        "•\tAutomation \n",
        "•\tGame Development \n",
        "•\tMobile App development, etc.,"
      ],
      "metadata": {
        "id": "c3l989fQoa80"
      }
    }
  ]
}
