{
  "nbformat": 4,
  "nbformat_minor": 0,
  "metadata": {
    "colab": {
      "name": "P_DP_fib.ipynb",
      "provenance": [],
      "authorship_tag": "ABX9TyMkH3N984i2M8GChyM4KLxX",
      "include_colab_link": true
    },
    "kernelspec": {
      "name": "python3",
      "display_name": "Python 3"
    },
    "language_info": {
      "name": "python"
    }
  },
  "cells": [
    {
      "cell_type": "markdown",
      "metadata": {
        "id": "view-in-github",
        "colab_type": "text"
      },
      "source": [
        "<a href=\"https://colab.research.google.com/github/kondasreenu/Python_Fundamentals/blob/main/P_DP_fib.ipynb\" target=\"_parent\"><img src=\"https://colab.research.google.com/assets/colab-badge.svg\" alt=\"Open In Colab\"/></a>"
      ]
    },
    {
      "cell_type": "code",
      "execution_count": 15,
      "metadata": {
        "colab": {
          "base_uri": "https://localhost:8080/"
        },
        "id": "OVyb2DMI0cor",
        "outputId": "47c91e08-1d04-4c2c-cf64-87400a880bc6"
      },
      "outputs": [
        {
          "output_type": "stream",
          "name": "stdout",
          "text": [
            "0\n",
            "1\n",
            "1\n",
            "2\n",
            "3\n",
            "5\n",
            "8\n",
            "13\n",
            "21\n",
            "34\n"
          ]
        }
      ],
      "source": [
        "def dpfibonacciIterative(n):\n",
        "  #memoization using a list\n",
        "  f = []\n",
        "\n",
        "  #base cases\n",
        "  f.append(0)\n",
        "  f.append(1)\n",
        "\n",
        "  #Bottom-Up DP\n",
        "  for i in range(2,n+1):\n",
        "    f.append(f[i-1]+f[i-2])\n",
        "\n",
        "  return f[n]\n",
        "\n",
        "n = 10\n",
        "for i in range(0,n):\n",
        "  print(dpfibonacciIterative(i))\n",
        "\n",
        "#Space Complexity: O(n)\n",
        "#Time Complexity: O(n)\n"
      ]
    },
    {
      "cell_type": "code",
      "source": [
        "count = 0;   \n",
        "memo = []\n",
        "def dpfibonacciRecusion(n):  \n",
        "  if memo[n]!= -1:  # already computed\n",
        "    count += 1  \n",
        "    return memo[n]\n",
        "  if(n<=1):\n",
        "\t  return n\n",
        "  else: \n",
        "    sum = dpfibonacciRecusion(n-1) + dpfibonacciRecusion(n-2);  \n",
        "    memo[n] = sum\n",
        "\n",
        "n = 10\n",
        "for i in range(0,n):\n",
        "  memo.insert(i,-1)\n",
        "  print(dpfibonacciIterative(i))\n",
        "  #print(count)\n"
      ],
      "metadata": {
        "colab": {
          "base_uri": "https://localhost:8080/"
        },
        "id": "WWbehjv-4hrk",
        "outputId": "6bd1f75b-a36f-49bf-9fee-a79178b01568"
      },
      "execution_count": 17,
      "outputs": [
        {
          "output_type": "stream",
          "name": "stdout",
          "text": [
            "0\n",
            "1\n",
            "1\n",
            "2\n",
            "3\n",
            "5\n",
            "8\n",
            "13\n",
            "21\n",
            "34\n"
          ]
        }
      ]
    }
  ]
}