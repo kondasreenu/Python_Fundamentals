{
  "nbformat": 4,
  "nbformat_minor": 0,
  "metadata": {
    "colab": {
      "name": "P_strings.ipynb",
      "provenance": [],
      "include_colab_link": true
    },
    "kernelspec": {
      "display_name": "Python 3",
      "language": "python",
      "name": "python3"
    }
  },
  "cells": [
    {
      "cell_type": "markdown",
      "metadata": {
        "id": "view-in-github",
        "colab_type": "text"
      },
      "source": [
        "<a href=\"https://colab.research.google.com/github/kondasreenu/Python_Fundamentals/blob/main/P_strings.ipynb\" target=\"_parent\"><img src=\"https://colab.research.google.com/assets/colab-badge.svg\" alt=\"Open In Colab\"/></a>"
      ]
    },
    {
      "cell_type": "markdown",
      "metadata": {
        "id": "2R97ADiFQ0Qq"
      },
      "source": [
        "# Strings"
      ]
    },
    {
      "cell_type": "markdown",
      "metadata": {
        "id": "eVUSlgdsQ0Qs"
      },
      "source": [
        "A string is a sequence of characters.\n",
        "\n",
        "Computers do not deal with characters, they deal with numbers (binary). Even though you may see characters on your screen, internally it is stored and manipulated as a combination of 0's and 1's.\n",
        "\n",
        "This conversion of character to a number is called encoding, and the reverse process is decoding. ASCII and Unicode are some of the popular encoding used.\n",
        "\n",
        "In Python, string is a sequence of Unicode character.\n",
        "\n",
        "Important: Single Quotes, Double Quotes, Usage of Backslash character or Escape Character\n",
        "\n",
        "No Null character at the end like C, C++\n"
      ]
    },
    {
      "cell_type": "markdown",
      "metadata": {
        "id": "d2ZdcRphQ0Qv"
      },
      "source": [
        "# How to create a string?"
      ]
    },
    {
      "cell_type": "markdown",
      "metadata": {
        "id": "kVww6WnaQ0Qw"
      },
      "source": [
        "Strings can be created by enclosing characters inside a single quote or double quotes. \n",
        "\n",
        "Even triple quotes can be used in Python but generally used to represent multiline strings and docstrings.\n"
      ]
    },
    {
      "cell_type": "code",
      "metadata": {
        "id": "8OM3IOK2Q0Qy",
        "outputId": "81b6cbb2-e641-4b92-bd19-1fb36b17523b",
        "colab": {
          "base_uri": "https://localhost:8080/"
        }
      },
      "source": [
        "myString = 'Hello'\n",
        "\n",
        "print(myString)\n",
        "\n",
        "\n",
        "myString = \"Hello\"\n",
        "print(myString)\n",
        "\n",
        "\n",
        "myString = '''Hello'''\n",
        "print(myString)\n",
        "\n",
        "#s1 = 'That is Alice's cat.' #Error\n",
        "#print(s1)\n",
        "\n",
        "s1 = 'That is Alice\\'s cat.' #Usage of Backslash or Escape sequence \n",
        "print(s1)\n",
        "\n",
        "\n",
        "s1 = \"That is Alice's cat.\" #Using double quotes\n",
        "print(s1)\n",
        "\n",
        "\n",
        "#s1 = \"That is \"Alice's\" cat.\" #Using double quotes for Alice's Error\n",
        "#print(s1)\n",
        "\n",
        "s1 = \"That is \\\"Alice's\\\" cat.\" #Using Escape sequence \n",
        "print(s1)\n",
        "\n",
        "s1 = \"I am practising \\nPython Programming \\n daily\" #Using Escape sequence \\n\n",
        "print(s1)\n",
        "\n",
        "\n",
        "s1 = r\"I am practising \\nPython Programming \\n daily\" # Raw String ignores Escape sequence\n",
        "print(s1)\n",
        "\n",
        "'''\n",
        "Raw strings (r) are helpful if you are typing string values that contain many backslashes, \n",
        "such as the strings used for Windows file paths like r'C:\\Users\\Al\\Desktop' or \n",
        "regular expressions\n",
        "'''"
      ],
      "execution_count": 9,
      "outputs": [
        {
          "output_type": "stream",
          "name": "stdout",
          "text": [
            "Hello\n",
            "Hello\n",
            "Hello\n",
            "That is Alice's cat.\n",
            "That is Alice's cat.\n",
            "That is \"Alice's\" cat.\n",
            "I am practising \n",
            "Python Programming \n",
            " daily\n",
            "I am practising \\nPython Programming \\n daily\n"
          ]
        }
      ]
    },
    {
      "cell_type": "markdown",
      "metadata": {
        "id": "8yQfoUnGQ0Q4"
      },
      "source": [
        "# Accessing characters in a string\n",
        "\n",
        "Access individual characters using indexing and a range of characters using slicing.\n",
        "\n",
        "Index starts from 0. \n",
        "\n",
        "Trying to access a character out of index range will raise an **IndexError**. \n",
        "\n",
        "The index must be an integer. Can't use float or other types, this will result into **TypeError**.\n",
        "\n",
        "Python allows negative indexing for its sequences."
      ]
    },
    {
      "cell_type": "code",
      "metadata": {
        "id": "dECRrHU9Q0Q6",
        "outputId": "53102267-40e2-4cfd-aec2-e5a13050778b"
      },
      "source": [
        "myString = \"Hello\"\n",
        "\n",
        "#print first Character\n",
        "print(myString[0])\n",
        "\n",
        "#print last character using negative indexing\n",
        "print(myString[-1])\n",
        "\n",
        "#slicing 2nd to 5th character\n",
        "print(myString[2:5])"
      ],
      "execution_count": null,
      "outputs": [
        {
          "output_type": "stream",
          "text": [
            "H\n",
            "o\n",
            "llo\n"
          ],
          "name": "stdout"
        }
      ]
    },
    {
      "cell_type": "markdown",
      "metadata": {
        "id": "rYjjmAwVQ0RA"
      },
      "source": [
        "If we try to access index out of the range or use decimal number, we will get errors."
      ]
    },
    {
      "cell_type": "code",
      "metadata": {
        "id": "sDdAkqPOQ0RB",
        "outputId": "62af85cf-1cd5-4cdb-9d70-85c9e3a310ef"
      },
      "source": [
        "print(myString[15])"
      ],
      "execution_count": null,
      "outputs": [
        {
          "output_type": "error",
          "ename": "IndexError",
          "evalue": "string index out of range",
          "traceback": [
            "\u001b[0;31m---------------------------------------------------------------------------\u001b[0m",
            "\u001b[0;31mIndexError\u001b[0m                                Traceback (most recent call last)",
            "\u001b[0;32m<ipython-input-2-78353fed94bc>\u001b[0m in \u001b[0;36m<module>\u001b[0;34m()\u001b[0m\n\u001b[0;32m----> 1\u001b[0;31m \u001b[0mprint\u001b[0m\u001b[0;34m(\u001b[0m\u001b[0mmyString\u001b[0m\u001b[0;34m[\u001b[0m\u001b[0;36m15\u001b[0m\u001b[0;34m]\u001b[0m\u001b[0;34m)\u001b[0m\u001b[0;34m\u001b[0m\u001b[0m\n\u001b[0m",
            "\u001b[0;31mIndexError\u001b[0m: string index out of range"
          ]
        }
      ]
    },
    {
      "cell_type": "code",
      "metadata": {
        "id": "df79qTM1Q0RF",
        "outputId": "fa826bc9-01bf-47d9-9aef-8a2d283e49ae"
      },
      "source": [
        "print(myString[1.5])"
      ],
      "execution_count": null,
      "outputs": [
        {
          "output_type": "error",
          "ename": "TypeError",
          "evalue": "string indices must be integers",
          "traceback": [
            "\u001b[0;31m---------------------------------------------------------------------------\u001b[0m",
            "\u001b[0;31mTypeError\u001b[0m                                 Traceback (most recent call last)",
            "\u001b[0;32m<ipython-input-3-d32f87fd1591>\u001b[0m in \u001b[0;36m<module>\u001b[0;34m()\u001b[0m\n\u001b[0;32m----> 1\u001b[0;31m \u001b[0mprint\u001b[0m\u001b[0;34m(\u001b[0m\u001b[0mmyString\u001b[0m\u001b[0;34m[\u001b[0m\u001b[0;36m1.5\u001b[0m\u001b[0;34m]\u001b[0m\u001b[0;34m)\u001b[0m\u001b[0;34m\u001b[0m\u001b[0m\n\u001b[0m",
            "\u001b[0;31mTypeError\u001b[0m: string indices must be integers"
          ]
        }
      ]
    },
    {
      "cell_type": "markdown",
      "metadata": {
        "id": "l24m79F7Q0RI"
      },
      "source": [
        "# How to change or delete a string ?"
      ]
    },
    {
      "cell_type": "markdown",
      "metadata": {
        "id": "82PqjvORQ0RK"
      },
      "source": [
        "Strings are immutable. This means that elements of a string cannot be changed once it has been assigned. \n",
        "\n",
        "We can simply reassign different strings to the same name."
      ]
    },
    {
      "cell_type": "code",
      "metadata": {
        "id": "iV3SYntmQ0RL",
        "outputId": "0aac81a0-f530-4aa0-ba9f-8775ed52ce98",
        "colab": {
          "base_uri": "https://localhost:8080/",
          "height": 183
        }
      },
      "source": [
        "myString = \"Hello\"\n",
        "myString[4] = 's' # strings are immutable"
      ],
      "execution_count": 10,
      "outputs": [
        {
          "output_type": "error",
          "ename": "TypeError",
          "evalue": "ignored",
          "traceback": [
            "\u001b[0;31m---------------------------------------------------------------------------\u001b[0m",
            "\u001b[0;31mTypeError\u001b[0m                                 Traceback (most recent call last)",
            "\u001b[0;32m<ipython-input-10-786fea0a1f9c>\u001b[0m in \u001b[0;36m<module>\u001b[0;34m()\u001b[0m\n\u001b[1;32m      1\u001b[0m \u001b[0mmyString\u001b[0m \u001b[0;34m=\u001b[0m \u001b[0;34m\"Hello\"\u001b[0m\u001b[0;34m\u001b[0m\u001b[0;34m\u001b[0m\u001b[0m\n\u001b[0;32m----> 2\u001b[0;31m \u001b[0mmyString\u001b[0m\u001b[0;34m[\u001b[0m\u001b[0;36m4\u001b[0m\u001b[0;34m]\u001b[0m \u001b[0;34m=\u001b[0m \u001b[0;34m's'\u001b[0m \u001b[0;31m# strings are immutable\u001b[0m\u001b[0;34m\u001b[0m\u001b[0;34m\u001b[0m\u001b[0m\n\u001b[0m",
            "\u001b[0;31mTypeError\u001b[0m: 'str' object does not support item assignment"
          ]
        }
      ]
    },
    {
      "cell_type": "markdown",
      "metadata": {
        "id": "aMWgpS3pQ0RP"
      },
      "source": [
        "We cannot delete or remove characters from a string. But deleting the string entirely is possible using the keyword       del."
      ]
    },
    {
      "cell_type": "code",
      "metadata": {
        "id": "k43jqNSwQ0RQ"
      },
      "source": [
        "del myString # delete complete string"
      ],
      "execution_count": 11,
      "outputs": []
    },
    {
      "cell_type": "code",
      "metadata": {
        "id": "3gpZMAFtQ0RT",
        "outputId": "71c709a9-2d4d-4319-b1b3-5f90d71096d6",
        "colab": {
          "base_uri": "https://localhost:8080/",
          "height": 165
        }
      },
      "source": [
        "print(myString)"
      ],
      "execution_count": 12,
      "outputs": [
        {
          "output_type": "error",
          "ename": "NameError",
          "evalue": "ignored",
          "traceback": [
            "\u001b[0;31m---------------------------------------------------------------------------\u001b[0m",
            "\u001b[0;31mNameError\u001b[0m                                 Traceback (most recent call last)",
            "\u001b[0;32m<ipython-input-12-13235c81a0c6>\u001b[0m in \u001b[0;36m<module>\u001b[0;34m()\u001b[0m\n\u001b[0;32m----> 1\u001b[0;31m \u001b[0mprint\u001b[0m\u001b[0;34m(\u001b[0m\u001b[0mmyString\u001b[0m\u001b[0;34m)\u001b[0m\u001b[0;34m\u001b[0m\u001b[0;34m\u001b[0m\u001b[0m\n\u001b[0m",
            "\u001b[0;31mNameError\u001b[0m: name 'myString' is not defined"
          ]
        }
      ]
    },
    {
      "cell_type": "markdown",
      "metadata": {
        "id": "_I6JAqk7Q0RX"
      },
      "source": [
        "# String Operations"
      ]
    },
    {
      "cell_type": "markdown",
      "metadata": {
        "id": "AdXL8ZfrQ0RY"
      },
      "source": [
        "# Concatenation"
      ]
    },
    {
      "cell_type": "markdown",
      "metadata": {
        "id": "UEqPy2mBQ0Ra"
      },
      "source": [
        "Joining of two or more strings into a single one is called concatenation.\n",
        "\n",
        "The + operator does this in Python. Simply writing two string literals together also concatenates them.\n",
        "\n",
        "The * operator can be used to repeat the string for a given number of times."
      ]
    },
    {
      "cell_type": "code",
      "metadata": {
        "id": "I02mfOxIQ0Rb",
        "outputId": "6c5c1123-a809-4153-b38f-350640bbd989",
        "colab": {
          "base_uri": "https://localhost:8080/"
        }
      },
      "source": [
        "s1 = \"Hello \"\n",
        "s2 = \"Srinu\"\n",
        "\n",
        "#concatenation of 2 strings\n",
        "print(s1 + s2)\n",
        "\n",
        "#repeat string n times\n",
        "print(s1 * 3)\n",
        "\n",
        "#s3 = s1 + 2022 #Error\n",
        "\n",
        "s3 = s1 + str(2022) #typecast\n",
        "print(s3)"
      ],
      "execution_count": 18,
      "outputs": [
        {
          "output_type": "stream",
          "name": "stdout",
          "text": [
            "Hello Srinu\n",
            "Hello Hello Hello \n",
            "Hello 2022\n"
          ]
        }
      ]
    },
    {
      "cell_type": "markdown",
      "source": [
        "**String Interpolation**\n",
        "\n",
        "string interpolation, in which the %s operator inside the string acts as a marker to be replaced by values following the string. \n",
        "\n",
        "One benefit of string interpolation is that str() doesn’t have to be called to convert values to strings.\n"
      ],
      "metadata": {
        "id": "0FwXXJxiExVA"
      }
    },
    {
      "cell_type": "code",
      "source": [
        "name = \"Srinu\"\n",
        "year = 2022\n",
        "\"I am %s, i am in %s\"%(name,year)"
      ],
      "metadata": {
        "colab": {
          "base_uri": "https://localhost:8080/",
          "height": 35
        },
        "id": "GC7ZoD7qE61H",
        "outputId": "564170db-3c3a-4c26-b487-dafe07d80879"
      },
      "execution_count": 19,
      "outputs": [
        {
          "output_type": "execute_result",
          "data": {
            "application/vnd.google.colaboratory.intrinsic+json": {
              "type": "string"
            },
            "text/plain": [
              "'I am Srinu, i am in 2022'"
            ]
          },
          "metadata": {},
          "execution_count": 19
        }
      ]
    },
    {
      "cell_type": "markdown",
      "source": [
        "#f-strings:\n",
        "\n",
        "Python 3.6 introduced f-strings, which is similar to string interpolation except that brace are used instead of %s, with the expressions placed directly inside the braces. \n",
        "\n",
        "Like raw strings (r), f-strings have an f prefix before the starting quotation mark.\n"
      ],
      "metadata": {
        "id": "E_SsqzWGFEN-"
      }
    },
    {
      "cell_type": "code",
      "source": [
        "name = \"Srinu\"\n",
        "year = 2022\n",
        "print(f\"I am {name}, i am in {year}\")\n"
      ],
      "metadata": {
        "colab": {
          "base_uri": "https://localhost:8080/"
        },
        "id": "iz7LHZC_FKIY",
        "outputId": "0af84d80-75f9-4ed2-8303-5c330374c7d9"
      },
      "execution_count": 23,
      "outputs": [
        {
          "output_type": "stream",
          "name": "stdout",
          "text": [
            "I am Srinu, i am in 2022\n"
          ]
        }
      ]
    },
    {
      "cell_type": "markdown",
      "metadata": {
        "id": "JUHt8GFjQ0Rf"
      },
      "source": [
        "# Iterating Through String"
      ]
    },
    {
      "cell_type": "code",
      "metadata": {
        "id": "jDRQiFQVQ0Rg",
        "outputId": "36c29519-0bbe-4fc8-b811-b76b9c57de48",
        "colab": {
          "base_uri": "https://localhost:8080/"
        }
      },
      "source": [
        "count = 0\n",
        "for l in \"Hello World\":\n",
        "    if l == 'o':\n",
        "        count += 1\n",
        "print(count, ' letters found')"
      ],
      "execution_count": 14,
      "outputs": [
        {
          "output_type": "stream",
          "name": "stdout",
          "text": [
            "2  letters found\n"
          ]
        }
      ]
    },
    {
      "cell_type": "markdown",
      "metadata": {
        "id": "HJ_EXB0sQ0Rk"
      },
      "source": [
        "# String Membership Test"
      ]
    },
    {
      "cell_type": "code",
      "metadata": {
        "id": "YCOI93eMQ0Rm",
        "outputId": "7793f986-4661-4849-f615-6940d473aff8",
        "colab": {
          "base_uri": "https://localhost:8080/"
        }
      },
      "source": [
        "print('l' in 'Hello World') #in operator to test membership"
      ],
      "execution_count": 15,
      "outputs": [
        {
          "output_type": "stream",
          "name": "stdout",
          "text": [
            "True\n"
          ]
        }
      ]
    },
    {
      "cell_type": "code",
      "metadata": {
        "id": "v-Gc3e9pQ0Ru",
        "outputId": "20c718b1-171a-4322-e16d-d83cc61d6a87",
        "colab": {
          "base_uri": "https://localhost:8080/"
        }
      },
      "source": [
        "print('or' in 'Hello World')"
      ],
      "execution_count": 24,
      "outputs": [
        {
          "output_type": "stream",
          "name": "stdout",
          "text": [
            "True\n"
          ]
        }
      ]
    },
    {
      "cell_type": "markdown",
      "metadata": {
        "id": "kWW3wSRzQ0Rz"
      },
      "source": [
        "# String Methods"
      ]
    },
    {
      "cell_type": "markdown",
      "metadata": {
        "id": "1Us5mMCkQ0R0"
      },
      "source": [
        "    Some of the commonly used methods are lower(), upper(), join(), split(), find(), replace() etc"
      ]
    },
    {
      "cell_type": "code",
      "metadata": {
        "id": "SkMrD20MQ0R3",
        "outputId": "fc4ea852-6288-4ef1-f842-d0a39360920b",
        "colab": {
          "base_uri": "https://localhost:8080/",
          "height": 35
        }
      },
      "source": [
        "\"Hello\".lower()"
      ],
      "execution_count": 25,
      "outputs": [
        {
          "output_type": "execute_result",
          "data": {
            "application/vnd.google.colaboratory.intrinsic+json": {
              "type": "string"
            },
            "text/plain": [
              "'hello'"
            ]
          },
          "metadata": {},
          "execution_count": 25
        }
      ]
    },
    {
      "cell_type": "code",
      "metadata": {
        "id": "nz3r0uJiQ0R7",
        "outputId": "8192e81b-f8fa-44b7-c9b9-bccc53110c3a",
        "colab": {
          "base_uri": "https://localhost:8080/",
          "height": 35
        }
      },
      "source": [
        "\"Hello\".upper()"
      ],
      "execution_count": 26,
      "outputs": [
        {
          "output_type": "execute_result",
          "data": {
            "application/vnd.google.colaboratory.intrinsic+json": {
              "type": "string"
            },
            "text/plain": [
              "'HELLO'"
            ]
          },
          "metadata": {},
          "execution_count": 26
        }
      ]
    },
    {
      "cell_type": "code",
      "metadata": {
        "id": "wY5zUXlnQ0R_",
        "outputId": "97f60147-e7ea-464f-e2eb-5151ffaa2c01",
        "colab": {
          "base_uri": "https://localhost:8080/"
        }
      },
      "source": [
        "\"This will split all words in a list\".split()"
      ],
      "execution_count": 27,
      "outputs": [
        {
          "output_type": "execute_result",
          "data": {
            "text/plain": [
              "['This', 'will', 'split', 'all', 'words', 'in', 'a', 'list']"
            ]
          },
          "metadata": {},
          "execution_count": 27
        }
      ]
    },
    {
      "cell_type": "code",
      "metadata": {
        "id": "y8DCwXIBQ0SC",
        "outputId": "e27080d2-f30b-48a8-e5b3-09a904b619a8",
        "colab": {
          "base_uri": "https://localhost:8080/",
          "height": 35
        }
      },
      "source": [
        "' '.join(['This', 'will', 'split', 'all', 'words', 'in', 'a', 'list'])"
      ],
      "execution_count": 28,
      "outputs": [
        {
          "output_type": "execute_result",
          "data": {
            "application/vnd.google.colaboratory.intrinsic+json": {
              "type": "string"
            },
            "text/plain": [
              "'This will split all words in a list'"
            ]
          },
          "metadata": {},
          "execution_count": 28
        }
      ]
    },
    {
      "cell_type": "code",
      "metadata": {
        "id": "Rp2Kj-qkQ0SF",
        "outputId": "e32a6b7a-e6ac-4579-fa6f-c7037a976273",
        "colab": {
          "base_uri": "https://localhost:8080/"
        }
      },
      "source": [
        "\"Good Morning\".find(\"Mo\")"
      ],
      "execution_count": 29,
      "outputs": [
        {
          "output_type": "execute_result",
          "data": {
            "text/plain": [
              "5"
            ]
          },
          "metadata": {},
          "execution_count": 29
        }
      ]
    },
    {
      "cell_type": "code",
      "metadata": {
        "id": "GWLYw7alQ0SI",
        "outputId": "9efda4ea-1f12-4348-e891-4f9b48d57eae",
        "colab": {
          "base_uri": "https://localhost:8080/"
        }
      },
      "source": [
        "s1 = \"Bad morning\"\n",
        "\n",
        "s2 = s1.replace(\"Bad\", \"Good\")\n",
        "\n",
        "print(s1)\n",
        "print(s2)"
      ],
      "execution_count": 30,
      "outputs": [
        {
          "output_type": "stream",
          "name": "stdout",
          "text": [
            "Bad morning\n",
            "Good morning\n"
          ]
        }
      ]
    },
    {
      "cell_type": "markdown",
      "metadata": {
        "id": "i_H-coiDQ0SL"
      },
      "source": [
        "# Python Program to Check where a String is Palindrome or not ?"
      ]
    },
    {
      "cell_type": "code",
      "metadata": {
        "id": "PhIi2cEqQ0SM",
        "outputId": "75f505df-bff9-43a4-8cfd-58c8a5d6484c",
        "colab": {
          "base_uri": "https://localhost:8080/"
        }
      },
      "source": [
        "myStr = \"adam\"\n",
        "#convert entire string to either lower or upper\n",
        "myStr = myStr.lower()\n",
        "\n",
        "#reverse string\n",
        "revStr = reversed(myStr)\n",
        "#check if the string is equal to its reverse\n",
        "if list(myStr) == list(revStr): #myStr == revStr can't be written, they are not pointing to same location\n",
        "    print(\"Given String is palindrome\")\n",
        "else:\n",
        "    print(\"Given String is not palindrome\")\n"
      ],
      "execution_count": 33,
      "outputs": [
        {
          "output_type": "stream",
          "name": "stdout",
          "text": [
            "Given String is not palindrome\n"
          ]
        }
      ]
    },
    {
      "cell_type": "markdown",
      "metadata": {
        "id": "TLQRLF-_Q0SQ"
      },
      "source": [
        "# Python Program to Sort Words in Alphabetic Order?"
      ]
    },
    {
      "cell_type": "code",
      "metadata": {
        "id": "8c75-LV9Q0SS",
        "outputId": "1c220dee-b732-426d-938d-51308151ab72"
      },
      "source": [
        "myStr = \"python Program to Sort words in Alphabetic Order\"\n",
        "\n",
        "#breakdown the string into list of words\n",
        "words = myStr.split()\n",
        "\n",
        "#sort the list\n",
        "words.sort()\n",
        "\n",
        "#print Sorted words are\n",
        "for word in words:\n",
        "    print(word)"
      ],
      "execution_count": null,
      "outputs": [
        {
          "output_type": "stream",
          "text": [
            "Alphabetic\n",
            "Order\n",
            "Program\n",
            "Sort\n",
            "in\n",
            "python\n",
            "to\n",
            "words\n"
          ],
          "name": "stdout"
        }
      ]
    }
  ]
}