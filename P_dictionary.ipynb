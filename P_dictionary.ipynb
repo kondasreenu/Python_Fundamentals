{
  "nbformat": 4,
  "nbformat_minor": 0,
  "metadata": {
    "kernelspec": {
      "display_name": "Python 3",
      "language": "python",
      "name": "python3"
    },
    "language_info": {
      "codemirror_mode": {
        "name": "ipython",
        "version": 3
      },
      "file_extension": ".py",
      "mimetype": "text/x-python",
      "name": "python",
      "nbconvert_exporter": "python",
      "pygments_lexer": "ipython3",
      "version": "3.6.1"
    },
    "colab": {
      "name": "P_dictionary.ipynb",
      "provenance": [],
      "include_colab_link": true
    }
  },
  "cells": [
    {
      "cell_type": "markdown",
      "metadata": {
        "id": "view-in-github",
        "colab_type": "text"
      },
      "source": [
        "<a href=\"https://colab.research.google.com/github/kondasreenu/Python_Fundamentals/blob/main/P_dictionary.ipynb\" target=\"_parent\"><img src=\"https://colab.research.google.com/assets/colab-badge.svg\" alt=\"Open In Colab\"/></a>"
      ]
    },
    {
      "cell_type": "markdown",
      "metadata": {
        "id": "s6wRWQbM8YWK"
      },
      "source": [
        "# Dictionary"
      ]
    },
    {
      "cell_type": "markdown",
      "metadata": {
        "id": "CQgSdaRE8YWP"
      },
      "source": [
        "Hash table in Data Structures\n",
        "\n",
        "Dictionary is an unordered collection of items. [unordered : Its not indexable]\n",
        "\n",
        "Not Sequence data structure\n",
        "\n",
        "  **Recap:**\n",
        "\n",
        "       List and Tuple are ordered \n",
        "       Set and Dictionary are unordered\n",
        "\n",
        "       List - [ ]\n",
        "       Tuple - ()\n",
        "       Set - { } \n",
        "       Dictionary - { }\n",
        "\n",
        "A dictionary is a mutable collection of many values.\n",
        "\n",
        "While other compound data types have only value as an element, a dictionary has a **key: value pair**.\n",
        "\n",
        "\n",
        "Indexes for dictionaries can use **many different data types, not just integers.** \n",
        "\n",
        "Indexes for dictionaries are called keys, and a key with its associated value is called a key-value pair."
      ]
    },
    {
      "cell_type": "markdown",
      "metadata": {
        "id": "QNZdRerx8YWQ"
      },
      "source": [
        "# Dict Creation"
      ]
    },
    {
      "cell_type": "code",
      "metadata": {
        "id": "PhZ00ce88YWS",
        "outputId": "9479bfb5-f5eb-4938-8d02-90cf09cc1f40",
        "colab": {
          "base_uri": "https://localhost:8080/"
        }
      },
      "source": [
        "#empty dictionary\n",
        "my_dict = {}\n",
        "\n",
        "#dictionary with integer keys\n",
        "my_dict = {1: 'abc', 2: 'xyz'}\n",
        "print(my_dict)\n",
        "\n",
        "#dictionary with mixed keys\n",
        "my_dict = {'name': 'Srinu', 1: ['abc', 'xyz']}\n",
        "#keys are 'name' and 1\n",
        "print(my_dict)\n",
        "\n",
        "\n",
        "#create empty dictionary using dict()\n",
        "my_dict = dict()\n",
        "\n",
        "my_dict = dict([(1, 'abc'), (2, 'xyz')])    #create a dict with list of tuples\n",
        "#keys are 1 and 2\n",
        "\n",
        "print(my_dict)"
      ],
      "execution_count": 2,
      "outputs": [
        {
          "output_type": "stream",
          "name": "stdout",
          "text": [
            "{1: 'abc', 2: 'xyz'}\n",
            "{'name': 'Srinu', 1: ['abc', 'xyz']}\n",
            "{1: 'abc', 2: 'xyz'}\n"
          ]
        }
      ]
    },
    {
      "cell_type": "markdown",
      "metadata": {
        "id": "CsZFln1r8YWf"
      },
      "source": [
        "# Dict Access"
      ]
    },
    {
      "cell_type": "code",
      "metadata": {
        "id": "nCQLFclM8YWh",
        "outputId": "2ff5259e-752c-41b8-ff1d-4d795e1051eb",
        "colab": {
          "base_uri": "https://localhost:8080/"
        }
      },
      "source": [
        "my_dict = {'name': 'srinu', 'age': 40, 'address': 'Hyderabad'}\n",
        "\n",
        "#get name\n",
        "print(my_dict['name'])\n",
        "\n",
        "print(my_dict['age'])\n",
        "\n",
        "print(my_dict['address'])"
      ],
      "execution_count": 5,
      "outputs": [
        {
          "output_type": "stream",
          "name": "stdout",
          "text": [
            "srinu\n",
            "40\n",
            "Hyderabad\n"
          ]
        }
      ]
    },
    {
      "cell_type": "code",
      "metadata": {
        "id": "BYsuLB548YWl",
        "outputId": "30bec404-f3a0-4c18-d2d2-7c0f6c52bec4",
        "colab": {
          "base_uri": "https://localhost:8080/",
          "height": 183
        }
      },
      "source": [
        "#if key is not present it gives KeyError\n",
        "print(my_dict['city'])"
      ],
      "execution_count": 7,
      "outputs": [
        {
          "output_type": "error",
          "ename": "KeyError",
          "evalue": "ignored",
          "traceback": [
            "\u001b[0;31m---------------------------------------------------------------------------\u001b[0m",
            "\u001b[0;31mKeyError\u001b[0m                                  Traceback (most recent call last)",
            "\u001b[0;32m<ipython-input-7-0d58960dc995>\u001b[0m in \u001b[0;36m<module>\u001b[0;34m()\u001b[0m\n\u001b[1;32m      1\u001b[0m \u001b[0;31m#if key is not present it gives KeyError\u001b[0m\u001b[0;34m\u001b[0m\u001b[0;34m\u001b[0m\u001b[0;34m\u001b[0m\u001b[0m\n\u001b[0;32m----> 2\u001b[0;31m \u001b[0mprint\u001b[0m\u001b[0;34m(\u001b[0m\u001b[0mmy_dict\u001b[0m\u001b[0;34m[\u001b[0m\u001b[0;34m'city'\u001b[0m\u001b[0;34m]\u001b[0m\u001b[0;34m)\u001b[0m\u001b[0;34m\u001b[0m\u001b[0;34m\u001b[0m\u001b[0m\n\u001b[0m",
            "\u001b[0;31mKeyError\u001b[0m: 'city'"
          ]
        }
      ]
    },
    {
      "cell_type": "code",
      "metadata": {
        "id": "WNJMH4qp8YWo",
        "outputId": "bb867f9f-51d4-4303-a408-8a0cc28d902a",
        "colab": {
          "base_uri": "https://localhost:8080/"
        }
      },
      "source": [
        "#another way of accessing key\n",
        "print(my_dict.get('address'))"
      ],
      "execution_count": 8,
      "outputs": [
        {
          "output_type": "stream",
          "name": "stdout",
          "text": [
            "Hyderabad\n"
          ]
        }
      ]
    },
    {
      "cell_type": "code",
      "metadata": {
        "id": "fwrZjWaD8YWs",
        "outputId": "3ec74139-c0b4-40da-f4be-ebbc5841042e",
        "colab": {
          "base_uri": "https://localhost:8080/"
        }
      },
      "source": [
        "#if key is not present it will give None using get method\n",
        "print(my_dict.get('degree'))"
      ],
      "execution_count": 9,
      "outputs": [
        {
          "output_type": "stream",
          "name": "stdout",
          "text": [
            "None\n"
          ]
        }
      ]
    },
    {
      "cell_type": "markdown",
      "metadata": {
        "id": "QVQG50dG8YWy"
      },
      "source": [
        "# Dict Add or Modify  Elements"
      ]
    },
    {
      "cell_type": "code",
      "metadata": {
        "id": "Cg9LrSiL8YW0",
        "outputId": "60fa80b8-5502-4016-fb99-c2594c6f0c02",
        "colab": {
          "base_uri": "https://localhost:8080/"
        }
      },
      "source": [
        "my_dict = {'name': 'srinu', 'age': 40, 'address': 'Hyderabad'}\n",
        "\n",
        "#update name \n",
        "my_dict['name'] = 'rama'\n",
        "\n",
        "print(my_dict)"
      ],
      "execution_count": 11,
      "outputs": [
        {
          "output_type": "stream",
          "name": "stdout",
          "text": [
            "{'name': 'rama', 'age': 40, 'address': 'Hyderabad'}\n"
          ]
        }
      ]
    },
    {
      "cell_type": "code",
      "metadata": {
        "id": "CZ2yD3Yv8YW5",
        "outputId": "9b05f19f-d19a-44ec-ee03-b8a2baa6d287",
        "colab": {
          "base_uri": "https://localhost:8080/"
        }
      },
      "source": [
        "#add new key\n",
        "my_dict['degree'] = 'Ph.D'\n",
        "\n",
        "print(my_dict)"
      ],
      "execution_count": 13,
      "outputs": [
        {
          "output_type": "stream",
          "name": "stdout",
          "text": [
            "{'name': 'rama', 'age': 40, 'address': 'Hyderabad', 'degree': 'Ph.D'}\n"
          ]
        }
      ]
    },
    {
      "cell_type": "markdown",
      "metadata": {
        "id": "JlbqO1N78YW8"
      },
      "source": [
        "# Dict Delete or Remove Element"
      ]
    },
    {
      "cell_type": "code",
      "metadata": {
        "id": "8WJsHD9E8YW9",
        "outputId": "8d487891-245b-417a-8087-b112134a9750",
        "colab": {
          "base_uri": "https://localhost:8080/"
        }
      },
      "source": [
        "#create a dictionary\n",
        "my_dict = {'name': 'srinu', 'age': 40, 'address': 'Hyderabad'}\n",
        "\n",
        "#remove a particular item\n",
        "print(my_dict.pop('age'))\n",
        "\n",
        "print(my_dict)"
      ],
      "execution_count": 14,
      "outputs": [
        {
          "output_type": "stream",
          "name": "stdout",
          "text": [
            "40\n",
            "{'name': 'srinu', 'address': 'Hyderabad'}\n"
          ]
        }
      ]
    },
    {
      "cell_type": "code",
      "metadata": {
        "id": "l65nK-cQ8YXA",
        "outputId": "4b8a9aaa-cbaf-4b9e-aa92-20cbc3c9a895",
        "colab": {
          "base_uri": "https://localhost:8080/"
        }
      },
      "source": [
        "my_dict = {'name': 'srinu', 'age': 40, 'address': 'Hyderabad'}\n",
        "\n",
        "#remove an arbitarty key\n",
        "my_dict.popitem()\n",
        "\n",
        "print(my_dict)"
      ],
      "execution_count": 15,
      "outputs": [
        {
          "output_type": "stream",
          "name": "stdout",
          "text": [
            "{'name': 'srinu', 'age': 40}\n"
          ]
        }
      ]
    },
    {
      "cell_type": "code",
      "metadata": {
        "id": "TY12fl4Q8YXD",
        "outputId": "4e4c1670-098d-48a1-e41a-f0ebae85fb10",
        "colab": {
          "base_uri": "https://localhost:8080/"
        }
      },
      "source": [
        "squares = {2: 4, 3: 9, 4: 16, 5: 25}\n",
        "\n",
        "#delete particular key\n",
        "del squares[2]\n",
        "\n",
        "print(squares)"
      ],
      "execution_count": 16,
      "outputs": [
        {
          "output_type": "stream",
          "name": "stdout",
          "text": [
            "{3: 9, 4: 16, 5: 25}\n"
          ]
        }
      ]
    },
    {
      "cell_type": "code",
      "metadata": {
        "id": "WaE9o6-j8YXG",
        "outputId": "a88d2e1d-e23b-48b1-e87e-adcb085e4aaf",
        "colab": {
          "base_uri": "https://localhost:8080/"
        }
      },
      "source": [
        "#remove all items\n",
        "squares.clear()\n",
        "\n",
        "print(squares)"
      ],
      "execution_count": 17,
      "outputs": [
        {
          "output_type": "stream",
          "name": "stdout",
          "text": [
            "{}\n"
          ]
        }
      ]
    },
    {
      "cell_type": "code",
      "metadata": {
        "id": "LUrIAJo58YXK",
        "outputId": "969a3dac-b5dc-4ed3-91e6-bf1809a48043",
        "colab": {
          "base_uri": "https://localhost:8080/",
          "height": 200
        }
      },
      "source": [
        "squares = {2: 4, 3: 9, 4: 16, 5: 25}\n",
        "\n",
        "#delete dictionary itself\n",
        "del squares\n",
        "\n",
        "print(squares) #NameError because dict is deleted"
      ],
      "execution_count": 18,
      "outputs": [
        {
          "output_type": "error",
          "ename": "NameError",
          "evalue": "ignored",
          "traceback": [
            "\u001b[0;31m---------------------------------------------------------------------------\u001b[0m",
            "\u001b[0;31mNameError\u001b[0m                                 Traceback (most recent call last)",
            "\u001b[0;32m<ipython-input-18-6fac7747ecad>\u001b[0m in \u001b[0;36m<module>\u001b[0;34m()\u001b[0m\n\u001b[1;32m      4\u001b[0m \u001b[0;32mdel\u001b[0m \u001b[0msquares\u001b[0m\u001b[0;34m\u001b[0m\u001b[0;34m\u001b[0m\u001b[0m\n\u001b[1;32m      5\u001b[0m \u001b[0;34m\u001b[0m\u001b[0m\n\u001b[0;32m----> 6\u001b[0;31m \u001b[0mprint\u001b[0m\u001b[0;34m(\u001b[0m\u001b[0msquares\u001b[0m\u001b[0;34m)\u001b[0m \u001b[0;31m#NameError because dict is deleted\u001b[0m\u001b[0;34m\u001b[0m\u001b[0;34m\u001b[0m\u001b[0m\n\u001b[0m",
            "\u001b[0;31mNameError\u001b[0m: name 'squares' is not defined"
          ]
        }
      ]
    },
    {
      "cell_type": "markdown",
      "metadata": {
        "id": "umrKAvuz8YXP"
      },
      "source": [
        "# Dictionary Methods"
      ]
    },
    {
      "cell_type": "code",
      "metadata": {
        "id": "pC6eM-Uz8YXQ",
        "outputId": "f7ddbb5b-26ed-45b0-c90e-7c70145b2e4e",
        "colab": {
          "base_uri": "https://localhost:8080/"
        }
      },
      "source": [
        "squares = {2: 4, 3: 9, 4: 16, 5: 25}\n",
        "\n",
        "my_dict = squares.copy()\n",
        "print(my_dict)"
      ],
      "execution_count": 19,
      "outputs": [
        {
          "output_type": "stream",
          "name": "stdout",
          "text": [
            "{2: 4, 3: 9, 4: 16, 5: 25}\n"
          ]
        }
      ]
    },
    {
      "cell_type": "code",
      "metadata": {
        "id": "8smTk2Jr8YXT",
        "outputId": "198e6549-5750-4dba-dd5a-be595071264f",
        "colab": {
          "base_uri": "https://localhost:8080/"
        }
      },
      "source": [
        "#fromkeys[seq[, v]] -> Return a new dictionary with keys from seq and value equal to v (defaults to None).\n",
        "subjects = {}.fromkeys(['Math', 'English', 'Hindi'], 0)\n",
        "print(subjects)"
      ],
      "execution_count": 20,
      "outputs": [
        {
          "output_type": "stream",
          "name": "stdout",
          "text": [
            "{'Math': 0, 'English': 0, 'Hindi': 0}\n"
          ]
        }
      ]
    },
    {
      "cell_type": "code",
      "metadata": {
        "id": "-wW9T7Id8YXW",
        "outputId": "489d302c-de80-4891-be0d-98983addd664",
        "colab": {
          "base_uri": "https://localhost:8080/"
        }
      },
      "source": [
        "subjects = {2:4, 3:9, 4:16, 5:25}\n",
        "print(subjects.items()) #return a new view of the dictionary items (key, value)"
      ],
      "execution_count": 21,
      "outputs": [
        {
          "output_type": "stream",
          "name": "stdout",
          "text": [
            "dict_items([(2, 4), (3, 9), (4, 16), (5, 25)])\n"
          ]
        }
      ]
    },
    {
      "cell_type": "code",
      "metadata": {
        "id": "YMjrhvUr8YXZ",
        "outputId": "bcad9f01-53d7-4273-93ca-43970e311c68",
        "colab": {
          "base_uri": "https://localhost:8080/"
        }
      },
      "source": [
        "subjects = {2:4, 3:9, 4:16, 5:25}\n",
        "print(subjects.keys()) #return a new view of the dictionary keys"
      ],
      "execution_count": 22,
      "outputs": [
        {
          "output_type": "stream",
          "name": "stdout",
          "text": [
            "dict_keys([2, 3, 4, 5])\n"
          ]
        }
      ]
    },
    {
      "cell_type": "code",
      "metadata": {
        "id": "B2AU0n-Z8YXd",
        "outputId": "6a25d8cc-12cf-457e-edcf-0ed4a0c5f9df",
        "colab": {
          "base_uri": "https://localhost:8080/"
        }
      },
      "source": [
        "subjects = {2:4, 3:9, 4:16, 5:25}\n",
        "print(subjects.values()) #return a new view of the dictionary values"
      ],
      "execution_count": 23,
      "outputs": [
        {
          "output_type": "stream",
          "name": "stdout",
          "text": [
            "dict_values([4, 9, 16, 25])\n"
          ]
        }
      ]
    },
    {
      "cell_type": "code",
      "metadata": {
        "id": "Hy5A9de58YXg",
        "outputId": "6a1d36f2-028c-4a53-9295-50a16350b694",
        "colab": {
          "base_uri": "https://localhost:8080/"
        }
      },
      "source": [
        "#get list of all available methods and attributes of dictionary\n",
        "d = {}\n",
        "print(dir(d))"
      ],
      "execution_count": 24,
      "outputs": [
        {
          "output_type": "stream",
          "name": "stdout",
          "text": [
            "['__class__', '__contains__', '__delattr__', '__delitem__', '__dir__', '__doc__', '__eq__', '__format__', '__ge__', '__getattribute__', '__getitem__', '__gt__', '__hash__', '__init__', '__init_subclass__', '__iter__', '__le__', '__len__', '__lt__', '__ne__', '__new__', '__reduce__', '__reduce_ex__', '__repr__', '__setattr__', '__setitem__', '__sizeof__', '__str__', '__subclasshook__', 'clear', 'copy', 'fromkeys', 'get', 'items', 'keys', 'pop', 'popitem', 'setdefault', 'update', 'values']\n"
          ]
        }
      ]
    },
    {
      "cell_type": "markdown",
      "metadata": {
        "id": "YCcb_-y_8YXo"
      },
      "source": [
        "# Dict Comprehension"
      ]
    },
    {
      "cell_type": "code",
      "metadata": {
        "id": "b8nEYWrB8YXr",
        "outputId": "955f1565-9bed-4c6e-85ee-62c18a45ca50",
        "colab": {
          "base_uri": "https://localhost:8080/"
        }
      },
      "source": [
        "#Dict comprehensions are just like list comprehensions but for dictionaries\n",
        "\n",
        "d = {'a': 1, 'b': 2, 'c': 3}\n",
        "for pair in d.items():\n",
        "    print(pair)"
      ],
      "execution_count": 25,
      "outputs": [
        {
          "output_type": "stream",
          "name": "stdout",
          "text": [
            "('a', 1)\n",
            "('b', 2)\n",
            "('c', 3)\n"
          ]
        }
      ]
    },
    {
      "cell_type": "code",
      "metadata": {
        "id": "sKVoZ74V8YXw",
        "outputId": "66b0384b-1bee-4af4-96e2-a51dd32d4eb4",
        "colab": {
          "base_uri": "https://localhost:8080/"
        }
      },
      "source": [
        "#Creating a new dictionary with only pairs where the value is larger than 2\n",
        "d = {'a': 1, 'b': 2, 'c': 3, 'd': 4}\n",
        "new_dict = {k:v for k, v in d.items() if v > 2}\n",
        "print(new_dict)"
      ],
      "execution_count": 27,
      "outputs": [
        {
          "output_type": "stream",
          "name": "stdout",
          "text": [
            "{'c': 3, 'd': 4}\n"
          ]
        }
      ]
    },
    {
      "cell_type": "code",
      "metadata": {
        "id": "JE08JjT28YXz",
        "outputId": "baaea510-192a-4601-ba9b-b5092d664875",
        "colab": {
          "base_uri": "https://localhost:8080/"
        }
      },
      "source": [
        "#We can also perform operations on the key value pairs\n",
        "d = {'a':1,'b':2,'c':3,'d':4,'e':5}\n",
        "d = {k + 'c':v * 2 for k, v in d.items() if v > 2}\n",
        "print(d)"
      ],
      "execution_count": 28,
      "outputs": [
        {
          "output_type": "stream",
          "name": "stdout",
          "text": [
            "{'cc': 6, 'dc': 8, 'ec': 10}\n"
          ]
        }
      ]
    },
    {
      "cell_type": "markdown",
      "source": [
        "Dictionaries vs. Lists\n",
        "\n",
        "Unlike lists, items in dictionaries are unordered. \n",
        "\n",
        "While the order of items matters for determining whether two lists are the same, it does not matter in what order the key-value pairs are typed in a dictionary.\n"
      ],
      "metadata": {
        "id": "hWjweO03__xX"
      }
    },
    {
      "cell_type": "code",
      "metadata": {
        "id": "g8b_0DPE8YX1",
        "colab": {
          "base_uri": "https://localhost:8080/"
        },
        "outputId": "3cc5190e-c701-494c-a0b8-b013b46485a2"
      },
      "source": [
        "s = ['cats', 'dogs', 'moose']\n",
        "\n",
        "b = ['dogs', 'moose', 'cats']\n",
        "\n",
        "print(\"Lists Comparision\",s == b)# comparision of lists\n",
        "\n",
        "d1 = {'name': 'Zophie', 'species': 'cat', 'age': '8'}\n",
        "\n",
        "d2= {'species': 'cat', 'age': '8', 'name': 'Zophie'}\n",
        "\n",
        "print(\"Dictionary Comparision\",d1 == d2)# comparision of dictionary\n"
      ],
      "execution_count": 33,
      "outputs": [
        {
          "output_type": "stream",
          "name": "stdout",
          "text": [
            "Lists Comparision False\n",
            "Dictionary Comparision True\n"
          ]
        }
      ]
    }
  ]
}