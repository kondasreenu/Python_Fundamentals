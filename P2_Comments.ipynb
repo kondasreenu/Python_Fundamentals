{
  "nbformat": 4,
  "nbformat_minor": 0,
  "metadata": {
    "kernelspec": {
      "display_name": "Python 3",
      "name": "python3"
    },
    "language_info": {
      "name": "python"
    },
    "colab": {
      "name": "P2_Comments.ipynb",
      "provenance": [],
      "collapsed_sections": [],
      "include_colab_link": true
    },
    "accelerator": "GPU"
  },
  "cells": [
    {
      "cell_type": "markdown",
      "metadata": {
        "id": "view-in-github",
        "colab_type": "text"
      },
      "source": [
        "<a href=\"https://colab.research.google.com/github/kondasreenu/Python_Fundamentals/blob/main/P2_Comments.ipynb\" target=\"_parent\"><img src=\"https://colab.research.google.com/assets/colab-badge.svg\" alt=\"Open In Colab\"/></a>"
      ]
    },
    {
      "cell_type": "markdown",
      "metadata": {
        "id": "9NhgilnU5dpy"
      },
      "source": [
        "# **Python Comments and Types**"
      ]
    },
    {
      "cell_type": "markdown",
      "metadata": {
        "id": "3TX6NI1p5dp2"
      },
      "source": [
        "Comments are lines that exist in computer programs that are ignored by compilers and interpreters. \n",
        "\n",
        "Commenting involves placing Human Readable Descriptions inside of computer programs detailing what the Code is doing. \n",
        "\n",
        "In general, it is a good idea to write comments while you are writing or updating a program as it is easy to forget your thought process later on, and comments written later may be less useful in the long term. \n",
        "\n",
        "Use of commenting can make code maintenance much easier, as well as helping make finding bugs faster."
      ]
    },
    {
      "cell_type": "markdown",
      "metadata": {
        "id": "vBLt1Apa5dp3"
      },
      "source": [
        "In Python, use the **hash (#) **symbol to start writing a comment."
      ]
    },
    {
      "cell_type": "code",
      "metadata": {
        "id": "e5tq1Kua5dp3",
        "outputId": "7a8e0a48-89e0-4e79-cb4e-2a53a34baee7",
        "colab": {
          "base_uri": "https://localhost:8080/"
        }
      },
      "source": [
        "#Print Hello, world to console\n",
        "print(\"Hello, I am using Python comments\")"
      ],
      "execution_count": null,
      "outputs": [
        {
          "output_type": "stream",
          "name": "stdout",
          "text": [
            "Hello, I am using Python comments\n"
          ]
        }
      ]
    },
    {
      "cell_type": "markdown",
      "metadata": {
        "id": "ZXGq48oT5dp5"
      },
      "source": [
        "# Multi Line Comments"
      ]
    },
    {
      "cell_type": "markdown",
      "metadata": {
        "id": "dsFAF-D05dp5"
      },
      "source": [
        "**Method -1 **: Use hash (#) in the beginning of each line to have comments that extend multiple lines. "
      ]
    },
    {
      "cell_type": "code",
      "metadata": {
        "collapsed": true,
        "id": "G3Friazu5dp6"
      },
      "source": [
        "#This is a long comment\n",
        "#and it extends \n",
        "#Multiple lines"
      ],
      "execution_count": null,
      "outputs": []
    },
    {
      "cell_type": "markdown",
      "metadata": {
        "id": "DLcQhk375dp6"
      },
      "source": [
        "**Method-2: **\n",
        "Use triple quotes, either ''' or \"\"\".\n",
        "\n",
        "Since Python will ignore string literals that are not assigned to a variable, we can add a multiline string (triple quotes) in code, and place comment inside it."
      ]
    },
    {
      "cell_type": "code",
      "metadata": {
        "id": "rWLjGakJ5dp7",
        "outputId": "e89a412f-cdaf-4196-b8f2-da245bdb74ef",
        "colab": {
          "base_uri": "https://localhost:8080/",
          "height": 35
        }
      },
      "source": [
        "\"\"\"This is also a\n",
        "perfect example of\n",
        "multi-line comments\"\"\""
      ],
      "execution_count": 1,
      "outputs": [
        {
          "output_type": "execute_result",
          "data": {
            "application/vnd.google.colaboratory.intrinsic+json": {
              "type": "string"
            },
            "text/plain": [
              "'This is also a\\nperfect example of\\nmulti-line comments'"
            ]
          },
          "metadata": {},
          "execution_count": 1
        }
      ]
    },
    {
      "cell_type": "markdown",
      "metadata": {
        "id": "3TGb_VF75dp7"
      },
      "source": [
        "# DocString in python"
      ]
    },
    {
      "cell_type": "markdown",
      "metadata": {
        "id": "7SVXRcFD5dp7"
      },
      "source": [
        "Docstring is short for **documentation string**.\n",
        "\n",
        "It is a string that occurs as the first statement in a module, function, class, or method definition."
      ]
    },
    {
      "cell_type": "code",
      "metadata": {
        "id": "1BB9VLro5dp8",
        "outputId": "bb177a20-0e65-487c-9596-265a4f81d7da",
        "colab": {
          "base_uri": "https://localhost:8080/"
        }
      },
      "source": [
        "def double(num):\n",
        "    \"\"\"\n",
        "    User defined function to double the number\n",
        "    \"\"\"\n",
        "    return 2 * num\n",
        "\n",
        "print(double(30))"
      ],
      "execution_count": 6,
      "outputs": [
        {
          "output_type": "stream",
          "name": "stdout",
          "text": [
            "60\n"
          ]
        }
      ]
    },
    {
      "cell_type": "code",
      "metadata": {
        "id": "z5DVxHoD5dp8",
        "outputId": "8279d828-384c-465b-e740-6498e7fe8492",
        "colab": {
          "base_uri": "https://localhost:8080/"
        }
      },
      "source": [
        "#Two underscore symbols before and after doc\n",
        "print(double.__doc__) #Docstring is available to us as the attribute __doc__ of the function"
      ],
      "execution_count": 7,
      "outputs": [
        {
          "output_type": "stream",
          "name": "stdout",
          "text": [
            "\n",
            "    User defined function to double the number\n",
            "    \n"
          ]
        }
      ]
    },
    {
      "cell_type": "markdown",
      "metadata": {
        "id": "w1-yha-V5dp8"
      },
      "source": [
        "**# Python Indentation**"
      ]
    },
    {
      "cell_type": "markdown",
      "metadata": {
        "id": "QWPlIlGd5dp8"
      },
      "source": [
        "1. Most of the programming languages like C, C++, Java use braces { } to define a block of code. **Python uses indentation.**\n",
        "\n",
        "2. A code block (body of a function, loop etc.) starts with indentation and ends with the first unindented line. The amount of indentation is up to you, but it must be consistent throughout that block.\n",
        "\n",
        "3. Generally four to five whitespaces are used for indentation and is preferred over tabs."
      ]
    },
    {
      "cell_type": "code",
      "metadata": {
        "id": "PwzhsnWv5dp9",
        "outputId": "9eab2bf0-4211-4907-ae64-4666d347961c",
        "colab": {
          "base_uri": "https://localhost:8080/"
        }
      },
      "source": [
        "for i in range(20):\n",
        "    print(i)"
      ],
      "execution_count": 8,
      "outputs": [
        {
          "output_type": "stream",
          "name": "stdout",
          "text": [
            "0\n",
            "1\n",
            "2\n",
            "3\n",
            "4\n",
            "5\n",
            "6\n",
            "7\n",
            "8\n",
            "9\n",
            "10\n",
            "11\n",
            "12\n",
            "13\n",
            "14\n",
            "15\n",
            "16\n",
            "17\n",
            "18\n",
            "19\n"
          ]
        }
      ]
    },
    {
      "cell_type": "markdown",
      "metadata": {
        "id": "Dbnk4KmM5dp9"
      },
      "source": [
        "Indentation can be ignored in line continuation. But it's best practice to always indent. It makes the code more readable."
      ]
    },
    {
      "cell_type": "code",
      "metadata": {
        "id": "YEgl0dsb5dp9",
        "outputId": "34b040c9-e17f-478e-fc0b-80222616fd06",
        "colab": {
          "base_uri": "https://localhost:8080/"
        }
      },
      "source": [
        "if True:\n",
        "    print(\"Python for Data Science\")\n",
        "    c = \"ABCDE\""
      ],
      "execution_count": 9,
      "outputs": [
        {
          "output_type": "stream",
          "name": "stdout",
          "text": [
            "Python for Data Science\n"
          ]
        }
      ]
    },
    {
      "cell_type": "code",
      "metadata": {
        "id": "Y7sWA6zV5dp9",
        "outputId": "1722f09a-f3a3-45db-afc9-1e1af770fd3a",
        "colab": {
          "base_uri": "https://localhost:8080/"
        }
      },
      "source": [
        "if True: print(\"Python for Data Science\"); c = \"ABCDE\""
      ],
      "execution_count": 11,
      "outputs": [
        {
          "output_type": "stream",
          "name": "stdout",
          "text": [
            "Python for Data Science\n"
          ]
        }
      ]
    },
    {
      "cell_type": "markdown",
      "metadata": {
        "id": "LkpGcruC5dp9"
      },
      "source": [
        "# Python Statement"
      ]
    },
    {
      "cell_type": "markdown",
      "metadata": {
        "id": "9wV-Dafu5dp-"
      },
      "source": [
        "Instructions that a Python interpreter can execute are called **statements.**"
      ]
    },
    {
      "cell_type": "markdown",
      "metadata": {
        "id": "HsFgmf4D5dp-"
      },
      "source": [
        "Examples:"
      ]
    },
    {
      "cell_type": "code",
      "metadata": {
        "collapsed": true,
        "id": "KSKr71FY5dp-"
      },
      "source": [
        " a = 1  #single statement"
      ],
      "execution_count": 12,
      "outputs": []
    },
    {
      "cell_type": "markdown",
      "metadata": {
        "id": "Bl77MMSg5dp-"
      },
      "source": [
        "# Multi-Line Statement"
      ]
    },
    {
      "cell_type": "markdown",
      "metadata": {
        "id": "kxrg6PYI5dp-"
      },
      "source": [
        "In Python, end of a statement is marked by a newline character. \n",
        "But we can make a statement extend over multiple lines with the line continuation character (\\)."
      ]
    },
    {
      "cell_type": "code",
      "metadata": {
        "collapsed": true,
        "id": "TOekGko75dp-"
      },
      "source": [
        "a = 11 + 12 + 13 + \\\n",
        "    14 + 15 + 16 + \\\n",
        "    17 + 18"
      ],
      "execution_count": 13,
      "outputs": []
    },
    {
      "cell_type": "code",
      "metadata": {
        "id": "2MGYHYK-5dp-",
        "outputId": "df29a6c6-82d8-4507-ebc8-899afe3507c5",
        "colab": {
          "base_uri": "https://localhost:8080/"
        }
      },
      "source": [
        "print(a)"
      ],
      "execution_count": 14,
      "outputs": [
        {
          "output_type": "stream",
          "name": "stdout",
          "text": [
            "116\n"
          ]
        }
      ]
    },
    {
      "cell_type": "code",
      "metadata": {
        "id": "bqsgS-0-5dp_",
        "outputId": "3cfc1822-a389-459f-8606-588fc5bc0fdc",
        "colab": {
          "base_uri": "https://localhost:8080/"
        }
      },
      "source": [
        "#another way using parathesis\n",
        "a = (11 +12 + 13 +\n",
        "    14 + 15 + 16 + \n",
        "    17 + 18)\n",
        "print(a)"
      ],
      "execution_count": 16,
      "outputs": [
        {
          "output_type": "stream",
          "name": "stdout",
          "text": [
            "116\n"
          ]
        }
      ]
    },
    {
      "cell_type": "code",
      "metadata": {
        "collapsed": true,
        "id": "EjIdwp9B5dp_"
      },
      "source": [
        "a = 10; b = 20; c = 30   #multiple statements in a single line using ;"
      ],
      "execution_count": 17,
      "outputs": []
    }
  ]
}