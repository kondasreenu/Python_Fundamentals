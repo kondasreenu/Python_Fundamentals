{
  "nbformat": 4,
  "nbformat_minor": 0,
  "metadata": {
    "colab": {
      "name": "P_for loop.ipynb",
      "provenance": [],
      "authorship_tag": "ABX9TyMvBsgA2J5/CpIZD0RqO3s5",
      "include_colab_link": true
    },
    "kernelspec": {
      "name": "python3",
      "display_name": "Python 3"
    },
    "language_info": {
      "name": "python"
    }
  },
  "cells": [
    {
      "cell_type": "markdown",
      "metadata": {
        "id": "view-in-github",
        "colab_type": "text"
      },
      "source": [
        "<a href=\"https://colab.research.google.com/github/kondasreenu/Python_Fundamentals/blob/main/P_for_loop.ipynb\" target=\"_parent\"><img src=\"https://colab.research.google.com/assets/colab-badge.svg\" alt=\"Open In Colab\"/></a>"
      ]
    },
    {
      "cell_type": "markdown",
      "source": [
        "**#for Loops and the range() Function**\n",
        "\n",
        "The while loop keeps looping while its condition is True, but what if you want to execute a block of code only a certain number of times?\n",
        "\n",
        "The for loop in Python is used to iterate over a sequence (list, tuple, string) or other iteratable objects. Iterating over a sequence is called traversal.\n",
        "\n",
        "Here, val is the variable that takes the value of the item inside the sequence on each iteration.\n",
        "\n",
        "Loop continues until we reach the last item in the sequence. The body of for loop is separated from the rest of the code using indentation.\n",
        "\n",
        "\n",
        "for val in sequence:\n",
        "\n",
        "    loop body\n",
        "\n",
        "\n",
        "for loop is a much more crisper or cleaner way of writing doing the same while loop is doing.\n"
      ],
      "metadata": {
        "id": "G7xhI-8XEs6_"
      }
    },
    {
      "cell_type": "code",
      "execution_count": 3,
      "metadata": {
        "colab": {
          "base_uri": "https://localhost:8080/"
        },
        "id": "6C80dlHnEngi",
        "outputId": "eb77da31-3055-4037-bc6e-08bfd546413d"
      },
      "outputs": [
        {
          "output_type": "stream",
          "name": "stdout",
          "text": [
            "The sum is 30\n"
          ]
        }
      ],
      "source": [
        "# List of numbers\n",
        "numbers = [2, 4, 6, 8, 10]\n",
        "# variable to store the sum\n",
        "sum = 0\n",
        "# iterating over the list\n",
        "for val in numbers:\n",
        "  sum += val\n",
        "print(\"The sum is\", sum)\n"
      ]
    },
    {
      "cell_type": "markdown",
      "source": [
        "**#range() Function**\n",
        "\n",
        "•\tuse the range() function in for loops to iterate through a sequence of numbers. \n",
        "\n",
        "•\tIt can be combined with the len() function to iterate through a sequence using indexing.\n"
      ],
      "metadata": {
        "id": "t-2Oxfr-FjIl"
      }
    },
    {
      "cell_type": "code",
      "source": [
        "range(10) # doen't produce a list\n",
        "print(range(10)) \n",
        "\n",
        "print(list(range(10))) # from 0 to 9\n",
        "\n",
        "print(list(range(2, 8))) # from 2 to 7\n",
        "\n",
        "print(list(range(2, 20, 3))) # from 2 to 19, step 3"
      ],
      "metadata": {
        "colab": {
          "base_uri": "https://localhost:8080/"
        },
        "id": "2H3M8FmlFiHt",
        "outputId": "3459359a-63b3-4d6f-d4cf-04c484408c59"
      },
      "execution_count": 5,
      "outputs": [
        {
          "output_type": "stream",
          "name": "stdout",
          "text": [
            "range(0, 10)\n",
            "[0, 1, 2, 3, 4, 5, 6, 7, 8, 9]\n",
            "[2, 3, 4, 5, 6, 7]\n",
            "[2, 5, 8, 11, 14, 17]\n"
          ]
        }
      ]
    },
    {
      "cell_type": "code",
      "source": [
        "for i in range(10): #0,1,2,...,9, doen't produce a list, it just iterates a list\n",
        "  print(i)"
      ],
      "metadata": {
        "colab": {
          "base_uri": "https://localhost:8080/"
        },
        "id": "dftCV1oJGbmU",
        "outputId": "39ba5018-f41c-48aa-b5e0-121566776dca"
      },
      "execution_count": 6,
      "outputs": [
        {
          "output_type": "stream",
          "name": "stdout",
          "text": [
            "0\n",
            "1\n",
            "2\n",
            "3\n",
            "4\n",
            "5\n",
            "6\n",
            "7\n",
            "8\n",
            "9\n"
          ]
        }
      ]
    },
    {
      "cell_type": "code",
      "source": [
        "#Print range of numbers from 1 to 50 step size 2\n",
        "for i in range(1,50,2): #1,3,5,...49\n",
        "  print(i)\n",
        "\n",
        "\n",
        "  '''\n",
        "  for(i=1;i<=50;i+=2)\n",
        "  {\n",
        "    \n",
        "  }"
      ],
      "metadata": {
        "colab": {
          "base_uri": "https://localhost:8080/"
        },
        "id": "GiGEIUvlHGAx",
        "outputId": "9ffcd293-c508-4054-9a44-f14dc5c4d402"
      },
      "execution_count": 7,
      "outputs": [
        {
          "output_type": "stream",
          "name": "stdout",
          "text": [
            "1\n",
            "3\n",
            "5\n",
            "7\n",
            "9\n",
            "11\n",
            "13\n",
            "15\n",
            "17\n",
            "19\n",
            "21\n",
            "23\n",
            "25\n",
            "27\n",
            "29\n",
            "31\n",
            "33\n",
            "35\n",
            "37\n",
            "39\n",
            "41\n",
            "43\n",
            "45\n",
            "47\n",
            "49\n"
          ]
        }
      ]
    },
    {
      "cell_type": "code",
      "source": [
        "#Print names of cities in a list, using range iterate over a list \n",
        "city = [\"Hyderabad\", \"Secunderabad\", \"Warangal\", \"Pune\", \"Delhi\"]\n",
        "for index in range(len(city)):\n",
        "  print(city[index])"
      ],
      "metadata": {
        "colab": {
          "base_uri": "https://localhost:8080/"
        },
        "id": "fYNA29RxH1BU",
        "outputId": "50e5d6e0-0f1f-4fa2-f9fd-1eda529902ab"
      },
      "execution_count": 8,
      "outputs": [
        {
          "output_type": "stream",
          "name": "stdout",
          "text": [
            "Hyderabad\n",
            "Secunderabad\n",
            "Warangal\n",
            "Pune\n",
            "Delhi\n"
          ]
        }
      ]
    },
    {
      "cell_type": "code",
      "source": [
        "#Print names of cities in a list another approach, best way\n",
        "city = [\"Hyderabad\", \"Secunderabad\", \"Warangal\", \"Pune\", \"Delhi\"]\n",
        "for ele in city:\n",
        "  print(ele)"
      ],
      "metadata": {
        "colab": {
          "base_uri": "https://localhost:8080/"
        },
        "id": "phsJKdq3IZrB",
        "outputId": "5eaa046b-1ce5-4a0b-dab8-5e43de174a81"
      },
      "execution_count": 9,
      "outputs": [
        {
          "output_type": "stream",
          "name": "stdout",
          "text": [
            "Hyderabad\n",
            "Secunderabad\n",
            "Warangal\n",
            "Pune\n",
            "Delhi\n"
          ]
        }
      ]
    },
    {
      "cell_type": "markdown",
      "source": [
        "**#for loop with else**\n",
        "\n",
        "A for loop can have an optional else block as well. The else part is executed if the items in the sequence used in for loop exhausts.\n",
        "\n",
        "The break keyword can be used to stop a for loop. In such cases, the else part is ignored.\n",
        "\n",
        "Hence, a for loop's else part runs if no break occurs.\n"
      ],
      "metadata": {
        "id": "DSG151vDIvyQ"
      }
    },
    {
      "cell_type": "code",
      "source": [
        "digits = [0, 1, 5]\n",
        "for i in digits:\n",
        "  print(i)\n",
        "else:\n",
        "  print(\"No items left.\")\n"
      ],
      "metadata": {
        "colab": {
          "base_uri": "https://localhost:8080/"
        },
        "id": "-9tZTkiGI253",
        "outputId": "81c35128-e710-4251-c026-cc35f7e67120"
      },
      "execution_count": 10,
      "outputs": [
        {
          "output_type": "stream",
          "name": "stdout",
          "text": [
            "0\n",
            "1\n",
            "5\n",
            "No items left.\n"
          ]
        }
      ]
    },
    {
      "cell_type": "code",
      "source": [
        "digits = [0, 1, 5]\n",
        "for i in digits:\n",
        "  if(i==5):\n",
        "    break\n",
        "  print(i)\n",
        "else:\n",
        "  print(\"No items left.\")\n"
      ],
      "metadata": {
        "colab": {
          "base_uri": "https://localhost:8080/"
        },
        "id": "LtJ7daXfI82H",
        "outputId": "dc1747ea-a126-4c87-8fbe-9f12a45aed36"
      },
      "execution_count": 11,
      "outputs": [
        {
          "output_type": "stream",
          "name": "stdout",
          "text": [
            "0\n",
            "1\n"
          ]
        }
      ]
    }
  ]
}