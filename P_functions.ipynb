{
  "nbformat": 4,
  "nbformat_minor": 0,
  "metadata": {
    "colab": {
      "name": "P_functions.ipynb",
      "provenance": [],
      "collapsed_sections": [],
      "include_colab_link": true
    },
    "kernelspec": {
      "display_name": "Python 3",
      "language": "python",
      "name": "python3"
    }
  },
  "cells": [
    {
      "cell_type": "markdown",
      "metadata": {
        "id": "view-in-github",
        "colab_type": "text"
      },
      "source": [
        "<a href=\"https://colab.research.google.com/github/kondasreenu/Python_Fundamentals/blob/main/P_functions.ipynb\" target=\"_parent\"><img src=\"https://colab.research.google.com/assets/colab-badge.svg\" alt=\"Open In Colab\"/></a>"
      ]
    },
    {
      "cell_type": "markdown",
      "metadata": {
        "id": "W685A3V4qx1Q"
      },
      "source": [
        "# Python Functions"
      ]
    },
    {
      "cell_type": "markdown",
      "metadata": {
        "id": "iueQVnPGqx1U"
      },
      "source": [
        "Function is a group of related statements that perform a specific task.\n",
        "\n",
        "Functions help break our program into smaller and modular chunks. \n",
        "\n",
        "As program grows larger and larger, functions make it more organized and manageable.\n",
        "\n",
        "It avoids repetition and makes code reusable."
      ]
    },
    {
      "cell_type": "markdown",
      "metadata": {
        "id": "LDZ6MpTwqx1a"
      },
      "source": [
        "# Syntax:"
      ]
    },
    {
      "cell_type": "markdown",
      "metadata": {
        "id": "EyqjxCEwqx1c"
      },
      "source": [
        "    def function_name(parameters):\n",
        "    \n",
        "        \"\"\"\n",
        "        Doc String\n",
        "        \"\"\"\n",
        "    \n",
        "        Statement(s)"
      ]
    },
    {
      "cell_type": "markdown",
      "metadata": {
        "id": "k4qKflh4qx1e"
      },
      "source": [
        "1. keyword \"**def**\" marks the start of function header\n",
        "\n",
        "2. Parameters (arguments) through which we pass values to a function. These are optional\n",
        "\n",
        "3. A colon(:) to mark the **end of funciton header**\n",
        "\n",
        "4. Doc string describe what the function does. This is optional\n",
        "\n",
        "5. \"return\" statement to return a value from the function. This is optional"
      ]
    },
    {
      "cell_type": "markdown",
      "metadata": {
        "id": "tHJhKoLgqx1h"
      },
      "source": [
        "# Example:"
      ]
    },
    {
      "cell_type": "code",
      "metadata": {
        "id": "Y8D1p1eAqx1i"
      },
      "source": [
        "def print_name(name):\n",
        "    \"\"\" \n",
        "    This function prints the name\n",
        "    \"\"\"\n",
        "    print(\"Hello \" + str(name)) \n"
      ],
      "execution_count": null,
      "outputs": []
    },
    {
      "cell_type": "markdown",
      "metadata": {
        "id": "TDBBivd2qx1p"
      },
      "source": [
        "# Function Call\n",
        "\n",
        "Once we have defined a function, we can call it from anywhere"
      ]
    },
    {
      "cell_type": "code",
      "metadata": {
        "id": "4CJ01FUpqx1t",
        "outputId": "1e327185-5f5a-4e95-c853-06fd0668033e",
        "colab": {
          "base_uri": "https://localhost:8080/"
        }
      },
      "source": [
        "def print_name(name):\n",
        "    \"\"\" \n",
        "    This function prints the name\n",
        "    \"\"\"\n",
        "    print(\"Hello \" + str(name)) \n",
        "\n",
        "print_name('Srinu') #Function call\n",
        "\n",
        "print(print_name.__doc__)\n"
      ],
      "execution_count": 5,
      "outputs": [
        {
          "output_type": "stream",
          "name": "stdout",
          "text": [
            "Hello Srinu\n",
            " \n",
            "    This function prints the name\n",
            "    \n"
          ]
        }
      ]
    },
    {
      "cell_type": "markdown",
      "metadata": {
        "collapsed": true,
        "id": "oljIs66Jqx11"
      },
      "source": [
        "# Doc String"
      ]
    },
    {
      "cell_type": "markdown",
      "metadata": {
        "id": "7qnfLrtsqx12"
      },
      "source": [
        "The first string after the function header is called the docstring and is short for documentation string.\n"
      ]
    },
    {
      "cell_type": "markdown",
      "metadata": {
        "id": "hQmE1qO8qx14"
      },
      "source": [
        "Although optional, documentation is a good programming practice, always document your code"
      ]
    },
    {
      "cell_type": "markdown",
      "metadata": {
        "id": "HICWQwepqx15"
      },
      "source": [
        "Doc string will be written in triple quotes so that docstring can extend up to multiple lines"
      ]
    },
    {
      "cell_type": "code",
      "metadata": {
        "id": "hQCrIjvzqx18",
        "outputId": "b871cac4-93b1-4583-b7a0-e38f0f8040c7",
        "colab": {
          "base_uri": "https://localhost:8080/"
        }
      },
      "source": [
        "def print_name(name):\n",
        "    \"\"\" \n",
        "    This function prints the name\n",
        "    \"\"\"\n",
        "    print(\"Hello \" + str(name)) \n",
        "\n",
        "print_name('Srinu') #Function call\n",
        "print(print_name.__doc__) # Two underscore symbols before and after doc print doc string of the function\n"
      ],
      "execution_count": 6,
      "outputs": [
        {
          "output_type": "stream",
          "name": "stdout",
          "text": [
            "Hello Srinu\n",
            " \n",
            "    This function prints the name\n",
            "    \n"
          ]
        }
      ]
    },
    {
      "cell_type": "markdown",
      "metadata": {
        "id": "7bXpeRMXqx2D"
      },
      "source": [
        "# return Statement\n",
        "\n",
        "The return statement is used to exit a function and go back to the place from where it was called."
      ]
    },
    {
      "cell_type": "markdown",
      "metadata": {
        "id": "XPoedgmGqx2H"
      },
      "source": [
        "Syntax:\n",
        "    \n",
        "    return [expression]"
      ]
    },
    {
      "cell_type": "markdown",
      "metadata": {
        "id": "IIkX4Y1gqx2J"
      },
      "source": [
        "-> return statement can contain an expression which gets evaluated and the value is returned.\n",
        "\n",
        "-> if there is no expression in the statement or the return statement itself is not present inside a function, then the function will return **None** Object"
      ]
    },
    {
      "cell_type": "code",
      "metadata": {
        "id": "e8JqjPNvqx2L"
      },
      "source": [
        "def get_sum(lst):\n",
        "    \"\"\"\n",
        "    This function returns the sum of all the elements in a list\n",
        "    \"\"\"\n",
        "    #initialize sum\n",
        "    _sum = 0\n",
        "    \n",
        "    #iterating over the list\n",
        "    for num in lst:\n",
        "        _sum += num\n",
        "    return _sum\n"
      ],
      "execution_count": 7,
      "outputs": []
    },
    {
      "cell_type": "code",
      "metadata": {
        "id": "9tKmO0IQqx2T",
        "outputId": "8c967338-1511-4067-e2cc-5c03409cb7d9",
        "colab": {
          "base_uri": "https://localhost:8080/"
        }
      },
      "source": [
        "s = get_sum([1, 2, 3, 4])\n",
        "print(s)\n"
      ],
      "execution_count": 8,
      "outputs": [
        {
          "output_type": "stream",
          "name": "stdout",
          "text": [
            "10\n"
          ]
        }
      ]
    },
    {
      "cell_type": "code",
      "metadata": {
        "id": "aJ2e31Jrqx2Y",
        "outputId": "af5af066-0295-4ec6-c6e6-51a68096a9a3",
        "colab": {
          "base_uri": "https://localhost:8080/"
        }
      },
      "source": [
        "#print doc string\n",
        "print(get_sum.__doc__)\n"
      ],
      "execution_count": 9,
      "outputs": [
        {
          "output_type": "stream",
          "name": "stdout",
          "text": [
            "\n",
            "    This function returns the sum of all the elements in a list\n",
            "    \n"
          ]
        }
      ]
    },
    {
      "cell_type": "markdown",
      "metadata": {
        "id": "wKMztpt2qx2e"
      },
      "source": [
        "# How Function works in Python?"
      ]
    },
    {
      "cell_type": "markdown",
      "metadata": {
        "id": "kKZtprN7qx2f"
      },
      "source": [
        "![functions.png](data:image/png;base64,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)"
      ]
    },
    {
      "cell_type": "markdown",
      "metadata": {
        "id": "ngEFY7UVqx2i"
      },
      "source": [
        "# Scope and Life Time of Variables"
      ]
    },
    {
      "cell_type": "markdown",
      "metadata": {
        "id": "Q_2YkKBlqx2l"
      },
      "source": [
        "-> Scope of a variable is the portion of a program where the variable is recognized\n",
        "\n",
        "Parameters and variables that are assigned in a called function are said to exist in that function’s **local scope**. \n",
        "\n",
        "Variables that are assigned outside all functions are said to exist in the **global scope**. \n",
        "\n",
        "A variable that exists in a local scope is called a **local variable**, while a variable that exists in the global scope is called a **global variable**. \n",
        "\n",
        "A variable must be one or the other; it cannot be both local and global.\n",
        "\n",
        "\n",
        "**Lifetime** of a variable is the period throughout which the variable exits in the memory.\n",
        "\n",
        "The lifetime of variables inside a function is as long as the function executes.\n",
        "\n",
        "Variables are destroyed once we return from the function. \n",
        "\n",
        "There is only one global scope, and it is created when your program begins.When your program terminates, the global scope is destroyed, and all its variables are forgotten."
      ]
    },
    {
      "cell_type": "markdown",
      "metadata": {
        "id": "SdCba00Uqx2r"
      },
      "source": [
        "# Example:"
      ]
    },
    {
      "cell_type": "code",
      "metadata": {
        "id": "8jUaZMoiqx2r",
        "outputId": "fe6c64c2-4b9e-466d-eaf6-56938eae3a56"
      },
      "source": [
        "global_var = \"This is global variable\"\n",
        "\n",
        "def test_life_time():\n",
        "    \"\"\"\n",
        "    This function test the life time of a variables\n",
        "    \"\"\"\n",
        "    local_var = \"This is local variable\"\n",
        "    print(local_var)       #print local variable local_var\n",
        "    \n",
        "    print(global_var)      #print global variable global_var\n",
        "    \n",
        "    \n",
        "\n",
        "#calling function\n",
        "test_life_time()\n",
        "\n",
        "#print global variable global_var\n",
        "print(global_var)\n",
        "\n",
        "#print local variable local_var\n",
        "print(local_var)\n"
      ],
      "execution_count": null,
      "outputs": [
        {
          "output_type": "stream",
          "text": [
            "This is local variable\n",
            "This is global variable\n",
            "This is global variable\n"
          ],
          "name": "stdout"
        },
        {
          "output_type": "error",
          "ename": "NameError",
          "evalue": "name 'local_var' is not defined",
          "traceback": [
            "\u001b[0;31m---------------------------------------------------------------------------\u001b[0m",
            "\u001b[0;31mNameError\u001b[0m                                 Traceback (most recent call last)",
            "\u001b[0;32m<ipython-input-12-d5226680661e>\u001b[0m in \u001b[0;36m<module>\u001b[0;34m()\u001b[0m\n\u001b[1;32m     19\u001b[0m \u001b[0;34m\u001b[0m\u001b[0m\n\u001b[1;32m     20\u001b[0m \u001b[0;31m#print local variable local_var\u001b[0m\u001b[0;34m\u001b[0m\u001b[0;34m\u001b[0m\u001b[0m\n\u001b[0;32m---> 21\u001b[0;31m \u001b[0mprint\u001b[0m\u001b[0;34m(\u001b[0m\u001b[0mlocal_var\u001b[0m\u001b[0;34m)\u001b[0m\u001b[0;34m\u001b[0m\u001b[0m\n\u001b[0m",
            "\u001b[0;31mNameError\u001b[0m: name 'local_var' is not defined"
          ]
        }
      ]
    },
    {
      "cell_type": "markdown",
      "source": [
        "The reason Python has different scopes instead of just making everything a global variable is so that when variables are modified by the code in a particular call to a function, the function interacts with the rest of the program only through its parameters and the return value. This narrows down the number of lines of code that may be causing a bug. If your program contained nothing but global variables and had a bug because of a variable being set to a bad value, then it would be hard to track down where this bad value was set. It could have been set from anywhere in the program, and your program could be hundreds or thousands of lines long! But if the bug is caused by a local variable with a bad value, you know that only the code in that one function could have set it incorrectly.\n",
        "\n",
        "While using global variables in small programs is fine, it is a bad habit to rely on global variables as your programs get larger and larger."
      ],
      "metadata": {
        "id": "ubUToyMrKnmO"
      }
    },
    {
      "cell_type": "code",
      "source": [
        "def test():\n",
        "  global x\n",
        "  print(x) #global\n",
        "  x = 'local'\n",
        "  print(x) #x updated\n",
        "\n",
        "x = 'global'\n",
        "test()\n",
        "print(x) #updated value"
      ],
      "metadata": {
        "colab": {
          "base_uri": "https://localhost:8080/"
        },
        "id": "nQWb3VKmKzNf",
        "outputId": "8644265f-1e02-4b25-bf16-fe7c82b3fa88"
      },
      "execution_count": 19,
      "outputs": [
        {
          "output_type": "stream",
          "name": "stdout",
          "text": [
            "global\n",
            "local\n",
            "local\n"
          ]
        }
      ]
    },
    {
      "cell_type": "markdown",
      "metadata": {
        "id": "m57Z9Aq1qx2z"
      },
      "source": [
        "# Python program to print Highest Common Factor (HCF) of two numbers"
      ]
    },
    {
      "cell_type": "code",
      "metadata": {
        "id": "khyxyWWBqx20",
        "colab": {
          "base_uri": "https://localhost:8080/"
        },
        "outputId": "c4e7bf0b-b94c-4da6-df54-8c91cbd8f25d"
      },
      "source": [
        "def computeHCF(a, b):\n",
        "    \"\"\"\n",
        "    Computing HCF of two numbers\n",
        "    \"\"\"\n",
        "    smaller = b if a > b else a  #consice way of writing if else statement\n",
        "    \n",
        "    hcf = 1\n",
        "    for i in range(1, smaller+1):\n",
        "        if (a % i == 0) and (b % i == 0):\n",
        "            hcf = i\n",
        "    return hcf\n",
        "\n",
        "num1 = 99\n",
        "num2 = 45\n",
        "\n",
        "print(\"H.C.F of {0} and {1} is: {2}\".format(num1, num2, computeHCF(num1, num2)))"
      ],
      "execution_count": 14,
      "outputs": [
        {
          "output_type": "stream",
          "name": "stdout",
          "text": [
            "H.C.F of 99 and 45 is: 9\n"
          ]
        }
      ]
    },
    {
      "cell_type": "code",
      "metadata": {
        "id": "en1Kc1Jjqx2_",
        "colab": {
          "base_uri": "https://localhost:8080/"
        },
        "outputId": "a55f82cb-a1bb-4948-fb77-34a8c9f4df84"
      },
      "source": [
        "import math\n",
        "print(math.gcd(99, 45))"
      ],
      "execution_count": 20,
      "outputs": [
        {
          "output_type": "stream",
          "name": "stdout",
          "text": [
            "9\n"
          ]
        }
      ]
    }
  ]
}