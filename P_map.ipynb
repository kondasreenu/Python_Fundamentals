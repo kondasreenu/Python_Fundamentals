{
  "nbformat": 4,
  "nbformat_minor": 0,
  "metadata": {
    "colab": {
      "name": "P_map.ipynb",
      "provenance": [],
      "authorship_tag": "ABX9TyOVsncKoR17Qch3hte7VH8Y",
      "include_colab_link": true
    },
    "kernelspec": {
      "name": "python3",
      "display_name": "Python 3"
    },
    "language_info": {
      "name": "python"
    }
  },
  "cells": [
    {
      "cell_type": "markdown",
      "metadata": {
        "id": "view-in-github",
        "colab_type": "text"
      },
      "source": [
        "<a href=\"https://colab.research.google.com/github/kondasreenu/Python_Fundamentals/blob/main/P_map.ipynb\" target=\"_parent\"><img src=\"https://colab.research.google.com/assets/colab-badge.svg\" alt=\"Open In Colab\"/></a>"
      ]
    },
    {
      "cell_type": "markdown",
      "source": [
        "#**Python's map() Function: Transforming Iterables**\n",
        "\n",
        "The map() function applies a given function to each item of an iterable (list, tuple etc.) and returns an iterator without using an explicit for loop, a technique commonly known as mapping.\n",
        "\n",
        "\n",
        "\n",
        "\n"
      ],
      "metadata": {
        "id": "EK4AlC1-AtnT"
      }
    },
    {
      "cell_type": "code",
      "execution_count": 4,
      "metadata": {
        "colab": {
          "base_uri": "https://localhost:8080/"
        },
        "id": "_Ja0xuSdAkJ0",
        "outputId": "883ba41c-f26e-448b-9790-7332fb5d53f6"
      },
      "outputs": [
        {
          "output_type": "stream",
          "name": "stdout",
          "text": [
            "Method-1 [4, 16, 36, 64, 100]\n",
            "Method-2 [4, 16, 36, 64, 100]\n",
            "Method-3 [4, 16, 36, 64, 100]\n"
          ]
        }
      ],
      "source": [
        "#Example\n",
        "\n",
        "numbers = [2, 4, 6, 8, 10]\n",
        "\n",
        "#finding the square of a number\n",
        "#Method-1\n",
        "\n",
        "m1 = []\n",
        "for i in numbers:\n",
        "  m1.append(i*i)\n",
        "print(\"Method-1\",m1)\n",
        "\n",
        "#Method-2 using List Comprehension\n",
        "m2 = [i**2 for i in numbers]\n",
        "print(\"Method-2\",m2)\n",
        "\n",
        "#Method-3 using map, no for loop\n",
        "# returns square of a number\n",
        "def square(number):\n",
        "  return number * number\n",
        "m3 = list(map(square, numbers))\n",
        "print(\"Method-3\",m3)"
      ]
    },
    {
      "cell_type": "markdown",
      "source": [
        "**Understanding map()**\n",
        "\n",
        "Syntax: \n",
        "\n",
        "**map(function, iterable, ...)**\n",
        "\n",
        "map() loops over the items of an input iterable (or iterables) and returns an iterator that results from applying a transformation function to every item in the original input iterable.\n",
        "\n",
        "\n",
        "**map() Parameter**\n",
        "\n",
        "function - a function that perform some action to each element of an iterable,\n",
        "need to pass a function without calling it. That is, without using a pair of parentheses.\n",
        "\n",
        "iterable - an iterable like sets, lists, tuples, etc\n",
        "\n",
        "\n",
        "**map() Return Value**\n",
        "\n",
        "The map() function returns an object of map class. The returned value can be passed to functions like\n",
        "\n",
        "list() - to convert to list\n",
        "\n",
        "set() - to convert to a set, and so on.\n",
        "\n",
        "\n"
      ],
      "metadata": {
        "id": "UKpxop-yCr_d"
      }
    },
    {
      "cell_type": "code",
      "source": [
        "str_nums = [\"4\", \"8\", \"6\", \"5\", \"3\", \"2\", \"8\", \"9\", \"2\", \"5\"]\n",
        "\n",
        "numbers_lst = list(map(int,str_nums)) #first parameter is int\n",
        "\n",
        "print(numbers_lst)\n",
        "\n",
        "numbers_set = set(map(int,str_nums))\n",
        "\n",
        "print(numbers_set)"
      ],
      "metadata": {
        "colab": {
          "base_uri": "https://localhost:8080/"
        },
        "id": "5pfSkPJ-DeEJ",
        "outputId": "8d5d800d-f1e3-4bfb-b293-6cb767eb97c7"
      },
      "execution_count": 6,
      "outputs": [
        {
          "output_type": "stream",
          "name": "stdout",
          "text": [
            "[4, 8, 6, 5, 3, 2, 8, 9, 2, 5]\n",
            "{2, 3, 4, 5, 6, 8, 9}\n"
          ]
        }
      ]
    },
    {
      "cell_type": "code",
      "source": [
        "numbers = [-2, -1, 0, 1, 2]\n",
        "numbers_lst = list(map(abs,numbers)) #first parameter is abs\n",
        "\n",
        "print(numbers_lst)\n",
        "\n",
        "\n",
        "numbers_lst_f = list(map(float, numbers))\n",
        "print(numbers_lst_f)\n",
        "\n",
        "\n",
        "words = [\"Welcome\", \"to\", \"Real\", \"Python\"]\n",
        "print(list(map(len, words)))"
      ],
      "metadata": {
        "colab": {
          "base_uri": "https://localhost:8080/"
        },
        "id": "KBxVCb7yD9BE",
        "outputId": "3f5c4ed2-6f21-40c5-845a-99fa1d016896"
      },
      "execution_count": 10,
      "outputs": [
        {
          "output_type": "stream",
          "name": "stdout",
          "text": [
            "[2, 1, 0, 1, 2]\n",
            "[-2.0, -1.0, 0.0, 1.0, 2.0]\n",
            "[7, 2, 4, 6]\n"
          ]
        }
      ]
    },
    {
      "cell_type": "markdown",
      "source": [
        "#lambda functions\n",
        "\n",
        "A common pattern while using map() is to use a lambda function as the first argument. \n",
        "\n",
        "lambda functions are handy when you need to pass an expression-based function to map().\n",
        "\n"
      ],
      "metadata": {
        "id": "iXtHw0ciEi-v"
      }
    },
    {
      "cell_type": "code",
      "source": [
        "#Squaring of numbers using lambda\n",
        "numbers = [1, 2, 3, 4, 5]\n",
        "\n",
        "squared = map(lambda num: num ** 2, numbers)\n",
        "\n",
        "print(list(squared))"
      ],
      "metadata": {
        "colab": {
          "base_uri": "https://localhost:8080/"
        },
        "id": "-6zwCxQ4Etwm",
        "outputId": "93593569-fcc6-4eb4-a7a8-28b742ffd78b"
      },
      "execution_count": 12,
      "outputs": [
        {
          "output_type": "stream",
          "name": "stdout",
          "text": [
            "[1, 4, 9, 16, 25]\n"
          ]
        }
      ]
    },
    {
      "cell_type": "code",
      "source": [
        "#Passing Multiple Iterators to map() Using Lambda\n",
        "\n",
        "numbers1 = [1, 2, 3, 4, 5]\n",
        "\n",
        "numbers2 = [11, 12, 13, 14, 15]\n",
        "\n",
        "sum = map(lambda n1,n2: n1+n2, numbers1,numbers2)\n",
        "\n",
        "print(list(sum))\n",
        "\n",
        "sub = map(lambda n1,n2: n1-n2, numbers1,numbers2)\n",
        "\n",
        "print(list(sub))\n",
        "\n",
        "mul = map(lambda n1,n2: n1*n2, numbers1,numbers2)\n",
        "\n",
        "print(list(mul))"
      ],
      "metadata": {
        "colab": {
          "base_uri": "https://localhost:8080/"
        },
        "id": "OLj5PoCtFuTe",
        "outputId": "3f1d35e1-4962-49b0-a80d-c72d405b60b3"
      },
      "execution_count": 20,
      "outputs": [
        {
          "output_type": "stream",
          "name": "stdout",
          "text": [
            "[12, 14, 16, 18, 20]\n",
            "[-10, -10, -10, -10, -10]\n",
            "[11, 24, 39, 56, 75]\n"
          ]
        }
      ]
    },
    {
      "cell_type": "markdown",
      "source": [
        "#**Strings With Python’s map()**\n",
        "\n",
        "\n"
      ],
      "metadata": {
        "id": "ERJ_XkD4IUwh"
      }
    },
    {
      "cell_type": "code",
      "source": [
        "string_it = [\"processing\", \"strings\", \"with\", \"map\"]\n",
        "\n",
        "print(list(map(str.capitalize, string_it)))\n",
        "\n",
        "print(list(map(str.upper, string_it)))\n",
        "\n",
        "print(list(map(str.lower, string_it)))\n",
        "\n",
        "\n",
        "string_it = [\"processing   \", \"   strings\", \"with  \", \"  map  \"]\n",
        "\n",
        "print(list(map(str.strip, string_it))) #to remove white spaces if any"
      ],
      "metadata": {
        "colab": {
          "base_uri": "https://localhost:8080/"
        },
        "id": "_Mi3jXb1IekK",
        "outputId": "36d74036-2b6f-411e-b71b-7728f905d820"
      },
      "execution_count": 27,
      "outputs": [
        {
          "output_type": "stream",
          "name": "stdout",
          "text": [
            "['Processing', 'Strings', 'With', 'Map']\n",
            "['PROCESSING', 'STRINGS', 'WITH', 'MAP']\n",
            "['processing', 'strings', 'with', 'map']\n",
            "['processing', 'strings', 'with', 'map']\n"
          ]
        }
      ]
    }
  ]
}