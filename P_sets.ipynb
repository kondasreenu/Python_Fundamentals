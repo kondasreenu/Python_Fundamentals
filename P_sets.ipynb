{
  "cells": [
    {
      "cell_type": "markdown",
      "metadata": {
        "id": "view-in-github",
        "colab_type": "text"
      },
      "source": [
        "<a href=\"https://colab.research.google.com/github/kondasreenu/Python_Fundamentals/blob/main/P_sets.ipynb\" target=\"_parent\"><img src=\"https://colab.research.google.com/assets/colab-badge.svg\" alt=\"Open In Colab\"/></a>"
      ]
    },
    {
      "cell_type": "markdown",
      "metadata": {
        "id": "8kjWrkvKCSUI"
      },
      "source": [
        "**Sets**"
      ]
    },
    {
      "cell_type": "markdown",
      "metadata": {
        "id": "WzPCfgzhCSUS"
      },
      "source": [
        "Sets are used to store multiple items in a single variable.\n",
        "\n",
        "A set is an **unordered collection of items**. Every element is unique (no duplicates).\n",
        "\n",
        "Unordered means **can not be indexed **\n",
        "\n",
        "Sets are written with **curly brackets**.\n",
        "\n",
        "The set itself is **mutable**, so add or remove items from it.\n",
        "\n",
        "Sets can be used to perform **mathematical set operations** like union, intersection, symmetric difference etc.\n",
        "\n",
        "\n",
        "Recap of notations:\n",
        "\n",
        "Lists  [ ]\n",
        "\n",
        "Tuples ()\n",
        "\n",
        "Sets   {}\n",
        "\n",
        "\n",
        "sets vs lists\n",
        "\n",
        "Every element in the Set is unique. Duplicates are removed.\n",
        "\n",
        "Every element in the Set is immutable: Cannot be changed.\n",
        "\n",
        "They are unordered. You can create a Set with Item1, Item2, Item3 and Item4, but if you print it the order is not the same. We can not create a Set storing the days of the week or the months of the year and keep the order.\n",
        "\n",
        "\n",
        "**When should I use sets?**\n",
        "\n",
        "Use sets when we need uniqueness in the elements of a collection of elements.\n",
        "\n",
        "Imagine we have the ‘fridge_items’ list and each time we buy a new item, we add it to the fridge. We would have a list like this:\n",
        "\n",
        "fridge_items = ['tomato', 'tomato', 'tomato', 'tomato', 'water_bottle', 'water_bottle', ...]\n",
        "\n",
        "But we want to know what items we have, not how many from each item. We can turn that list into a set instead and here’s what we would have:\n",
        "\n",
        "fridge_items = {‘tomato’, ‘water_bottle’, ‘banana’, ‘apple’, ‘pulled_pork’, ‘cheese’, …}\n",
        "\n",
        "So, when we want a collection of unique elements, where the order is not important, we use Sets."
      ]
    },
    {
      "cell_type": "markdown",
      "metadata": {
        "id": "Tvo0qjNcCSUU"
      },
      "source": [
        "# Set Creation"
      ]
    },
    {
      "cell_type": "code",
      "execution_count": null,
      "metadata": {
        "id": "-bY4qJ1JCSUV",
        "outputId": "3cb43ffe-a7d8-492b-8763-1d1fb9d3260e",
        "colab": {
          "base_uri": "https://localhost:8080/"
        }
      },
      "outputs": [
        {
          "output_type": "stream",
          "name": "stdout",
          "text": [
            "{'ECE', 'CSE', 'EEE'}\n",
            "<class 'set'>\n",
            "<class 'set'>\n"
          ]
        }
      ],
      "source": [
        "#set of integers\n",
        "branch = {\"CSE\", \"ECE\", \"EEE\"}\n",
        "print(branch)\n",
        "\n",
        "#print type of s \n",
        "print(type(branch))\n",
        "\n",
        "branch1 = {\"cse\"}\n",
        "print(type(branch1))"
      ]
    },
    {
      "cell_type": "code",
      "execution_count": null,
      "metadata": {
        "id": "Y9mSElbOCSUZ",
        "outputId": "aaa45b6a-e518-42ca-d36e-077389bf0281",
        "colab": {
          "base_uri": "https://localhost:8080/"
        }
      },
      "outputs": [
        {
          "output_type": "stream",
          "name": "stdout",
          "text": [
            "{1, 2, 3, 4}\n"
          ]
        }
      ],
      "source": [
        "#set doesn't allow duplicates. They store only one instance, if any duplicates are there they will be removed.\n",
        "s1 = {1, 2, 3, 1, 4}\n",
        "print(s1)"
      ]
    },
    {
      "cell_type": "code",
      "execution_count": null,
      "metadata": {
        "id": "-_IKoZZzCSUb",
        "outputId": "2de0f789-1516-4fa8-e59b-bc88b671f9bd",
        "colab": {
          "base_uri": "https://localhost:8080/"
        }
      },
      "outputs": [
        {
          "output_type": "stream",
          "name": "stdout",
          "text": [
            "{1, 2, 3}\n",
            "{'g', 'o', 'a', 'n', 'M'}\n",
            "{'l', 'A', 'p', 'e'}\n",
            "{'Munich', 'Valencia', 'Madrid'}\n"
          ]
        }
      ],
      "source": [
        "#Creating a set from a list\n",
        "s1 = set([1, 2, 3, 1])\n",
        "print(s1)\n",
        "\n",
        "# a string\n",
        "s2 = set('Mango') \n",
        "print(s2)\n",
        "\n",
        "# a string\n",
        "s3 = set('Apple') # p is duplicate element\n",
        "print(s3)\n",
        "\n",
        "# a tuple\n",
        "s4 = set(('Madrid', 'Valencia', 'Munich'))\n",
        "print(s4)"
      ]
    },
    {
      "cell_type": "code",
      "execution_count": null,
      "metadata": {
        "id": "lhqQIcTECSUc",
        "outputId": "8ca8d55f-fb55-4898-9a24-dc61dbdffcb4",
        "colab": {
          "base_uri": "https://localhost:8080/"
        }
      },
      "outputs": [
        {
          "output_type": "stream",
          "name": "stdout",
          "text": [
            "set()\n",
            "<class 'set'>\n"
          ]
        }
      ],
      "source": [
        "#Initializing a set  with set() method\n",
        "s1 = set()\n",
        "print(s1)\n",
        "print(type(s1))"
      ]
    },
    {
      "cell_type": "markdown",
      "metadata": {
        "id": "oHxM92xeCSUe"
      },
      "source": [
        "**#Adding an element to a Set**"
      ]
    },
    {
      "cell_type": "code",
      "execution_count": null,
      "metadata": {
        "id": "qWMAow44CSUf",
        "outputId": "f378ce21-e5e6-4134-80d6-4c2a1ce7c282",
        "colab": {
          "base_uri": "https://localhost:8080/",
          "height": 200
        }
      },
      "outputs": [
        {
          "output_type": "error",
          "ename": "TypeError",
          "evalue": "ignored",
          "traceback": [
            "\u001b[0;31m---------------------------------------------------------------------------\u001b[0m",
            "\u001b[0;31mTypeError\u001b[0m                                 Traceback (most recent call last)",
            "\u001b[0;32m<ipython-input-14-e5d550326d01>\u001b[0m in \u001b[0;36m<module>\u001b[0;34m()\u001b[0m\n\u001b[1;32m      4\u001b[0m \u001b[0;34m\u001b[0m\u001b[0m\n\u001b[1;32m      5\u001b[0m \u001b[0;31m#set object doesn't support indexing, since sets are unordered\u001b[0m\u001b[0;34m\u001b[0m\u001b[0;34m\u001b[0m\u001b[0;34m\u001b[0m\u001b[0m\n\u001b[0;32m----> 6\u001b[0;31m \u001b[0mprint\u001b[0m\u001b[0;34m(\u001b[0m\u001b[0ms1\u001b[0m\u001b[0;34m[\u001b[0m\u001b[0;36m1\u001b[0m\u001b[0;34m]\u001b[0m\u001b[0;34m)\u001b[0m \u001b[0;31m#will get TypeError\u001b[0m\u001b[0;34m\u001b[0m\u001b[0;34m\u001b[0m\u001b[0m\n\u001b[0m",
            "\u001b[0;31mTypeError\u001b[0m: 'set' object is not subscriptable"
          ]
        }
      ],
      "source": [
        "#add single element using add() method and \n",
        "#to add multiple elements using update() method\n",
        "s1 = {1, 3}\n",
        "\n",
        "#set object doesn't support indexing, since sets are unordered\n",
        "print(s1[1]) #will get TypeError"
      ]
    },
    {
      "cell_type": "code",
      "execution_count": null,
      "metadata": {
        "id": "n1sWs-qpCSUh",
        "outputId": "7b9d3cdc-6893-4d4d-e76e-6512b78dc149",
        "colab": {
          "base_uri": "https://localhost:8080/"
        }
      },
      "outputs": [
        {
          "output_type": "stream",
          "name": "stdout",
          "text": [
            "{1, 2, 3}\n"
          ]
        }
      ],
      "source": [
        "#adding an element\n",
        "s1 = {1, 3}\n",
        "s1.add(2)\n",
        "print(s1)"
      ]
    },
    {
      "cell_type": "code",
      "execution_count": null,
      "metadata": {
        "id": "0g3eZvVtCSUi",
        "outputId": "500abf57-ccdc-47e4-dc7f-6bee4b74e13c",
        "colab": {
          "base_uri": "https://localhost:8080/"
        }
      },
      "outputs": [
        {
          "output_type": "stream",
          "name": "stdout",
          "text": [
            "{1, 2, 3, 5, 6}\n"
          ]
        }
      ],
      "source": [
        "#adding the multiple elements, internally given list\n",
        "s1 = {1, 2, 3}\n",
        "s1.update([5, 6, 1])\n",
        "print(s1)"
      ]
    },
    {
      "cell_type": "code",
      "execution_count": null,
      "metadata": {
        "id": "9W112m1RCSUj",
        "outputId": "14aec769-d7a2-4837-cdcb-776735253abd",
        "colab": {
          "base_uri": "https://localhost:8080/"
        }
      },
      "outputs": [
        {
          "output_type": "stream",
          "name": "stdout",
          "text": [
            "{1, 2, 3, 5, 6, 8, 9, 10}\n"
          ]
        }
      ],
      "source": [
        "#adding a list and set, duplicates elements will not be added\n",
        "s1.update([8, 9], {10, 2, 3})\n",
        "print(s1)"
      ]
    },
    {
      "cell_type": "markdown",
      "metadata": {
        "id": "TKKZ0MWUCSUk"
      },
      "source": [
        "# Remove elements from a Set\n",
        "\n",
        "discard(), remove(), pop(), clear()\n",
        "\n",
        "Difference: \n",
        "\n",
        "When element is present in set discard() and remove() perform similar operation.\n",
        "\n",
        "When element is not present in set \n",
        "\n",
        "remove() will return KeyError\n",
        "\n",
        "discard() will not return any error\n",
        "\n",
        "\n",
        "pop() will remove any one of the set element randomly\n",
        "\n",
        "\n",
        "clear() will remove all elements\n"
      ]
    },
    {
      "cell_type": "code",
      "execution_count": null,
      "metadata": {
        "id": "6VEOBIEcCSUk",
        "outputId": "ccf4a827-6c19-4820-f495-1da7626c462b",
        "colab": {
          "base_uri": "https://localhost:8080/"
        }
      },
      "outputs": [
        {
          "output_type": "stream",
          "name": "stdout",
          "text": [
            "{0, 1, 2, 3, 5, 6, 7, 8, 9}\n"
          ]
        }
      ],
      "source": [
        "#discard()\n",
        "s1=set(range(10))\n",
        "s1.discard(4)    #4 is removed from set s1\n",
        "\n",
        "print(s1)"
      ]
    },
    {
      "cell_type": "code",
      "execution_count": null,
      "metadata": {
        "id": "IM5EVa3mCSUm",
        "outputId": "afe793a1-4fef-44a5-a952-580d2a7eb8e3",
        "colab": {
          "base_uri": "https://localhost:8080/"
        }
      },
      "outputs": [
        {
          "output_type": "stream",
          "name": "stdout",
          "text": [
            "{0, 1, 3, 4, 5, 6, 7, 8, 9}\n"
          ]
        }
      ],
      "source": [
        "#remove an element \n",
        "s1=set(range(10))\n",
        "s1.remove(2)\n",
        "\n",
        "print(s1)"
      ]
    },
    {
      "cell_type": "code",
      "execution_count": null,
      "metadata": {
        "id": "N1cs1b3wCSUn",
        "outputId": "5221eb6d-90d8-4194-cb30-c38dd4138864",
        "colab": {
          "base_uri": "https://localhost:8080/",
          "height": 235
        }
      },
      "outputs": [
        {
          "output_type": "error",
          "ename": "KeyError",
          "evalue": "ignored",
          "traceback": [
            "\u001b[0;31m---------------------------------------------------------------------------\u001b[0m",
            "\u001b[0;31mKeyError\u001b[0m                                  Traceback (most recent call last)",
            "\u001b[0;32m<ipython-input-23-2c01263438af>\u001b[0m in \u001b[0;36m<module>\u001b[0;34m()\u001b[0m\n\u001b[1;32m      1\u001b[0m \u001b[0;31m#remove an element not present in a set s\u001b[0m\u001b[0;34m\u001b[0m\u001b[0;34m\u001b[0m\u001b[0;34m\u001b[0m\u001b[0m\n\u001b[1;32m      2\u001b[0m \u001b[0ms1\u001b[0m\u001b[0;34m=\u001b[0m\u001b[0mset\u001b[0m\u001b[0;34m(\u001b[0m\u001b[0mrange\u001b[0m\u001b[0;34m(\u001b[0m\u001b[0;36m10\u001b[0m\u001b[0;34m)\u001b[0m\u001b[0;34m)\u001b[0m\u001b[0;34m\u001b[0m\u001b[0;34m\u001b[0m\u001b[0m\n\u001b[0;32m----> 3\u001b[0;31m \u001b[0ms1\u001b[0m\u001b[0;34m.\u001b[0m\u001b[0mremove\u001b[0m\u001b[0;34m(\u001b[0m\u001b[0;36m12\u001b[0m\u001b[0;34m)\u001b[0m \u001b[0;31m# will get KeyError\u001b[0m\u001b[0;34m\u001b[0m\u001b[0;34m\u001b[0m\u001b[0m\n\u001b[0m\u001b[1;32m      4\u001b[0m \u001b[0;34m\u001b[0m\u001b[0m\n\u001b[1;32m      5\u001b[0m \u001b[0mprint\u001b[0m\u001b[0;34m(\u001b[0m\u001b[0ms1\u001b[0m\u001b[0;34m)\u001b[0m \u001b[0;31m#will not get any output\u001b[0m\u001b[0;34m\u001b[0m\u001b[0;34m\u001b[0m\u001b[0m\n",
            "\u001b[0;31mKeyError\u001b[0m: 12"
          ]
        }
      ],
      "source": [
        "#remove an element not present in a set s\n",
        "s1=set(range(10))\n",
        "s1.remove(12) # will get KeyError\n",
        "\n",
        "print(s1) #will not get any output"
      ]
    },
    {
      "cell_type": "code",
      "execution_count": null,
      "metadata": {
        "id": "uU4HrBsxCSUo",
        "outputId": "cb58cdba-acf4-409a-be13-ff4e55900ee4",
        "colab": {
          "base_uri": "https://localhost:8080/"
        }
      },
      "outputs": [
        {
          "output_type": "stream",
          "name": "stdout",
          "text": [
            "{0, 1, 2, 3, 4, 5, 6, 7, 8, 9}\n"
          ]
        }
      ],
      "source": [
        "#discard an element not present in a set s\n",
        "s1=set(range(10))\n",
        "s1.discard(12)\n",
        "print(s1)#output is displayed, check with remove() output is not displayed"
      ]
    },
    {
      "cell_type": "code",
      "execution_count": null,
      "metadata": {
        "id": "L_xefQdmCSUp",
        "outputId": "9a52a06a-0f99-4d21-cf87-7aef6992dcc7",
        "colab": {
          "base_uri": "https://localhost:8080/"
        }
      },
      "outputs": [
        {
          "output_type": "stream",
          "name": "stdout",
          "text": [
            "{2, 3, 4, 5}\n"
          ]
        }
      ],
      "source": [
        "#remove item using pop() method\n",
        "\n",
        "s1 = {1, 2, 3, 5, 4}\n",
        "\n",
        "s1.pop() #remove random element\n",
        "\n",
        "print(s1)"
      ]
    },
    {
      "cell_type": "code",
      "source": [
        "#remove item using pop() method\n",
        "\n",
        "s1 = {1, 2, 3, 5, 4}\n",
        "\n",
        "s1.pop() #remove random element\n",
        "\n",
        "print(s1)"
      ],
      "metadata": {
        "colab": {
          "base_uri": "https://localhost:8080/"
        },
        "id": "yiD4amSSHssY",
        "outputId": "82cafceb-0c1e-499e-958c-6d7d0102b777"
      },
      "execution_count": null,
      "outputs": [
        {
          "output_type": "stream",
          "name": "stdout",
          "text": [
            "{2, 3, 4, 5}\n"
          ]
        }
      ]
    },
    {
      "cell_type": "code",
      "execution_count": null,
      "metadata": {
        "id": "VZmOTtTKCSUq",
        "outputId": "3eb6707d-363e-4155-99f0-acbc241a9ed4",
        "colab": {
          "base_uri": "https://localhost:8080/"
        }
      },
      "outputs": [
        {
          "output_type": "stream",
          "name": "stdout",
          "text": [
            "set()\n"
          ]
        }
      ],
      "source": [
        "s1 = {1, 5, 2, 3, 6}\n",
        "\n",
        "s1.clear()   #remove all items in set using clear() method\n",
        "\n",
        "print(s1)"
      ]
    },
    {
      "cell_type": "markdown",
      "metadata": {
        "id": "AwAOb6OMCSUr"
      },
      "source": [
        "#**Python Set Operations**\n",
        "\n",
        "\n",
        "Allows to combine sets, find the difference and intersections of sets, and more! \n",
        "\n",
        "We can combine these operations to perform complex logic problems on multiple sets. \n",
        "\n",
        "This can be useful for filtering items, categorizing, combining, as well as many other uses.\n",
        "\n",
        "The operations explained here are:\n",
        "\n",
        "Unions\n",
        "\n",
        "Intersections (and Intersection Updates)\n",
        "\n",
        "Differences (and Difference Updates)\n",
        "\n",
        "Symmetric Differences (and Symmetric Difference Updates)\n"
      ]
    },
    {
      "cell_type": "markdown",
      "source": [
        "#Set arithmetic\n",
        "\n",
        "**Venn diagrams notation**\n",
        "\n",
        "#Set Union\n",
        "\n",
        "A set union is the collection of all unique elements of two sets. If an element figures in both sets it will appear only once in the union set.\n",
        "\n",
        "In General A∪B, 　A+B, 　A∨B, 　A　or　B\n",
        "\n",
        "**In Python A | B or A.union(B)**\n",
        "\n",
        "![union.png](data:image/png;base64,iVBORw0KGgoAAAANSUhEUgAAAToAAADnCAYAAACOlZoZAAAABGdBTUEAALGPC/xhBQAAAAlwSFlzAAAOwQAADsEBuJFr7QAAABJ0RVh0U29mdHdhcmUAR3JlZW5zaG90XlUIBQAAUWVJREFUeF7tnQX0PLXxwBdocf4tVqC4u7u7u7sXlweUFoq/AkVbCoXi7u4UKS4t7u5O8QqFlgJ/PoH5Mr+Q3U02u3d7d9n37n3lNslkZjKeZLgvv/zyq88//zz77LPPsq9/z+znq6++yoYbbrjv/d/3H7HtGSe2j9j2bYHBF+d579WBh27DUMccYvuIbZ/4KZaLvmtv04K/hx9++GzEEUfMRh55ZCM7+Hu4L7744qtnnnkmu+KKK7JPPvnke0Itlqix7dvCFLHziG1fB2v0Awx1zCG2j9j2beHpWJ6qAw91wwBMCLnFFlssW2SRRb4TdFh0N910U/arX/3KSMAxxxzTCDuZROxkYtu3hSli5xHbPpYh6sBjG2CoA4+xfcS2r4MWdcAQS882wGDP4dNPP83eeuutbKeddsq23Xbb7wu6vffeO9tiiy2yZZZZZhirLnYyse3bwhSx84htH8uUdeCxDTDUgcfYPmLb10GLOmCIpWcbYXjxxRezXXbZJdtxxx2HFXS4rlh0CLo99tgjW3311Y1PK0/sZGLbt4UpYucR2z6WKevAYxtgqAOPsX3Etq+DFnXAEEvPNsLw9NNPZ2uvvfaQoGOOyDMj0STZwM/0SThIPJB4oBd4QGSXDasIcJ1EHd6VUUVS80lPwkDCQMJAr2FABJ+Ge3iXQIspJ+k1pCR4EwYSBnoTAyFyaigYpxsla643CZ+gThhIGHBj4Lusg/reZfolBDaHgU7FQ0zhZJfjsLEwxLZn/rF9SPvmOCL1XDcGjKBLMbm60Zr6SxhIGGgTBpwWXZsATLAkDCQMJAzEYmBI0IlVl35+k3Hu5CeWiKl9dzDQSR5JY1Vfk3CHKS9Jn+7ioDvLNI0ai4G0brq7bnzxbwRdLLFT+4SBhIGEgbZjIAm6tlMowZcwkDAQjYEk6KJRmDpIGEgYaDsGkqBrO4USfAkDCQPRGEiCLhqFqYOEgYSBtmMgCbq2UyjBlzCQMBCNAbOpP326i4NoKqYOuoKBtG66u2588Q9zpDq6FtQRdmWVpkGjMeBbx5Xe6269nRF00dROHSQMJAwkDLQcA0nQtZxACbyEgYSBeAwkQRePw9RDwkDCQMsxkARdywmUwEsYSBiIx0ASdPE4TD0kDCQMtBwDSdC1nEAJvISBhIF4DKQ6uhbUEcaTMfXQDQz41nGl97pbbwdvpDq6VEfXDRnRF2Om+rju1sf54t8Iur7guDSJhIGEgYSBAgwkQZfYI2EgYaDvMZAEXd+TOE0wYSBhIAm6LvJAumayi8hvaGgXTROdG0J2QLdJ0AUgq45XE9PXgcV29AEt7Sfm8vfEG83RNQm65nBb2LMsEhZGXvnBl19+mfGR78v+tvvh/S+++GKY9rwj/RT9dMGk369aMqHnkzevor5tmItwx9xtnNnzD4VB9+fLOtCYxyUYpY+i73zHSe/lYyAJug5zR4jG1+9qwSgg233lLRaXpSCLLy9Fn4eWEPjz+rDhrNKnwF9EvqJ38r4LETg+MBTBFzJWh9m074Yb7mut99VNN92U7bXXXtmee+6Zrb766tnww38n/yBGDEFj24sm7CcYPv/880x//ve//w39/e9//zt79913s48++ij7z3/+k/EdHxFW4OGHP/xh9oMf/CAbeeSRs7HGGisbe+yxs9FGG838Xz58z+8jjjiiebcOPLaB+6vwk93Gtw8swv/+979DtNF0+uyzz7L3338/+/DDD7NPP/3UvCcWpOAJvMsHOo0zzjjZ//3f/5n/aVoJPUcaaSRvFPvOwbvDCi+2EYann346W3vttbMdd9wx23bbbc26GWGEEbLhvjbFB1LQaW3qI0Rdi0VbVkV88q9//St77733jABjYbz55ptDv/M3Qu2f//xnhpBjsSCcEGIQiA+Pdn9wn3hYeAhDPiin0UcfPRtjjDGM8Pvxj39sFtZPfvKT7Kc//an5Xf4eZZRRhsAtm7uNpyLmdlmdNl50e5/3i9r7Woz6PQkVyE/9HXiEHtCJz9/+9jfz4X8i1KDlJ598YnAudEJwgX9tmQqNxFVGMPLhPQQadBpzzDHNB0U17rjjZhNNNJGhHb/zgYY27PJ3GR7zcBvK92UWaRn/VJCfQU1sfnQJOkObQRZ0muldC8oWMJqogmD9U/r4+9//nr3yyivZSy+9lL322mtGsL311ltm0aD5EUgwNNp91FFHNUzPT6wyhBC/81MvILGydYwIq5AFx8LDqpCf//jHPzIWJD8RovxOf+ONN1424YQTms8kk0ySTTbZZNnkk09uxvcV2nUKuiCO/vblUCvC5SbL/1As0EZo9cYbb2Rvv/22+aB4oAPC5kc/+pHBEXTjgxLiO6ETFpmxGtQuGzu2yljQSH5CK+jD39Dn448/NrSCzigklNPEE09sPkKr8ccff0jpudxemz9t/rXxHSukQmlRhd5lbZKgUxhyEcS1ADRSy6wNWzPCqLfddlt29913Zy+++OKQgGFRoKmnmmoqI1jEzeT/2n2RReIat4ip7fdZYNrdwopgMWGVANfzzz+fvf7668YdQ9AicKeZZpps0UUXzeadd16zsF3j6UVTxnx1WgEui1JgqWKdgI+HHnoou/nmm7Mnn3zS4AXFxINwmWKKKbIpp5wym2CCCYwgg05YbkIrBJqMK3zlSjZonnMpVL6HTuIOi8KCj6APtEJRIgSBA1rBPwsuuGC28MILG/jsOGsZ3pOg67MYnb34Y60QGEQvKoQEGp9F8sgjj5hFw+IRbTzddNNl008/fTb11FMbC0Brel/LqYowKRPOYmXwkwX03HPPZU899VT2zDPPmLkA59xzz50tueSS2cwzz2zcKhaYdp9dLpPgRy+8PPhDrQBfQecajzAAVhTCgznecsst2V/+8hdj+TIvBPy0005raIUVpd3PImsnbw5l+HcpUhfc9KOtTrwCaPXYY48ZCxT6IfRWWmmlbJ555jHKE4tTYnwuwWvPJwTWumhZhafL2gy0RRci6MoQKd+zaHAtXnjhBbNo7rnnnox4AO4lLgWLZfbZZzeuhgiGPCbW/3fFispgymNSlxDKW7D6/1gWr776qhHaLCjcbJ4ZZ5wxW2ihhYxAwCLFhdNxKBFwNjxVhETZnOV7H+scIf7yyy9nzz77bPbwww9n999/vxF4xCtx1WedddYMZYSlJEIlhA4ua80X/qJ5lFlcWH/vvPOOsUThQWiGtc6cEHjwHxYpIQpbOdkKNgm6Psi6VhV0LleI/8Fct99+u7EG0KoINywBFr/ET3BteCQIze8uLRobF9HWZZlAsWEoskTEmkHo4TZhReDmsqCYL8JhgQUWyBZbbDHj7uZZDWULKNSisxd/0RyIeSGsqSLgJ1Y3igclJPFILDltMYUKKNt6rdLep488gQ7eJV6LMEfY8RMFhSJmrvPNN59xcVFQdkikTJiGzCeWliFj5b070Bad7+LIew/kIbCIlVxzzTVGyMFQCDYsHBYNi53kgRaORYQrEwBNEL0qHkRASraYud96663G0sN6WGKJJYzbZAfHtVWUJ4RjF4erPa7oddddl91www1GMGOp4X6jjCQDrXFRBkMZrcra+9CyqA/X+EUwEd9DyEGfu+66y1h8WN+LLLJItsYaaxg86KcoCecDe4hVGtJflXe9BV2qo/sOvQg3rAAW9llnnWUsOJ5ZZpklW2211UwcB8sNjSqMVyTotNVTx+KowgghC1wEnG3Z8jeWHoL/2muvNQuJeBALaYMNNjBZXIS+rr/01cChcxLYcEXJYt94443ZBRdcYEo3Jp100mzppZc28UXg04kDsaJkPJdF6gtLG2hpu9oyH9xbSpnuvPPO7I477jDlSjPNNFO27rrrGqtc6vh851qmvOvwUGJg8RF0A11Hp7USv1Mn9cADD2RXXnmlieuQ1SLmwWJGwNkLxYc4mhnbsDiqwmC3o/yCRYQbT70ZbtKKK66YzTnnnENxPJcCiLEkpD+sF+hz/fXXGytT3GpcarKlsW6pD12r4jFU6fjAYltq+m+EP5UA8DUlNOCHDQGEILDGJY5nKzbfcevAg+9Yvooz1dF9u9/QZjYslfvuuy+79NJLTVyHmA4LdrbZZjPZLFk4sZqrjUyhrZsiy9TlNmG9YTmwiAj2oygoT2EhoSAQQHllFT6xRbEuRcFgmRAz/NOf/mTcVMo+CMBjpbgEXJ6rF5J08F1cVRZrLD+EtMdLITFz7733miw7iZgVVljBuPdSQ+kTdrDnGQJDFRz5tPGx6Aa6YFgWzvnnn29icBAc4pNplFoyvSBjiRrb3ofoZe/UDYMsDoTco48+aqws8EoMD5cWVzI0IeNymykPwT2lfyzIVVdd1QhTsotF7nKepRKLh9j24IQwSYzydMFQJMT5jpgrMUySNYRnwOFGG21kFDshGa0c8hRF01ZpGQ+XCduBsOiKGFsQRAyDwO2pp55qLAMsDwQcLipxnbyFE8vcse1DGcD1fh0w5C0AFi6uEjEzFhILh7jmeuutZ+rx8iw8F+PyP6n1o/bt+OOPN2UUWHDQSmre8uaj/+/iiVg8xLbvhqDToRe8GCy7Cy+80BRLk2DbbLPNTKJJ77fV83QJ5Vg8NMHTeYJuhP333/8AKrApemXCpKftScVoHu2CxEzMFwZ5z2VJYHmQRd1nn31M1TkV5ltssYUJ1rIw7bY2IX1hyJun7j+2r6q4rDKuq439PxQEOIR/cGGxHv785z+bTChF08SEcDd9+AGhRgzw0EMPza6++mpjZW+++eamtEUnPfLmov/v83sVXNaBxyp9aFiL2vOd7ZEI7lE67AJhNwy7Pgg9XHTRRSbhxP91kbsOb7jwFDuHKri322gYWOMXX3yxUYpzzTXXEL/1naBzIQ7rgPgblgHJBhbOhhtuaAQdi69IM+UtlCoEahtT+M7BxkHZPCjvIFPNzhDieOCcBAauJuUeLqtZLC/eO+OMM8yH/bmUR/ChXIJ3tIUWarV2m5ZVDIg8YeWjMIroBh4ReNTaQSt+J6P+xBNPmMwsyTg59YZ+8iz5Ml7w5bGY93wEXV+dRydaTFtObNcivrP33nubnQzrr79+tvHGG5taOCnu9bEMYgjR623LhEuepkfQbbLJJtmaa66Z/fWvfzXHgGFR2/3J3wTLodMll1xirI2tttrKaGb7+KMifOZZnz4LMlYQlgniPDza1leZ1ZYXoskLA+TRh35YA5yUssoqq2TbbbedOWjgoIMOyk444QSzda5fnhH222+/A6iEF9eVjIxLi1SdcJVFEkKwPLiIxVExjvuDKUttFW4q88Nc5wmBzfWu1nRl+AkZq8hFiOknpm3Z/PK+J+ZDUgL8U+JwxRVXmF0XZEpxQ3k++OCD7Mwzz8x+//vfG6G22267mQC5fK/7rmMORX3kCeGq889r54KhKlyxOIGPsbLZIkcWGxpg3VGLx3ohxura1hg7bh04tWHAg8ANF9eV73s265ondER4EWClDAH3B4FHsSS1Q3p7ViiSXe6tLejyzHv7/3nvhcJUtohsK8Y1h7rG9OmHxUKi4vLLLzeu6JZbbmlKeLAeULaUO5BRRRHluUt1zCGkDxetQtoX0cjHyiyjsf19TJ/SF4KBcpRzzz3XZLkJ85BYsrPcggeXhelrdfrwTdE7Ni3ykhE96brmEZNJc6bYsccem/3hD38wMSKsA/b+2XtQ62AIW+DaLoj8DePIXlKIpl1sHzhcLnmRm6XhKOq/yGXyZUAdJigaS9wkSk923XVXI+gOPPDAbOeddzYb7rfffntTg6ezfkXw+ezC8J1D6Hs2/TScTVo5Ynnlje/DSz5zZa0Qu/v5z39uEpR4RAcffLDZERMyv7rg8YG57J2eTUbYi5+JUiN01FFHmbo4yhqWW245Y47X9fgSjkWIhUI8isp04JHDAIiH2IIor1/f8fLmR3ySU1Yw5/X5ZXXhI6QfLfSBi0JjtpSR6SMjS3mPPlG3TECHLDgXnK7+i/4nFiY/iWNR00dWGdoSW+R/4Fhn78vwU0ZfsVY4AoxxSBQ8/vjj5sPvcu6hHAJaNp7v9zJXlA77ZFlDuLHwErFttvzlPb549YXF5z09Zl7WtWcsOoiuPxoBuKcwG2UjaJ2ddtrJlCKQJpcFIW19EBf7DkyJVcmRORTOkjWkQJMaM2rNNCxFcAnsVV1uSjzY8UEigI3vnX703GTxUNbz61//2ixSYqbQjM3oxOdQVHW4hXXPUws5zoM78sgjTaAeC3SttdYy2eGrrrrKzEPe9YVBn0Sc14aDW4lzEjejXAflgMChDOecc87J9t13XyOEygSnL0z6PcIIlGlghRO7YyzgkHtM5F0ZO1YBVYHRp03PCDrXZEAqC5jyBcxsGI5Lfgh8uy74aYIRNFzAw3l1mPqk7ClfQRuiFVnUCDncNNvVyWMOFgFHRCGs2MDu8+g5itVE3IKyDVuodlL4M3cOSUCwsQsFei2//PJmq90BBxxgShoOO+wwkxTD4iuDrQlaFi1SxmMr1WWXXWYOKcVjkBOJN910UxO/wprg8RF2jIWljYBECRZZnfAQwXUsKXDH3mI+VBAQf4anEHjAV4Y3Hx5yhWQY++uaWyNwDznkEBMaAn6ZbxH8PmM2/U7PCDqbsYVROGUEDQsjUFSKG1QHsasinhgh2h4XFTikNIIsI8wp59ZpTWjH8PiOtjAw1iG7A+S4b/kuT/CLhUBbqt/JorEA2ScKLEXtq845r53ElLA8sERIOqAAdthhh2yGGWYYohM023rrrU086OyzzzYuIZv3mxBmVeYo/AQNUDgoVOgo93fgOq688somO2njV7vsMjb9MT+8EFxgdur4PPo2NxFGeA0IITLXCLo6H9vzIJmEwl5qqaWM8iVMRPghT0HY3lQ3rb2eEXTi0gjz4yYcd9xxZmGQEeKKMxEuwmydRiywyYU2xFWwNkW7wyRYeATh9cP3LB7umiDuglsiDxoTRkJoIaz4HWb2EQCUcGBFYTWxECmYxlKy2/r0FbN4WNBYQdTGYb2xUFiY9iJiW9c666xjTkFhaxICAPjFYnApOm0Zx8Do01bzEtYxVph4DXyHQuG8QhtehDz7gDk4AoEmMPM75TbwCEIK2mpl5pqby9ISZSqXK/nMJeYdSn6gEZlYzr6jfAuPwQVbJ+lTNqfW19HJgtCMjsV0+OGHmwApbgOBbNnhkGfplCGi7Ps8oWnHJniPYDHpeZgZ5gc23rOvLkQIYK1RCsO7/CSGxZ5DFvnpp59u+iHQLUdow2i4D0XwsACxiojtsAsEdxpmpMRGAv5NKQFbIOFSsacYi5sN5EVHXhH8xkJBILP1i3lgCbuOE9L0Cp1LEe6KvgMOBBzWMTjFdZXkEvDY4RLixQh4lLIkFMA/8zzvvPNMggraUsKBksNKlJNYtPUnihteQRGyxY6yHPCEVUgMFosSRdL0I8pcLnyCTsRWsdCByX4En00pVJteeXV0I3wdHzF7XUEiFgd7Fe07KkUyV/mpNVzV9pqJmAixAs4kk8p5QWJe/7EwFPUvfQuBcV9wxTjaGhgJEkMMFjhaVz8IACytn/3sZ6aGDEuHmA1WwBxzzGEEE0IdjU8wmB0GBKG1davnLLBgHaAEyDrDfAhJFhWwsa83r30MfTQe6IdECIKaurllllnGKCTZxlVEJxY7Raq4h1iC9EOMk6C4XjR64YTCXcQPRd8hoDg6XwQT+3ERYmxrk+PlgZH1w5rC28DNIxmFoEcgETeFtvwfRUeogx0JJK1QikIb4RNtFXH+HpY9/aO4cB8ffPBB49FAax0WCcWJ7/saLoQ8iQqUKnwOnYhVunjSt//Q92x6SdYVZcBFT/J9611XmTgMAFMQj0P7EY+DYapkJOs2qW23Gs3KTeEIKjQwC559tlh6EkND+GDBsUAQZMTT0O4sJoSkXGZtxzmKtq0xL7JhtJdqdlxdBCh/s8joV7uNVS0AW/jrfrBOOf4KYYvrjCWXt8vB1sj8zYJFELD4iVGS3NFuX1WYY9sBG4sbwcRR8igvyodw3xBC4Ba8QHNghhaEMhBKWIDgQO6O5TuhJT99t7lhVeIhYBkiWLCsEKBYVvBPHY+v9QU+EGzbbLONccFJUmDtaprWvdaqzq8VdXQud8FGNml9SjbI3FFRjyYRoWFbVS5k+BKvCJEhfbAIyP5ykCdWGUIO7Y/WxspCCDAXLBcWMXEfGJV2Eu9hMeD+MHcC9QirMhgYizIW3AkWGLEh3F8sYfrHlZWEjRZWVRlIt6M/4okkiNDwWKnE3Zijzfx2O3t8BAQuPFYgWXVg52/6Cnny8OX6fxluZVyUEZYx1h0PpTLgGqWFxQ29EHQ8hCCgLZaGWKvQl3nQhrZYH9CkaHzwhzDlJxYiShT+QtghXOTIMeDqVDG10BR+JuRAzI54JMXG8LHMpyzsE0LPsrWdW0cn2r3NPxEERx99tEEkLhAHBmohx+TbAD+E1QFqFimZViwAFinuDC4kD0IPV5b4Ii4pm6r5YMUgINDausbKNT8hurbQEGgISDbT8wFf2267rTkMU+oN+VkVZ/aYMrZobjKrCHDmQumDvlLQnoOrL83I4JLN/eAEwcnhDLiyeTC4+q+LL2xliiBG0BB2YNsaPIrFTEIByw63FKUCbXEtwQflIJSlYIXZ9XMhcEq2lzYISIQe1iLxOsnghvRX9V2hA/DA37vvvrtRqnhdWLC6X81vVXkvBs7hQ33iJt7X5RW2qYsmpzYO8xwTGe0njwgW++LhJmD06VPO6OcwAdFitEPLw+QwPzVYBJFZKPzNosBSk8uiYVh9PI5t+eRZIvwf9wdGw7JAszMuH5IXxMmIc2EhkuWtGkfRuNd9MBfcc842Y65Ycjom6YM/F0zgYtlllzVbxRAkuMTgTwSPxoc9Rh6sebDwvosX+R8uI1YyfIhrCn35P/V/CDqUGtY09ARmaEHYAIUFPXgP2uqkWREN9PzKLE2sQ+BD4IgSC8V37Pvi1lMMjgVLYbEUgMv61Ljt5Jo1dI01G6u2t6W9qx+E3EknnWSsIMoSsORcMZ0807gqbFXbwSyUdWDRaKuJ/licLHxMepiSgDvCgWAycRthNIQl5rfUvNFWNLi9qLUlx3vE+nCRcSNwr+R72otbhcWHMKwLZ8DEwsddxh0ntkZczra4q+JU5oC7RwmRbKkT/LoEXtWxbKtD9yM3xCHoUFbaLRNBg7KioJdsLIIPqwZXDlryPnMhkSFlM3oNlAkzgcWmOX1TpkKfZD6lli8GB75tXWuY4mZqIrEsqbOzawSLrDzfcau81zVBJwyaBzSxHo70IT2PC0RMTltJvoxRBSkhbbQFisUEg1MTh2UjFieBWsoLsK5YsDwIOuIrJFZIVrCthl0BWCwIdlkc9EF7srMIUT55CRiygCwkueFJ4whrAisP14+4HULR9ynCNbAgXKEVxcBsibLLLHzHsd/TuEU5LL744iYJQGkG1p0Ij6r9u9rZlg1zEUWDVUb8jcw4gkXeBZ/wJt4G2w4RdlQwgGP4l3gdAprjg8hQYvWJRQOfQ2/oiiegLTINH0ofC1GKloFJ9jKTsOEACzn5pS4lVoRXmbstePkbRYuLzrwwVJhvt59WJCNkIQnyICIxGTQCJ49QoBgbYK1DMJb1wfdymjHxRALNmO8IMVwWDvwkPsMj57RRCoLWx6XE0iLWQVyPxYLghPFlIzc1XLihbB7XD4vv5JNPNoISa5BYIAFi2cgPXJRqYHXJQkFwIpSBp2xeeUxKOyzEI444woyH1Y1Gh9k1TV0CrArj4xKyoMEpioSaM6nLC+3Pd85aaCBssb4RLGTJsaQQXCxoaIsylktmyHSzwKEd7/ITHib+isUnm/9loz68QnKD5JWGTS7nph6R8RCMZNWZP9Yl+IdfUAB6s73v/ELxVqSM9HdkY1EMHPUEn2Ft2mvY9lCqwqL7yUtGDNfGC6xZhHvssYexgAiogzCeqppKL7yqyHQtXhsesTD4P3EwtDTuKsIEYsuFyjY8xDSwxMjI8r70IwREm0NAhKBWBszFtmpE2GqNC4OJ5tVMoS3kUNzSD3CxZxUrhvgpNZhaw8tYuu8qtLAXLZbSMcccYywaEj0ICNuyKKJzVRhkHswbZYLVDW0lHOESLlhh8AHlIPYJMryPhQ1tEXD6cEuBUeYlNNQ41b/znk6EVeXzOtppqxhBh9FCHSgXG8klSXWMIzJB4911Hh147UgyQhak/NSIkAnL/1j0bO5GuHE6hN4ypdt183cbZoFF5gfDwdRYo7hzck+CFiwaF2h4au/kUhKNL34HB1gvmpFdY8r/zM3k395jq4VmHs5cdLG1rd2W2MuJJ55oUEFWVISc7isPT1VpJ/0hWKjNw7rBjUXwVO3Tt52eF/TgBGQKUuVuBZeQow18TMgAgWgX4vM9ljsKzD7BV9NPB/NteJvEdxluivgGXse7YccG5SannXaaiUdrpVfGY2Xj+34PnB2L0flYDAR5qZVD2BGXgzl82tmCoS5tUbUfgVkHXl3zsL/Pm6t+Lw8me0z7Pd+xfOaMS4Y7TtyRWAyxKV86+fRf9g5jIfjJ7lJDxonFeo9wWfvY72UR+1iRZbRzWcAu+Fz0yxMasfMLaZ8n4KUPlDd1f1hyhKIolO/G0xFB57LgbG2PG0Lglt0C3DFJoF4v3m4gp+qYZcQv61dba2XvNvm9Cw7+R7yJAtWll17a1LnpmrAmYHcJUawcYmJYk8QeKaYV69UWQD4CqUk8hvTt4p0mcBoCU9672uosUsBYvSglakcxZKQ8SMuAOuAp6qMjgq5sEsQ6CN5zagWmLm4Bj2bwMouh7PsyGGK+r0Ow6fFlYfowUgzcVdqSGSTxQbEshbBS8yd9NSVUXEoPd4/gPtlYLEziMy73sMo8m2hTxid5uLP5oQnYqvRZZq3SJ3OGJlQZsG2TPfWyPa7KmFXbdE3QaSThqrIBmhog6rBEM+tJaW1ddbKdaFfGzJ2AocoYZYqC75kbTIpwQyG5TquoMnbVNgIzsVwy1Jx5J8dYueI/VcdJ7erBACEOamGJq8q+b5dB04Sy7JqgE2nPpFg8pNdJkUuG1ddcb4NgCbE8XSxTFJuzGaGI5WJwkddWWxNY3dSvYUXp0EI9y8CvF5svgI/kAFussOgo1i4T2n4j1feWwBwClyvcUxaT810z9c1s2J6KQlS8SYgDpcQ8qBclJt+ppyOCrsgkp44Il5VaINmQnMcQLkKGME+nkNqtcWJx4WovOKd+DDpRAmMfCSRKK0bQ+uLMxUu4sGRAsRZQmvoAS1e/nYBTj1vFQilzC120qjKOL9593iuCWeClvo6dM5ScUPdpn3rdFG2G18A19bsgyUYEtWPcCk55BTU2cuZYU3Ckfoe9YMjGh1iPesHAeASP2flAbSDbe3RdYydx6uIjWUBsw8KqA7ZTTjllmNOUbb7rJMxprGF5jngdLiyJJO6doMZQaGgL6rpwB990pY6OgSlR4HZ2JkpFfdmhjNosTr8P13jdmMRE2ZnB4ZloYPaaysGf2orrFD1sq0KPy6JAYZLdY6cC1oI+u8/2BjoFcxpnWF6FhiglwlQUUf/2t78d5q6LJvBlBJ2PSVrHO/b+TGqwKAvADdKLp46xUh9hGMhzF/g/W4y4v4GYHLG5bj9F4QuEHS4sH2AmQ1w0t27PZVDHRxawH5t4HfuEKVXSVl0TeOmYoNNuEVX1lANgxUkdllgITUwy9VkdA7is7EBgv7FY3dV7a7Yli4VFxOZ2BByWqOtmLBF+TcWDmp1lf/QOrTghnJ1DRVc+1jXbjgk60cQwIpk7NkZTcGqXKHQ7oFoXYnupHzuwLX+TFaPuCWUEU7ZBMAhsGhbNM/zOvlGq8bEW2AhvP2WB/l6iXS/CKrSjTIlzC7G8scCb3N3SEUGn/W5icxxLxP43sqxtWDy9yCxNwCwCAJqgkNjLymkkFOTqfbaujF8T8GgvwB5T843NQ/zNaRlkiLlLwa7EbwrW1G8YBqAp+5YXW2wxsyPKvm8irLfitzsi6DQInMvFhLAS7DtOxX1Nwq9OEof3Bf4J6HMcEueqydFSbaKLS/BprwFPYf755ze8xkeSK+HYSC2axACVFtCJ8/0o+G5KKXVU0HEcDZlWLDl88+SmNslC4X2LoIDp5CIWyn60UHElA8JHaraFCDWSEpzRxll8vQB3s1hpT+92qAFFCq2IB3M+YxNPR+romBiFgTAcMRNOoU01c8U1bXXVEIX0IxY1hzqSFScB0a2aOZcSDJ0LJ2cwB3bdcEilK64X0md6N45nJRQhgkwUKIeQ4uFRdsJxTpQ01YlrxutYHR2n515zzTXm1itOyZWnibqZ1Ge1OjtoQkaco+DZd6zLSXoNp8Jf3JDFwZxkYDmtt9fm0U/w6tCUnhf/54QTvAdObJZrCOqauxF0TZiJdp9kU9iDyNYce/F0Yvw0hh8GYCwyYJzwTAKCgs5OJh78oAx/i3ot5vXwww+HN04tGsWArp8jHgzPcb4gJU11Ph0RdBSdsiGcuBw3nffD4qmTCG3pC5eB7Bc7DCgnwaWwLe+2wKqtAxdM4qbCa2T48SJwX7mSMD3twwB0IpyFguUOlTpvqqvdonPFVShT4HIQMnhsuuZSmPR0BwNlWVOSRWRb2YtILZpWSG1MHBXBpGHnHg5qNjlAwlVX1x1qpFE1BoQ3uX4Aa44th8T1baOoag1k4xYd6WKSENzexKdssSXydwcD1MmdddZZpm6OuqbYW9e6M4thR9WLhDstqK2jhIH7dNPTPgxAL0rOiKtydSe33tX11CrodApfJC+b9sng4baWXa6bSgDqIqu7n6KQAbsguEaPk2DZh9irj81DMmd4D0GHSyRJiV6dY6/DXWTsEC7B8+MKTw7n1Be563BFqMFUq6CzCQCTXXnlleamI6mbKyJSG92jXmcqX/jvvPNOc/UeAWG5A8K3bZvey+Mh/o8QJ3SC4g1dKG2aY6/DUqRw+Y7aRy4/4tAPn6SET8y/sTo6iEESAmCR0By4py9RqbNOJvXlV9+kF4gWCBQIE78Sq0fe6ye8wnucksPVguzfZW5SWNxP8+yHuVC7Oeuss5o98RQQx84Jfm6sjo7OOZWAOzcp2qyrJib1U61GLg9v0AkL58knnzQBe51ptV2FXsc9m8iJP3JHCfPVlkCvz62f4IfvxDjifgnhQ1HAoXM1gq4pMxg3CIk8xRRTmAB3etqDAb3AiYHIKa+UlNiHVbYH6nhImDeWAhX49957b18kXOKx0s4e2KtMAon6W9dRW6FQ1y7oxMx84YUXTNaEdLF96GYokOn9ejBguwD0SkkJbivXF3KSRFnsqlcSRnnzGHnkkc11mpQ7MXe5HrEeDKde6sCA8Cl0InFEobeEGlx0LeNZY9HF+r+uxcP/yG4hiZHKYkHUPVbqzy8256KRCCyyrewFZVM19Wb9jlOU7jLLLGNujKe+s9/n24vzE2FJORrJIxJlMfMwgi7U3y17n07Z6kXch/PAZFN4v8V7yvDQ9u+hBzsh2FfITghoJZqxCPaqcZJO4yOP31gwWK6EVNjqRlav07Cl8b5/j4TNV/xNvJjidSw6LmaqKkOMoKvD1NR9QETRltQt4SrkmZY+Jmfd8KX+vsMA8TlOembR93LtXAhN4Tl4cp555jHn1LGAEh+GYLD+d4vwD52gEcmjmKdWQYe2xDUgNseeQk6N4M5NnzqXmEmktt/HQNni5XviHySNKLsgQM+jy076Fa/E5dj7ymnXZXfA9isO2jYvHfvVoS5q6siWE2bAAyl6ini3VkEHEJxUwln9WAhs4LetvbIFqM3TthGjV+DxwTFz4aAFirlRSBLs7ZU5xsLJVqOxxhrLKOWyBRQ7VmpfDQMoJDb6U+iNoCN5VPbk8X6tyQiAIOZB8JAkBGUlqUi4WsIgJvjq0xZace4cyoj4nK0Nffro5XcQchQPc4iBvpSll+fUL7CLMEN2EKdj7ytZcsqgiuSJ9kg0Lvh/7ckIijFxW3GH7OC2TECbqa7ArP1eCt6GFQn74A+F9MEHHxhrjmyrT5t+oQOLgDgdR3izeNjkr+emvYp+mXOvzUP4EVpxRh3ws0sCQaetNp95GUFXZgqGfo+GHG200QYmuB2Knza8D3MQ3GWBzzjjjAakQYyjIuiYNxvIByE22QbeC4UBXqVygy2kJI/E+tbGkk+flQWdbRrKYJw4AGCULAzi4vFBehveQdBxhJauc2wDXJ2CgYXCmXvs70U562OpfGOcnYJ10Mfh7g/CYJyuU/WIrcqCzoV8groIOjIl9p7JQSdWt+evlQ4LmRADcSo0pbhq2l0YBCVFfJK7CqjTSsKt2xyaPz5Fw8gUEke2oPO1xCsLOjumAZjvvvuuiftwxMogLJT2skYxZBy0ILtWenUOdcFNQoI6LUpNyp4kDMsw1Nz3WHSUQyFfqjyVBZ0eTKQq+1sJFupbvqoAldrUjwGdGEIzcoQWhcIuhRQa/6gf2mZ6tAUVcydOJ4HuJMiawXsdvWJ9UwpFmKHKU4ugE9cHHxpBl7eAqgCY2tSPASwYrLpBt7wRdChlitrfeOON+hGdeqwFA9CJEAOhFnuHhK9SrqWOjtkg4NjIT6GwXICjrYV+qfHp5XmIxYKQY3HDOPL08ryqws7csRQor5H7Car2ldo1Wy9K4TC0kuPVQ/ANnYPr6LSI1qY+W2neeustY83JE1rv4lMTk94Jq6mzY6kkjBB0KCSYR9Oq33ErnofwJYuFbCvuKxad1Gjl4UG373dctW1+4J7aXLwRZE0IfEbQhdqW9sIRpmF7BgHuVFYSitHOvQ+tYBLqxmxB1zko2jcSgg68EOxOT3sxQIUAygmDKvQJFnR5AyDkqLbnCJz0tBMDMAnZRZQSbivu6yA/CH5wQkaPezPY0ZMSEu3lCNkhgVVnh8XKoK5N0OEOIejKrjQsAyh93xwGWMQs6I8++sgopEESdEX1ViLo4OH0tBMD0I8YHaGGKiUm0YJOJCtMQqW9DnALylJNXXuYhxgdConFPUhF3XZ2Tltu4AKcSOzHjuW1h3qDB4lWUJw4g6CTQzgFGz5WeLSgk8EQdCwcn0EHj1ztmDG0kb2COhHRDui6BwVbFsGNWHSimJOC7h5NXCNDDzLk1ICGPtGCTgQbMTrKSvSeQWGUJPxCydLM+9CDzCInd/BJC/kbPMOzHEShd0ck3DTDg6G9akscmmDVVXJdQ+pR8t7FSiCQS+UyTKPNzTr6T33UW6OENYf1nfD6DV5ZTChpuRVekhQJP/XyXSw+EZLkAAgxhJxzaZRZSD2KK84hAW7MfrIiYtFV6Te1qV4jV4Y7iA1zYPazqDmeWseiytr36/eCA46SJ8asvZB+nXOvzgvacN8rlrdkyH3mYgRdqCmpF4e0JZNnC7oq/aY2zWKAy3AI5IqgSyGF7/CNoMMzSceqN8uDsb2T7OQEk9AMeSVBZwMLc8AkLCAx+2MnlNrXiwERalyGg+sqFt2gx6LEIiDIzQJKgq5evquzN0lGQCM5rqmobEiPHSzoXB3LYklZ1zrJ2kxfxKFIRCDoBl3ICYYRdlh0eCb6/ohmKJB6jcGA3CqIdxLyBAs6O07HYCwYBiY+5/o+BKD0bnMYgE7EoWAWKRYedPdVhD1Wrq910ByFUs9FGIBX4VtizcibEEUdLOhcgEjZggi6RK52YkAUUjuh6y5UKeTSXfz7ji4hF9/35b3aBV0oAOn9zmJAyikG3ZLzxXrCky+mOvuenR0vG72W8+hgBqw5goR2fYswSmwNTWrvV9MkoQQXvvgu1YgNi0dZINoNSrzmx2udxJPwNfJFPz4w8H6lOjo7DoffTCJCgNC1LQKUT71Leqe5OjrBrSQhtGU36HiHR+Fd+NjGhSiHQcdRt+cvckSSEC548mSNEXRlJl/I91raioYMCRiGjJXedWOgCN8wB0F3sbwTDr+7z5ZsqyvGrF3X5MZ2nmN0ggj8w7vQKTRWFyXoRKoyMNowNOXbebQN9ohSRkENEtnXtHC/4QcWE2U3KAH7sAPbpR1sDur+7OUU6NAjxmqJ0SFdYRBOaJUYXVGsyMevTu/UHyeBJmzTkx0ACcff4ZhtRbJjJOGlft6rilNbtHJ4CGEy6h7tPuVd1/8rxei0L8zvDMoC+vDDD0vP3e+2rz/I46OQOOoe6wUXYJBxob0RFoYWdAkvzceKQ3EsMoe92sgbNvf79lE5RicDiFmPJuTkEk4VSO5r9837PAigG3TCosN1Tc93GMCdT2f0tZ8jOB2bI7VGH330IGCjYnQyEpYChxeK65piP0E06OjL0IatTilG9x3aCbdg5co1nR0lSBrMGwPkAhB0rlPMyzqJEnS6zIQD8dCKKctahvLufk8QF4sOYZeebzAgyQiUdXrajQEEHUffhz61JCMYFCZBM8qZXlWDj6lds4FgArlY4Ai6hOtvcM2taOCEOHPCSbP8VxW/yBjCYsgXzqQL6Ye2lZIRrtoiLDpMf5jGN0iY3uts0BeCE4civvHOO+8Mua+DTod3333XnOgiFt2g46ON84d3OUsRY4rbwEQG+cBqBF2oCZj3PouHbAiZVy1t6+o/9VMPBljQZKygU0ocfYNTOXWZRE0KvdTDZ3X3gkCTwzYRdKFPZUGn43MMikXH4YVi0YUCkt7vDAbIWMEoXDCSDpn8Zu8v1i1KGosuCbrO8GHoKNCF49P5KRZdSNKzsqADUL09g8HJhrz88stmDloQJuYJJWv8+y4mgA4s5kkmmSR77bXXUonJt2h+5ZVXTIAbYZeedmIAfn799ddNLHXiiScOVkjBgs7llgIE1tykk06awTT2EyJ524nm/oEKWuC+4rrq6/36Z4ZhMyG4jUU30UQTDSnosB7S253AALG5V199NZtssskM/4Y+wYJOrDXXQNNMM03GnQSYmOnpLga0FW0rGmJ0ZF/ffPPNgdrv6lK4b7/9tolVYuXmKWQ7TNNdyg7m6MTnCLfMPPPMlRRSJUHnckVhBgQdRX24rzorMpikac+sbXqxDQxhh/s6KNY2OLDPMoNXcYf4P+5Q3qNDNO2h6uBAAo+SGUfYzTLLLJV4NriOzoVeYYRpp53WlJi88MILQ6/JIgupe0nvVq9lAvEu/AlB+G7KKafMJphgguy5554bhk5aINq/9zpN9Pz13FDKFFFPOOGEQZci9zo+egV+8SAJLxBqmWmmmYJq6ITWlevoXPUrZPRwAbRFJwzmU++S3mm+rg7Cg2fKgZ5//vmhzOug4R6+JD734osvZlNMMUWq/fyaJ9rKA3Lx+jjjjGMSRqFwQutKrmuR0TzjjDMaX5pYndaig2Nod3emeRlu0eAwCb9jwbBlD9dNu6/aTet3lw0rAV7FHbI9j+5SMY2uZQf7kCkWnnzyySsfvFC7oMO0xJcmyDso8Z9eZMtZZ53VMM0TTzwxsHRCyHPizmyzzTawOOgF3uUMOgQdobGqJ8xUFnSuMhOQhqBjHyWpYNGSSeC1h52EbsTpiKci6OwgfXugbQYS4UcEHXWFssdV4kGJX5vBe9VeqeJgIwKCzlVakieL9HiVBV0e0Gy4Jfv60ksvpaOAqlK2A+3IOBKbEvetA0O2agi8DpTxVFNNZUptUlF7q8gzBIzUz7HzSmodq0BaWdDpgKAeGNNywQUXNEFezM2kHauQpbk2mh4LL7ywOd8LWvXbk7czRKw25o1FN9100xlBl552YoCE0UMPPWToRFzZ9eTJokYtOrZoEP/B3GSzdHraiwHCDByW2o/1dGUWGrE55k5NYehFK+2laH9BhgBjPzaKeIYZZhg6XYZZhibKguvoyupvAA4Tk+1gzz77rDnkUQNW1j59X72Grgx3QgdZDsToKAcizIArV9a+17+XeWMlEJscb7zxzNlmiT+b47kYnoEujz32mDk6nR0RYqWH1njST611dGJCwkCzzz579vjjj5sjqsVdCK1/Se/XW9skdJCFjcu24oormno6ser6HefMndKne++911gJHEYhtYX9PvdenN/dd99t9rdCK9tFlb/L5IsRdFWN3SJJTWYEn5qN48l9rYrh5tvBKGx9wsJhl8QgHNvEnHGFqLKn5jP0IuTmqZJGEMFFeAFazTHHHMNcbygYCnFfKws6bR1oiSq/kwqmkhnTkwxfetqJAY4nIlb317/+dZgibxe0/ZBYghdvvfVWE5tDGZfF8tpJtcGA6sknnzQHLiy00ELfS2ra1mkZRqIkkMtXlgGpYp566qmNi5CqzsvI0L3vqSGjHAiLrqzIux+EAh7G008/bRJm6fy57vGda2TbQnvwwQdNHBW3NfapLOjKUrq4BMsuu6zZYvPoo49+D84QszN2kql9PgagA5YNCaRbbrnFWQ7UD5aceBp33nmnybJSWtMPgrtfeZu4McnM1Vdffaj8x5WM8J1/ZUFXNgBAzTfffCaQeNtttw1zM3xisDLsdfZ7imax6h544IGhc/k1BDpY31nIwkcrUsAkIR5++GHjaVS5Mi8cmtSiDAN2QoH3cVcl5LXkkkuWdeH1fe2CTmt/TshYaaWVsmeeeWboiHWBSk/QC9L0UmMYIG4155xzmqQE7gK0sZVRryknG17mhHtOkXBdi6cxggxQx9CJ3Q/i4UEntns98sgjxuqW8h+NkioeRi2CztaiGujll1/eTAL3VQDUJmivLaB+5EHoMe+885o9n7h2Wgn1WoihCF4EHTt3sOgS37WTk+G9t956y1RroJCqHJvumlktgs7uWC8U9qitscYaxlJAm0qspIpUbidpeh8qNCox1aWWWspY3rgNPLbL2svC4Y033jBWwqKLLjp0plnvU64/ZqANJcp+brzxxmyeeeYxSQi7YqOq3KhF0BVpURbQYostZuqWCDDKSRm9FPfpD3bKn4W4qosvvrhxXynS5ASaqkzVNnwR88GjYPfH3HPPnTbxt41A38IDv5H5Z6fO/PPP73Rbq4Jei6CTwXURsQaI7WDslLjvvvvM/kKx6qoCndo1gwGOLFpmmWVMUoJCTZeg6zVXFkyRhLjppptMHJLsci9bps1Qvh29wm8kLscff3yjkOp8atnr6gJICz3ue11ggQWMpOZYIHGLinZXpO86t/9Q6IGbgMuAYKCAmO17Nh1cSq2NtNKuN7WceBRzzTWXifm0Ed5Bhwkhx4ky999/v7Hm5LKiOvACL9Sy11WY35VJ5X8sINxXTnI966yzhi5Otqub09/17m31wacWCDAV5UArr7yyqakjpgrtfPpp2zviNSDgLrnkElPqRJGwWHNtg3fQ4WH74YUXXmg28G+00Uam1rEunBhBV5d56HJz9P9IE6+22momo4JrZJcw9Es8qC58dqMfhABZSVw8rkO86qqrejpOh5C+7rrrzBxItIhQ7wZu05jFGGC3CufObbjhhuaGurrlQW2CTsc98iw79qxRxnDttdcaM1VPJsVNurMUNK2EHhQPs5GaTPkrr7wSzXR1M60vplCqJFaI9xAnlgSYb/v0Xv0YcK1zrG7oxN745ZZbLprfXFDXIuhcgs012Kijjpptu+22ZvEQA+rWAqiffP3VI5YQDEfB9xVXXBF0g70vLzSNMeCAxzhBZ5VVVkkJiKYRXrF/6ERJEztWsOZ0gXCdia9akhG+AUNwwakm1NXdfvvtQ2eg2RPy7S+9V0/CQlw60bb85NhqMrBYdQSIRSnl4bzJJEVo37J4KH5mDlgKiVfq4ZVYPNrhA6ow8PCIn7ITgthc3fLAxOjqCviV9SPMSl3dmmuuaRIS+OT8tN2nsr7S980kLbRShtnWXnttU0hMyp8aNB6Ne3lfhKC20O33Ymimxynrh3c51ZpSJn4SLpGi07K26ftm+MqFV+EldqtQjUECjKOzmqCBEXQVLc7KzZgIRzitsMIK2R133JG9+eabw/SVYnWVUVu5YRHOEXa4Fffcc0/pwZzdpp3E4J566imTNaYAmpqs9HQfA64wFReoX3zxxabGlth9k/zTMUGnrTZidbgUxIAuvfTSYbZ5pLhd95jSxj2MR03T9NNPb2J1HLnVNvrYViSuz/nnn2/OMWO7V7rhq3v8ZI+sXVLJiL/77rvZ+uuvn1Frq0ModQu9jgk6e9LE6jbddFNzCCKukUxy0C5Tbg8buiFhrzL3SrCN6rTTThs6bquNcMM755xzjsnob7DBBiY2hyCsM6jdxnn3AkxibQs9iP1ef/31RgagTJt+uiLomCyaF/eV000uuOACk4m1i1Obnnzq3w8DlJog7Iip2qeb2D10OusqQgzeYdM+W73gKX1Muiuu6Dfz9FadGBA64Blcc801JoSli4MZqyladUXQCfIoTt1qq63MfY0Up3IZhjZf60Ry6qs6BrCUiHdxmsRll11mygHyXItuWU9clk5xMNnipZde2glf3e5QdYwOZkvwT4IID461vs0225jwVSd4pqOCzjUhqqCpreMiDHZMJNe1PYtAl5vgwsKY7FW++uqrhw5n6LbwwAJg+9Bdd91ltqyR0ScGnBRme/hIQ/LCCy+YRNGqq65q9h7rY5iajP92tI5OBB3CTD4ggX2wpJcvv/zy7NVXXy2t2Yqt5Unt/WqqRFjIT07+2HjjjU0G9i9/+cswOw06hVN7+TIud9LiCpHg4kYzDbcWeJ2CMY0zLH8JzbDmTjnlFHPN5FprrTV0haF83xTe6L9jdXR27Eb74mOMMYap2cLtIF7HlpAm6mlSn351UhIrEQYUTYtyWmSRRQyjEmqgBkq/0yn8yphYA9T3sXiI9wAbdX+dgiON48dP4IlSkosuusgoR8JV3NnRKfwZQddJA5eJwZw66SDjTzHFFNkmm2xitDOuEYXE6ekOBkSwaeUkv+PCoo3Jwp577rkm1tKky+Gy4ISPOE6KxUNwm21e4447rhNhnU6QdIdqnR01z3BxQQGvsJeV+3RZ4xwa0Ume6bigcyFBEIbwo+6JOBBBZcnudZZ8abQ8DOj46pRTTmmEHUkJyjk4ty7mCWF6eRc3iPIEFg/utLisLjg6EeyOmX8vtLVpZMdm83BMOyx/wlLsn+b6whB614Wbjlp0RYuI7zgUcd111zXamewe23ik/qauCad+4jGAe4ibSOCfJAC0IiGQx8B1Cxr6I05IXA6Bq7d5xc8u9eCLgaJElBgwJIiov5xllllM0pEsazeeVgg67atTcrLjjjsaxHBgIvdMdEMDdIMYvTQmdZAczsCBllhW1K9hZRVZ7fo7TdOQUhXaUWzK7gdOreaS9MQfzXNOlew68dOTTjrJ3C6HkJO9rAJt3QqwCAutEHT2AmA7CC4s9XWcOvrxxx8nZm6el4NHgFE333xzc30grgkFu00+CDT2RnNKNSchY/lzIm162oEBXY5E/JR9rMRwt99+e1OD2c2n64JOawqR8DA0le077LCDCTQj7IgDJc3dTVb5/tjQi4w554ihtc8880wjiOxkhotuoRYCfcALp59+utlVwxYv9rOG9tMuDPYnNCQfsPA5im233Xb73hYvvc47taa7Uken62UgtcuEhZnZA7f77rtnXG7C5n+u4LPN3qZqb1K/frV2MKps5SFTftxxx5m9ppquVXGpM3ucW4bCe/bZZ01og8tT9A3vVcdI7fzo7MKTa+3CAySISChuscUWJrRATFev206vYcbreB1dSO0MCGLfIpYd6WkYHZOYJ6Sf9K5/vVMoroQWXHzEBm0suuOPPz5jS5YsBBe9hNmLxpN3cH/OO+88s9eWWM9UU02VeOBrBRNKq7rft+mK4sGSwyghu0opiX16TN0w+PRnBF2bjWeZBMXExIIIQpPho/hQa/s2z6FfYXOVGyy44ILZeuutl7HNh0zbG2+8ET19QhYUkbM9kCwv24aSuxqN1to7wJJjDyvHeRE7Zb0SY++Ua1o2oVYLOrEI2LuIsOOkA7YeoTEoZ9DBz7KJpu/rxUBeHRUb6qEVF2CTcctLJGlFlbcYcFep0yN0QZ8cLEBWPgm6emkZ2xtrEXcVq5tM/JZbbmmKt9si5Fpv0WkCEPTmgD62j9x8882mIj6vnCGWcKl9dQwQW+VqQZIFWHRHHnlkxuGKoQ9xPqxCTqEmA89+aOos8x477hs6Xnq/GAN2HF3qW8WSI8PKUV5kWDkHUD/avewWnltv0ekM3iijjGLiQDvvvLPJ6ODS/POf/2yV5ugWIdsyLvQitoqw23rrrU2s7vDDDzf1kMRwfDKwXFN48sknZ0888US2yy67mFo9HdBuy1wHCQ47VMROJiw5YnIIOe5s3nXXXU1BcBvDSq0XdMJMokFAItXwmMcEpykc5Uq7NpnJg7QA8uaKUKOgl1gNhaMILk6T1vS0XVBoiGCkhARrEBqT5OCR47uS29pd7oJGCDkO3qBQnMMdOHIJWhGTa+vTM4JOCzJcGGI2WAycY8fpFfYlO21FeL/DpbU59VRYY5tttpmpgzzxxBOzZ555xqnxaQcNTz31VCPsEJBs/mZRuWKxtmJrg3s0CLRljtQz4k1RJE5mFSEn7mpbFVHPCDrb50d7YC7/5je/yd5+++3s2GOPHcZiqJvpksXoh1E7lkPMjhueiN3wHHXUUWYPM4/GKRu/oSEHBVBkiiVHWx260BC0dUH5Yaldb7nqWLVy0bhGCZFk4nLwX/ziF0bQ2TG5ds3uG2h6UtAJ4rHsKCo+44wzDLJZKMTu5K7YNiJ8kGASIYVVxhagAw880Ox3PProo01NJPFVisBvuOGG7LDDDjMZ1f33398UICfF0jynaAEn+LaFnriq/J/7V6Eh6+uYY44ZOs1Z06qtdOtJQQcLaC3DybdYdksssYQxqYkbSGFxXeySLIh8TLqY21VnxzaxX/3qVxn1dgg3Qg6UJCD0iOfttNNOGbT0xXUbg9518Vu3+wG3QgfCDhTsk0GfddZZjTKae+65v3cMeluFXM9adDYTgGDunmBrEPEgFtHZZ5+dkb1zLTjfhdRtZuvl8V045n8jjTSSoRHlItREctQSRcCUDoW6QC6Xq5dx1gbYtfKQE5ypW6WeEUNijz32MCdMu542r6uu73WtstdQkGzXTrFQ2GC+zz77ZI8//nj2u9/9bigeZBOmyripTdy+SBYRCYr777/f0IXjtDmF5OGHHzbKSY7Qd9E34b467vNwZ8c8teJAyHF/C6VB1DJSrE9ZF6GHov7aSCdj0elsVS/+bgswdlFQuIgLS0D7j3/8Y3bCCSeYTBFEsO+O7cU5tw1maCCxnDzYEHAUDpOM4JQT6uwo+r722muNhXfjjTdmBx98sNm0LzHWsnnax/KXvZ++L94fKyEhdrNQG7fvvvsaZUS2fLvttsvGHnvsru+vrULDnnNdbQsuz9QHGWgeLLtf/vKXxoU94ogjzFai0OOe2myOd8vVyXMZ8+iDpcY+SOKo/L7ffvuZU2k4ZokEBOUJhx56qAk/YIVz8gWKSeJEeTRItPk+B8S487TlTEGSesTkKM5n3cw888w9nxzquWREUf2Unf1h29g666yTHXDAAeZwSOJ2xBree+89bxnhGs+78YC8mIcjLC5q4ygAZrM3ZSYEsldaaSVz96poZ064IEGBYmLrGG4s9XTsjGDxFWX1krCLZzLwS/KOujgqGNiBRCyOkqAxxxyz54Vcz1l0YlqHkpZMEYuII34ee+wxY1lw1wHulG+mSN5LC+u7I7JcsTTBE/uQcUcpG2GDPxlV6q4oM8lTVpwxxxlmBx10kNnHTAkDN43p2J2N/xgLJpSPeuH9sky0jT/WADuMyKiSGOJ4JdYHByjYRyz1Mq5H+NqNOABGZKM8l4xwsq9mxNiFHdu+qnCzmZIjt8kWQUAKjLEwKHrk+j6Kj8kGlgkznXIPZfo68BA6pisBE9uHbq/5RGKfxHdINBAbJcnApdIILjKr1D2WKRYW16STTpotueSSxq3lVAyuv6R4mGQTfcjt7lVxWrWdFuyxeGwSBptPNV+LIKR+kWQD8TcsaJTMIYccYi6SZz0IjovmGTuHWBy6ZAPeGrHfeeaZZ+hIL8ObX+8h/IqNuXvttVe25557GomuJ2m7DqHAxbaXyZQtEB+CCCxoMTk7i8XI9X2chMpPBKKLgLHziG0finfX+03CgOvDOXTE19inipvK+XHUW7EhX4+tF2IRXWlDn1h1WOC4u5Q4zDHHHBn3isj+11DcxOIhtn1dPF22JoSP5T1+cpYju08o7eEmNZQ/oQQUC6Ee28gpo08ZDKG0CX3fpgX7qdkeSqkZHhzfI89G+DpmcgAVz2LRTT/99E7XIhSAPM1ftZ86ECp9MHEuzGYf5iSTTGJcK8x2tAGLieySS6PFwhDbviru6qYF/TEXOcGCcMCVV15phNw000xj9iBzACdxUcFjnktlW9F2PA6BBp3wNDifDuuOhcp7nHmG1VfliaVFbHvBYRXYpU0ZDIJzoRVXD4I/PoQG2L5FqABlhEejYbKVfZ5yKoMhZn6+bTUM77//vskYi0UncxoYi04IpX+CBKw79u9RK0Sigmwfwh4TnkUr9xL4Ij3vvTqsgLbAIAvoqaeeMouGI5hwfahhZEseJQl5C8C1gLQLYrfT73OkOocCUC5EnSTKikvP+eg+yvAUS4vY9p2y6ETAYWHfcsstJlSD4sHiobyHrXZY2y5a+Qi6OvBQRquy730tuoETdLYmFYIi8DjuiQA698kSx6PcAZMe857tS64z0Wz3oIww8n3Vdr79u94rYkwfeLACOHIJIUNcB+2JRUymlNgn8U570RQJLh9rQGAW+PiJZUcckCO6cFXk/DssE7KEZbFAnwUq72hLRtNOn6pShSY+MAivhoZS4GUSOCgg+BmPhZAMh2BwxBmWsPByiEKyecR3DlXw49smCTqFKV+CCCFZSCxkAuFYLTADVgMZQxY27i3v6sXns2h9idfUey485FlYAgMLGnwQuEbAYfmSMOCCcawCtnIJPlxwuwRdVVzphcbvFBbjNnOPyKOPPmqEMDVfWJVYKwhee34+Al3jqW2CzkUvwScHYeKeUnRN/A1PBZ6Fd0kKYWnbij6G13zXVcwYZW2ToKso6DRjc7oGi5tCY5IXLCTc2mmnndZ8cNdE4NmxJptAPgusjKix3xcJOoFfLxpcHiwmEgK4jGQ9sdxINLCA5PLoEMEVuzhsCw+cIPBY3Fh5FLpy5BNuLXE9Ekw67uyyjly0KppTmSD0oVMsHrTAwrJmztCKD8qJs/wWXnhhk7jRe4hDaFU2jzrmUDZG2fdJ0HkKOttKkGZacJGKf+WVV0y9Eaeqsug5MhpBR40en/HHH980zcsEtlXQ6fmyQHDZ2YuKgKfYFxcI622FFVYwP7FoSQBUXTCxi0O3t5UMFg3bzBB6lA9xaxwPtCH8wOKndAW3LaSGMlQQli1Ovpd5uCxGV3vhH9n2htKFH9nJgLVNbJmTX6ATyRss2tAsqg/c+p1YWoaOl4cXzYt5Wdfhvib4QJSXVF2YglyIihAjPU92lnPvKMuByfjfhBNOaI4awnWCwRAGfCTrqO9LsIWej5URyxQuiw1LiA+LBNePYLVknsmYLrLIIsY9xQUkK+dTW1UGZ+zi8GnPOygnhAHlQygn5ofQhjZYOWTliMFCIwSfLo4VeuTRxbboNI+UzV+/K0kdexyNZ/gGGhEfpYSHhYzlipUN3Gx1pP6VWDIHJDAfu9DXF6bQ93xoEdpn6Ps+Fp05wHVQ6uhiBZ3rYhcsCNw7BAQxEcp0KJhlMcF0uE1YE1h/FGGKwLCJ04Sgs11p9viy8HHH+WC5YaUCMzE4Smpw99iKRYwLwc1TlpELxWvs4shrr3GoYRKrD/dOTk3h+H3iVwgF5on1A72gGx9oBc1s68W1CMtCFnkL1yUs+R88BX3IMPNB8bz22mtGofI74QKsag6sIPZGZYBkTrV1aMMVmxTysaZChVQd7/sIuoEqGA5ZkC430xZ0wlTSL1qXLBduLXVeBIXFpeAdMl0IPTayEzMhi8uignFZVOwv9LEM7HG1MAJutD6WC8KL38kks0BY2Hyw3niAATeOBc6HeBYL3scayBMqPoxbVdBpK0ssoTxB5FrUeuFDG5JM0AlFxU8EP+4sdCFojwAUOkEfTas84S+0seeo35ff8QIQaNAIWqGEoA+0wv3md6xS4CFEwmeqqaYysWGsbdkrbOM8z1soEnR5Cq2MnlVpWdZvyPdJ0ClshRLEJejK+tCLH6EH4yJkuJ8UppVgMYsK5kYL4w5iVfCTkgiYGqtPfiJ0JCaD+c3DYpQP2h8Lkg/j8RPLTVwdFhPvYKFgrRGUxwJA2DIGpRiMp+9mCGGyKu+W4bHIAuI7aV+2cKWfIosU5YWQETph9UEf3EPifPwN/oVO0Ao6IfiwgMEhuBX3FzwKnegbOoF/fhcrDX6AVigjBBkuKXTig/BC6UAjFA/CVtPJvtc2RHkXWWQxNImFoQoP2QrOK0aXXNfvozpG0LlcGfqDofmIEHznnXfM8VEsJjQ4H/6HxcUC8H0YjwWC9YHFyE+sR6wS/uZ3FovEbiSRoN0cWyjEWGxlcMcsKlvQ+bj8LoFIO1cdHP9HOCF0oBMKSaxhLD6xtqAZtOL7PBj0POV3cM9OD2iEshELH6EptEK56fiuyx3VeCjDd9H3sXSuSssYmF0WbBJ032KlDoKU9ZHnMohbYLcvWqQsILQ+glEsAn7yiNWARciCwCrTbm+ZpeMTq3EtgKL/hWj1Mjza2lrjr0gg5y2ePEEn/9ffuxSca2HJ/6APFhqKCcFIe35qOkEvaCWhCmmrLdM83imLs9UpMKr0FULLKv37tLFhyMu69tx5dD6Tb8s7ZQLAFWvif8SDcFtwYyQuQ3kEtWu4NMRoiKeRcdPnupWN58KLwGDHkVywdROvebjS/9fCKw9+/X8WSZFFZn9nC3tcWiwx6ARNcDmhER+JpUEn4mu4uDasNrxiqdl4ds3Fx5rtJr3aNnYSdIoiwvh1MJHLNdTEryKUytwQgdu1gGPHcwnEtjCznncITDZObAsqpK8ii7IK7qu0qQPefu2jJy/H0QKpzt+1Rg3tV7sktqAp68t21/LaC3z6e9e7GhYXXGXw+H7fZN9a2ZTBYy/OsvddllqededSfkX959HS7ievj6Zx6oObfnsHnBqLTmvrQf89XZ5TfIHKoPNHmn/v8ceQoBNh169ma5pXwkDCwGBjIMXoBpv+afYJAwOBgSFBV5SBGghMpEkmDCQM9C0GzAXWdWQZ+xZDaWIJAwkDPY+B5Lr2PAnTBBIGEgbKMOAUdHmFkq6yBt9UO4D4tLcB9ikzcLVx1Va5SgU0XLqN63c9Tl65gD3PvDZF7bvZxsZHHs6q0lPaFbUvwrOrfVm5iM13rkVRVO7hU3oSSs9YPLv41oW3boxTBFud6ybPE3X9f+g8ur333tvcg0hFt70tRhdS2r9Lp653ZMIh7fMEnbjY2tXOK6oEJrv4026fN8c8mHWf9jtF85T5hODJZlgf3LralI1ZNo7d3kWbMn7waaPxVwXPoW0Yz+Ydm2d8+COkjeYDFw/bcxhU2rjWdB6eXfzJXvFLL73UXHe43XbbDV13aAQdx09zUzf79kIWh0szFjG2z/t52jamUryIiXxhiu0jtr0vnEXv9QMMdcwhto/Y9i5FGUrfOmAIHbOJtd0EDJzywlWO3EoHnobOo+N4Hw5hlA3JedqkClB1ECS2j9j2iTGrUN7dJpYWse3bQsvYecS2r4OibYWBgxQ4PVquNxgSdLZg06Z97GRi2yfGrIMlv+mjDlrEQhMLQ2z7OvDQLzB0m5ax47toKbQRz5R3jKDDdW3S3ekXpoidR2z7Jpiijj5D+4jFQ2z7JOhCKZb/fh20iIXGhkELOomFYuH9PyCEvil4GbebAAAAAElFTkSuQmCC)"
      ],
      "metadata": {
        "id": "Ka8TpuPVrkCt"
      }
    },
    {
      "cell_type": "code",
      "execution_count": null,
      "metadata": {
        "id": "-jXkTerjCSUr",
        "outputId": "e0215950-c4b4-4cce-9a48-89bd99bc6caa",
        "colab": {
          "base_uri": "https://localhost:8080/"
        }
      },
      "outputs": [
        {
          "output_type": "stream",
          "name": "stdout",
          "text": [
            "{1, 2, 3, 4, 5, 6, 7}\n",
            "{1, 2, 3, 4, 5, 6, 7}\n",
            "<class 'set'>\n"
          ]
        }
      ],
      "source": [
        "A = {1, 2, 3, 4, 5}\n",
        "B = {3, 4, 5, 6, 7}\n",
        "\n",
        "#union of 2 sets using | operator\n",
        "\n",
        "print(A | B)\n",
        "\n",
        "C = A | B # Assigning result to another set\n",
        "\n",
        "print(C)\n",
        "print(type(C))"
      ]
    },
    {
      "cell_type": "code",
      "execution_count": null,
      "metadata": {
        "id": "8OT6ZGCACSUs",
        "outputId": "eb7523bc-7be8-4fd2-c158-508562365e8b",
        "colab": {
          "base_uri": "https://localhost:8080/"
        }
      },
      "outputs": [
        {
          "output_type": "stream",
          "name": "stdout",
          "text": [
            "{1, 2, 3, 4, 5, 6, 7}\n",
            "{1, 2, 3, 4, 5, 6, 7}\n",
            "<class 'set'>\n"
          ]
        }
      ],
      "source": [
        "#Using union\n",
        "print(A.union(B))\n",
        "\n",
        "C = A.union(B) # Assigning result to another set\n",
        "\n",
        "print(C)\n",
        "print(type(C))\n"
      ]
    },
    {
      "cell_type": "markdown",
      "source": [
        "#Intersection\n",
        "An intersection is the set that contains all elements of A that also belong to B (or equivalently, all elements of B that also belong to A), but no other elements.\n",
        "\n",
        "\n",
        "**In General:** A∩B, A / B, 　A∧B, 　A　and　B\n",
        "\n",
        "**In Python**: A & B or A.intersection(B)\n",
        "\n",
        "![Intersection.png](data:image/png;base64,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)"
      ],
      "metadata": {
        "id": "z2g47KWss-Wh"
      }
    },
    {
      "cell_type": "code",
      "execution_count": null,
      "metadata": {
        "id": "9IZg1DSuCSUt",
        "outputId": "1b03e156-d9e6-4477-9f49-5a9eed4aa8e0",
        "colab": {
          "base_uri": "https://localhost:8080/"
        }
      },
      "outputs": [
        {
          "output_type": "stream",
          "name": "stdout",
          "text": [
            "{5, 6, 7}\n",
            "{5, 6, 7}\n",
            "{5, 6, 7}\n"
          ]
        }
      ],
      "source": [
        "#intersection of 2 sets using & operator\n",
        "\n",
        "A = {4, 6, 3, 5, 9, 8, 7}\n",
        "B = {6, 5, 7, 1, 2}\n",
        "set_intersection = A & B\n",
        "print(set_intersection)\n",
        "\n",
        "set_intersection = A.intersection(B)\n",
        "print(set_intersection)\n",
        "\n",
        "print(A & B)"
      ]
    },
    {
      "cell_type": "markdown",
      "source": [
        "#Set Difference\n",
        "\n",
        "**Difference** of the set B from set A(A - B) is a set of elements that are only in A but not in B. \n",
        "\n",
        "Similarly, B - A is a set of elements in B but not in A.\n",
        "\n",
        "**Difference** is performed using - operator. \n",
        "\n",
        "Same can be accomplished using the difference() method.\n",
        "\n",
        "![Set Difference.png](data:image/png;base64,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)"
      ],
      "metadata": {
        "id": "gsDwuA5wugwR"
      }
    },
    {
      "cell_type": "code",
      "execution_count": null,
      "metadata": {
        "id": "Me6TxqYfCSUu",
        "outputId": "5bfb8c3a-d095-4bc7-ce03-7f66f9e45ffa",
        "colab": {
          "base_uri": "https://localhost:8080/"
        }
      },
      "outputs": [
        {
          "output_type": "stream",
          "name": "stdout",
          "text": [
            "{8, 9, 3, 4}\n",
            "{8, 9, 3, 4}\n",
            "{8, 9, 3, 4}\n",
            "{1, 2}\n"
          ]
        }
      ],
      "source": [
        "#set Difference: set of elements that are only in set1 but not in set2\n",
        "A = {4, 6, 3, 5, 9, 8, 7}\n",
        "B = {6, 5, 7, 1, 2}\n",
        "print(A - B) #Elements present in A not in B\n",
        "\n",
        "C = A - B #Elements present in A not in B\n",
        "\n",
        "print(C)\n",
        "\n",
        "C = A.difference(B) #Elements present in A not in B\n",
        "print(C)\n",
        "\n",
        "\n",
        "C = B.difference(A) #Elements present in B not in A\n",
        "print(C)"
      ]
    },
    {
      "cell_type": "markdown",
      "source": [
        "#Symmetric difference or Symmetric Set\n",
        "\n",
        "A symmetric difference is the exact opposite of an intersection: “the set of elements which are in either of the sets and not in their intersection.”\n",
        "\n",
        "**In General :** A⊕B, 　A　xor　B\n",
        "\n",
        "\n",
        "**In Python :** A ^ B or A.symmetric_difference(B)\n",
        "\n",
        "\n",
        "![Symmetric Difference.png](data:image/png;base64,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)\n",
        "\n"
      ],
      "metadata": {
        "id": "lezoH6CtvSoa"
      }
    },
    {
      "cell_type": "code",
      "execution_count": null,
      "metadata": {
        "id": "CgnuraXZCSUv",
        "outputId": "06c0e157-6a3f-4d53-c3d1-509c04356ff2",
        "colab": {
          "base_uri": "https://localhost:8080/"
        }
      },
      "outputs": [
        {
          "output_type": "stream",
          "name": "stdout",
          "text": [
            "{1, 2, 3, 4, 8, 9}\n",
            "{1, 2, 3, 4, 8, 9}\n",
            "{1, 2, 3, 4, 8, 9}\n"
          ]
        }
      ],
      "source": [
        "A = {4, 6, 3, 5, 9, 8, 7}\n",
        "B = {6, 5, 7, 1, 2}\n",
        "\n",
        "#use ^ operator\n",
        "\n",
        "print(A ^ B)\n",
        "\n",
        "#use symmetric_difference function\n",
        "print(A.symmetric_difference(B))\n",
        "\n",
        "#use symmetric_difference function\n",
        "print(B.symmetric_difference(A))  # A.symmetric_difference(B) is equivalent to B.symmetric_difference(A)"
      ]
    },
    {
      "cell_type": "code",
      "source": [
        "set1 = {0, 1, 2, 3, 5, 6, 7, 8, 9, 'abcd'}\n",
        "set2 = {1, 3, 5, 'extra element'}\n",
        "result = set1.symmetric_difference_update(set2)\n",
        "# it removes common elements in both sets and updates set1 with union of remaining elements.\n",
        "print(result)\n",
        "# Output: None\n",
        "# print original sets\n",
        "print(set1)\n",
        "# Output: {0, 2, 6, 7, 8, 9, 'abcd', 'extra element'}\n",
        "print(set2)\n",
        "# Output: {1, 3, 5, 'extra element'}"
      ],
      "metadata": {
        "id": "pAfHh16P6Q2y",
        "outputId": "4cd5e936-aef3-4368-ead0-a64bf15aa68c",
        "colab": {
          "base_uri": "https://localhost:8080/"
        }
      },
      "execution_count": null,
      "outputs": [
        {
          "output_type": "stream",
          "name": "stdout",
          "text": [
            "None\n",
            "{0, 2, 6, 7, 8, 9, 'abcd', 'extra element'}\n",
            "{1, 3, 5, 'extra element'}\n"
          ]
        }
      ]
    },
    {
      "cell_type": "markdown",
      "source": [
        "#Subset and Superset!\n",
        "\n",
        "**Subset:** a set A is referred to as the subset of another set B, if every element of set A is also an element of set B. \n",
        "\n",
        "The relationship of one set being the other’s subset is often termed as ‘inclusion’ \n",
        "\n",
        "Set A is a subset of set B, if and only if their intersection is equal to set A.\n",
        "A ⊂ B --> A ∩ B = A\n",
        "\n",
        "Set A is a subset of set B, if and only if their union is equal to set B.\n",
        "A ⊂ B » A ∪ B = B\n",
        "\n",
        "Example: \n",
        "X = {Set of all the people living in your city} \n",
        "Y = {Set of your family members} \n",
        "\n",
        "Y will be a subset of X because each member of your family is also a resident of the city you live in. \n",
        "\n",
        "\n",
        "E = {Set of all even numbers}\n",
        "N = {Set of all natural numbers} then set E is a subset of set N.\n",
        "\n",
        "\n",
        "#Superset\n",
        "\n",
        "Supersets are those sets which are defined by the following conditions: A ⊂ B and A ≠ B. \n",
        "\n",
        "When these two conditions are fulfilled, **B is called a superset of set A.** \n",
        "\n",
        "Supersets are represented by the symbol which is the mirror image of the symbol used to represent a subset:\n",
        "\n",
        "B ⊃ A          {B is the superset of A}\n",
        "\n",
        "![images.png](data:image/png;base64,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)\n"
      ],
      "metadata": {
        "id": "qXXoBOHexSbU"
      }
    },
    {
      "cell_type": "code",
      "execution_count": null,
      "metadata": {
        "id": "_hxBT3xMCSUw",
        "outputId": "e672d2a2-d9b3-4533-d718-38653e4d87fd",
        "colab": {
          "base_uri": "https://localhost:8080/"
        }
      },
      "outputs": [
        {
          "output_type": "stream",
          "name": "stdout",
          "text": [
            "set 'A' is subset of 'B' ? False\n",
            "set 'B' is subset of 'A' ? True\n",
            "True\n",
            "False\n"
          ]
        }
      ],
      "source": [
        "#find issubset()\n",
        "A = {1, 2, 3, 4, 5}\n",
        "B = {1, 2, 3}\n",
        "\n",
        "print(\"set 'A' is subset of 'B' ?\", A.issubset(B)) #check A is subset of B\n",
        "\n",
        "#check B is subset of A\n",
        "print(\"set 'B' is subset of 'A' ?\", B.issubset(A))\n",
        "\n",
        "print(B <= A) # to determine the inclusive relation of a set in Python\n",
        "\n",
        "print(A <= B) # to determine the inclusive relation of a set in Python\n"
      ]
    },
    {
      "cell_type": "code",
      "source": [
        "#find issuperset()\n",
        "A = {1, 2, 3, 4, 5}\n",
        "B = {1, 2, 3}\n",
        "\n",
        "print(\"set 'A' is superset of 'B' ?\", A.issuperset(B)) #check A is superset of B\n",
        "\n",
        "#check B is superset of A\n",
        "print(\"set 'B' is superset of 'A' ?\", B.issuperset(A))\n",
        "\n",
        "print(B >= A) # to determine the inclusive relation of a set in Python\n",
        "\n",
        "print(A >= B) # to determine the inclusive relation of a set in Python"
      ],
      "metadata": {
        "colab": {
          "base_uri": "https://localhost:8080/"
        },
        "id": "fMscP3vuz9W3",
        "outputId": "43adab6d-a5de-4abb-e723-c351e121e448"
      },
      "execution_count": null,
      "outputs": [
        {
          "output_type": "stream",
          "name": "stdout",
          "text": [
            "set 'A' is superset of 'B' ? True\n",
            "set 'B' is superset of 'A' ? False\n",
            "False\n",
            "True\n"
          ]
        }
      ]
    },
    {
      "cell_type": "code",
      "source": [
        "#find issuperset()\n",
        "A = {1, 2, 3, 4, 5}\n",
        "B = {1, 2, 3, 4, 5}\n",
        "\n",
        "print(\"set 'A' is superset of 'B' ?\", A.issuperset(B)) #check A is superset of B\n",
        "\n",
        "\n",
        "\n",
        "#check B is superset of A\n",
        "print(\"set 'B' is superset of 'A' ?\", B.issuperset(A))\n",
        "\n",
        "print(B >= A) # to determine the inclusive relation of a set in Python\n",
        "\n",
        "print(A >= B) # to determine the inclusive relation of a set in Python"
      ],
      "metadata": {
        "colab": {
          "base_uri": "https://localhost:8080/"
        },
        "id": "4MX7xG8B0J9O",
        "outputId": "c585aad1-f231-45e0-bf06-174e667f8fe1"
      },
      "execution_count": null,
      "outputs": [
        {
          "output_type": "stream",
          "name": "stdout",
          "text": [
            "set 'A' is superset of 'B' ? True\n",
            "set 'B' is superset of 'A' ? True\n",
            "True\n",
            "True\n"
          ]
        }
      ]
    },
    {
      "cell_type": "markdown",
      "source": [
        "#Disjoint Sets\n",
        "\n",
        "sets don’t have any common element.\n",
        "\n"
      ],
      "metadata": {
        "id": "1Mo02fVw0cd8"
      }
    },
    {
      "cell_type": "code",
      "source": [
        "# find if sets disjoint or not\n",
        "set1 = set([1, 2.55, 3, \"a\"])\n",
        "set2 = set([\"hello\", \"world\", \"batta\"])\n",
        "is_disjoint = set1.isdisjoint(set2)\n",
        "print(is_disjoint)\n",
        "# Output: True\n",
        "# Because there are no common elements\n",
        "set1 = set([1, 2.55, 3, \"a\"])\n",
        "set2 = set([\"hello\", 1, \"a\"])\n",
        "is_disjoint = set1.isdisjoint(set2)\n",
        "print(is_disjoint)\n",
        "# Output: False\n",
        "# common elements are 1, \"a\""
      ],
      "metadata": {
        "colab": {
          "base_uri": "https://localhost:8080/"
        },
        "id": "i03YF9Lw5bCd",
        "outputId": "eb5d0511-642a-43bd-b42f-8e1e91271af4"
      },
      "execution_count": null,
      "outputs": [
        {
          "output_type": "stream",
          "name": "stdout",
          "text": [
            "True\n",
            "False\n"
          ]
        }
      ]
    },
    {
      "cell_type": "markdown",
      "metadata": {
        "id": "nG2DIrCQCSUx"
      },
      "source": [
        "# Frozen Sets"
      ]
    },
    {
      "cell_type": "markdown",
      "metadata": {
        "collapsed": true,
        "id": "LnPTtWU6CSUx"
      },
      "source": [
        "**Frozen sets** has the characteristics of sets, but we can't be changed once it's assigned. While tuple are immutable lists, **frozen sets are immutable sets**"
      ]
    },
    {
      "cell_type": "markdown",
      "metadata": {
        "id": "IVXBCL4gCSUy"
      },
      "source": [
        "Frozensets can be created using the function **frozenset()**"
      ]
    },
    {
      "cell_type": "markdown",
      "metadata": {
        "id": "ZP5p1i7KCSUy"
      },
      "source": [
        "**Sets** being mutable are **unhashable**, so they can't be used as dictionary keys. \n",
        "\n",
        "On the other hand, **frozensets** are hashable and can be used as keys to a dictionary."
      ]
    },
    {
      "cell_type": "markdown",
      "metadata": {
        "id": "oBV8TJzmCSUy"
      },
      "source": [
        "This datatype supports methods like copy(), difference(), intersection(), isdisjoint(), issubset(), issuperset(), symmetric_difference() and union(). Being immutable it does not have method that add or remove elements."
      ]
    },
    {
      "cell_type": "code",
      "execution_count": null,
      "metadata": {
        "id": "zjhItF3ICSUz",
        "outputId": "755ef851-98c3-4ad4-ee17-2018864fcc29",
        "colab": {
          "base_uri": "https://localhost:8080/",
          "height": 200
        }
      },
      "outputs": [
        {
          "output_type": "error",
          "ename": "AttributeError",
          "evalue": "ignored",
          "traceback": [
            "\u001b[0;31m---------------------------------------------------------------------------\u001b[0m",
            "\u001b[0;31mAttributeError\u001b[0m                            Traceback (most recent call last)",
            "\u001b[0;32m<ipython-input-21-f63cd47a1306>\u001b[0m in \u001b[0;36m<module>\u001b[0;34m()\u001b[0m\n\u001b[1;32m      3\u001b[0m \u001b[0;34m\u001b[0m\u001b[0m\n\u001b[1;32m      4\u001b[0m \u001b[0;31m#try to add element into set1 gives an error\u001b[0m\u001b[0;34m\u001b[0m\u001b[0;34m\u001b[0m\u001b[0;34m\u001b[0m\u001b[0m\n\u001b[0;32m----> 5\u001b[0;31m \u001b[0mA\u001b[0m\u001b[0;34m.\u001b[0m\u001b[0madd\u001b[0m\u001b[0;34m(\u001b[0m\u001b[0;36m5\u001b[0m\u001b[0;34m)\u001b[0m\u001b[0;34m\u001b[0m\u001b[0;34m\u001b[0m\u001b[0m\n\u001b[0m",
            "\u001b[0;31mAttributeError\u001b[0m: 'frozenset' object has no attribute 'add'"
          ]
        }
      ],
      "source": [
        "A = frozenset([1, 2, 3, 4])\n",
        "B = frozenset([3, 4, 5, 6])\n",
        "\n",
        "#try to add element into set1 gives an error\n",
        "A.add(5)"
      ]
    },
    {
      "cell_type": "code",
      "execution_count": null,
      "metadata": {
        "id": "bNT9NpzxCSU0",
        "outputId": "a4f4fe53-97ce-4862-8a12-dcea5684f8ee",
        "colab": {
          "base_uri": "https://localhost:8080/",
          "height": 165
        }
      },
      "outputs": [
        {
          "output_type": "error",
          "ename": "TypeError",
          "evalue": "ignored",
          "traceback": [
            "\u001b[0;31m---------------------------------------------------------------------------\u001b[0m",
            "\u001b[0;31mTypeError\u001b[0m                                 Traceback (most recent call last)",
            "\u001b[0;32m<ipython-input-22-de5b882ac74b>\u001b[0m in \u001b[0;36m<module>\u001b[0;34m()\u001b[0m\n\u001b[0;32m----> 1\u001b[0;31m \u001b[0mprint\u001b[0m\u001b[0;34m(\u001b[0m\u001b[0mA\u001b[0m\u001b[0;34m[\u001b[0m\u001b[0;36m1\u001b[0m\u001b[0;34m]\u001b[0m\u001b[0;34m)\u001b[0m \u001b[0;31m# frozen set doesn't support indexing\u001b[0m\u001b[0;34m\u001b[0m\u001b[0;34m\u001b[0m\u001b[0m\n\u001b[0m",
            "\u001b[0;31mTypeError\u001b[0m: 'frozenset' object is not subscriptable"
          ]
        }
      ],
      "source": [
        "print(A[1]) # frozen set doesn't support indexing"
      ]
    },
    {
      "cell_type": "code",
      "execution_count": null,
      "metadata": {
        "id": "K0uDli9fCSU0",
        "outputId": "a2c78602-0924-4c6b-f44f-80b2bd3774f2",
        "colab": {
          "base_uri": "https://localhost:8080/"
        }
      },
      "outputs": [
        {
          "output_type": "stream",
          "name": "stdout",
          "text": [
            "frozenset({1, 2, 3, 4, 5, 6})\n"
          ]
        }
      ],
      "source": [
        "print(A | B) #union of 2 sets"
      ]
    },
    {
      "cell_type": "code",
      "execution_count": null,
      "metadata": {
        "id": "4hKQp3JZCSU1",
        "outputId": "cfc04719-a81e-4c4c-e5bf-9aca385ba080",
        "colab": {
          "base_uri": "https://localhost:8080/"
        }
      },
      "outputs": [
        {
          "output_type": "stream",
          "name": "stdout",
          "text": [
            "frozenset({3, 4})\n",
            "frozenset({3, 4})\n"
          ]
        }
      ],
      "source": [
        "#intersection of two sets\n",
        "print(A & B)\n",
        "\n",
        "#or \n",
        "print(A.intersection(B))"
      ]
    },
    {
      "cell_type": "code",
      "execution_count": null,
      "metadata": {
        "id": "hOMwu_B5CSU2",
        "outputId": "51764329-5766-4c90-8035-c2b5862856b6",
        "colab": {
          "base_uri": "https://localhost:8080/"
        }
      },
      "outputs": [
        {
          "output_type": "stream",
          "name": "stdout",
          "text": [
            "frozenset({1, 2, 5, 6})\n",
            "frozenset({1, 2, 5, 6})\n"
          ]
        }
      ],
      "source": [
        "#symmetric difference\n",
        "print(A ^ B)\n",
        "\n",
        "#or\n",
        "print(A.symmetric_difference(B))"
      ]
    }
  ],
  "metadata": {
    "kernelspec": {
      "display_name": "Python 3",
      "language": "python",
      "name": "python3"
    },
    "language_info": {
      "codemirror_mode": {
        "name": "ipython",
        "version": 3
      },
      "file_extension": ".py",
      "mimetype": "text/x-python",
      "name": "python",
      "nbconvert_exporter": "python",
      "pygments_lexer": "ipython3",
      "version": "3.6.1"
    },
    "colab": {
      "name": "P_sets.ipynb",
      "provenance": [],
      "collapsed_sections": [
        "nG2DIrCQCSUx"
      ],
      "include_colab_link": true
    }
  },
  "nbformat": 4,
  "nbformat_minor": 0
}