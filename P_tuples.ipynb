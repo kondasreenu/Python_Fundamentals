{
  "cells": [
    {
      "cell_type": "markdown",
      "metadata": {
        "id": "view-in-github",
        "colab_type": "text"
      },
      "source": [
        "<a href=\"https://colab.research.google.com/github/kondasreenu/Python_Fundamentals/blob/main/P_tuples.ipynb\" target=\"_parent\"><img src=\"https://colab.research.google.com/assets/colab-badge.svg\" alt=\"Open In Colab\"/></a>"
      ]
    },
    {
      "cell_type": "markdown",
      "metadata": {
        "id": "1DJrhMZ0p5wT"
      },
      "source": [
        "**Tuples**"
      ]
    },
    {
      "cell_type": "markdown",
      "metadata": {
        "id": "mxNZ-jULp5wd"
      },
      "source": [
        "The tuple data type is almost identical to the list data type, except in two ways. \n",
        "\n",
        "First, tuples are **typed with parentheses, ( and )**, instead of square brackets [ and ].\n",
        "\n",
        "Second, **tuples** are different from lists is that tuples, like strings, are **immutable**, tuples cannot have their values modified, appended, or removed."
      ]
    },
    {
      "cell_type": "markdown",
      "metadata": {
        "id": "Lphnym-zp5wf"
      },
      "source": [
        "# Tuple creation"
      ]
    },
    {
      "cell_type": "code",
      "execution_count": 16,
      "metadata": {
        "id": "DFzlFAqzp5wg",
        "outputId": "931f7c34-e321-4af8-ae50-2e089c777f79",
        "colab": {
          "base_uri": "https://localhost:8080/"
        }
      },
      "outputs": [
        {
          "output_type": "stream",
          "name": "stdout",
          "text": [
            "()\n",
            "(1, 2, 3)\n",
            "(10, 'abcd', 28, True)\n",
            "(1, (2, 3, 4))\n",
            "(1, (2, 3, 4), [1, True, 28, 'ab'])\n"
          ]
        }
      ],
      "source": [
        "#empty tuple\n",
        "t1 = ()\n",
        "print(t1)\n",
        "\n",
        "#tuple integers\n",
        "t1 = (1, 2, 3)\n",
        "print(t1)\n",
        "\n",
        "#tuple with mixed datatypes\n",
        "t1 = (10, 'abcd', 28, True)\n",
        "print(t1)\n",
        "\n",
        "#nested tuple : tuple in another tuple\n",
        "t1 = (1, (2, 3, 4))\n",
        "print(t1)\n",
        "\n",
        "#nested tuple : tuple in another tuple, list in tuple\n",
        "t1 = (1, (2, 3, 4), [1, True, 28, 'ab'])\n",
        "print(t1)"
      ]
    },
    {
      "cell_type": "code",
      "execution_count": 4,
      "metadata": {
        "id": "jQApPHtNp5wl",
        "outputId": "0fa444d2-f600-4668-dc4d-cbaf8389eb80",
        "colab": {
          "base_uri": "https://localhost:8080/"
        }
      },
      "outputs": [
        {
          "output_type": "stream",
          "name": "stdout",
          "text": [
            "<class 'int'>\n",
            "<class 'tuple'>\n"
          ]
        }
      ],
      "source": [
        "#Common mistake while creating tuples with single value\n",
        "#only parenthesis is not enough\n",
        "t1 = (1)\n",
        "print(type(t1))\n",
        "\n",
        "#Correct method\n",
        "t1 = (1,) # comma at the end\n",
        "print(type(t1))"
      ]
    },
    {
      "cell_type": "code",
      "execution_count": 5,
      "metadata": {
        "id": "JHgvSrB-p5wn",
        "outputId": "09621b34-4ffa-453c-c66d-aaad389a608f",
        "colab": {
          "base_uri": "https://localhost:8080/"
        }
      },
      "outputs": [
        {
          "output_type": "stream",
          "name": "stdout",
          "text": [
            "<class 'tuple'>\n"
          ]
        }
      ],
      "source": [
        "#parenthesis is optional\n",
        "t1 = 1, \n",
        "print(type(t1))"
      ]
    },
    {
      "cell_type": "markdown",
      "metadata": {
        "id": "ojmoRYZQp5wp"
      },
      "source": [
        "**Accessing Elements in Tuple**\n",
        "\n",
        "Will use index operator [ ]"
      ]
    },
    {
      "cell_type": "code",
      "execution_count": 11,
      "metadata": {
        "id": "YfXUFCmLp5wq",
        "outputId": "621db7f5-e21e-4bb4-aa9a-0f62dbb1a9a8",
        "colab": {
          "base_uri": "https://localhost:8080/"
        }
      },
      "outputs": [
        {
          "output_type": "stream",
          "name": "stdout",
          "text": [
            "ME\n",
            "CIVIL\n",
            "('CSE', 'ME', 'ECE')\n",
            "('CSE', 'ME', 'ECE', 'EEE', 'CIVIL')\n"
          ]
        }
      ],
      "source": [
        "t = ('CSE', 'ME', 'ECE', 'EEE', 'CIVIL')\n",
        "\n",
        "print(t[1]) # Element at index 1\n",
        "\n",
        "#negative index\n",
        "print(t[-1]) #print last element in a tuple\n",
        "\n",
        "#print elements from starting to 2nd last elements\n",
        "print(t[:-2])\n",
        "\n",
        "print(t[:]) # using slicing"
      ]
    },
    {
      "cell_type": "code",
      "execution_count": 10,
      "metadata": {
        "id": "1GtZ_SDNp5wt",
        "outputId": "ae622e21-9a8e-482b-aed8-010dfef72c9d",
        "colab": {
          "base_uri": "https://localhost:8080/"
        }
      },
      "outputs": [
        {
          "output_type": "stream",
          "name": "stdout",
          "text": [
            "('AIML', 'DataSciene', 'IOT', 'Cyber Security')\n",
            "Cyber Security\n"
          ]
        }
      ],
      "source": [
        "#nested tuple\n",
        "t = ('CSE', ('AIML', 'DataSciene', 'IOT', 'Cyber Security'))\n",
        "\n",
        "print(t[1])\n",
        "\n",
        "print(t[1][3]) # nested tuple, 3rd element Cyber Security"
      ]
    },
    {
      "cell_type": "markdown",
      "metadata": {
        "id": "Ry8tMgRip5w1"
      },
      "source": [
        "**Changing a Tuple**"
      ]
    },
    {
      "cell_type": "markdown",
      "metadata": {
        "id": "GKXfIM33p5w2"
      },
      "source": [
        "unlike lists, tuples are immutable\n",
        "\n",
        "This means that elements of a tuple cannot be changed once it has been assigned. \n",
        "\n",
        "But, if the element is itself a mutable datatype like list, its nested items can be changed."
      ]
    },
    {
      "cell_type": "code",
      "execution_count": 13,
      "metadata": {
        "id": "f793FFEEp5w3",
        "outputId": "b2cb3e92-272e-4d84-d60d-11c4157d8d75",
        "colab": {
          "base_uri": "https://localhost:8080/",
          "height": 200
        }
      },
      "outputs": [
        {
          "output_type": "error",
          "ename": "TypeError",
          "evalue": "ignored",
          "traceback": [
            "\u001b[0;31m---------------------------------------------------------------------------\u001b[0m",
            "\u001b[0;31mTypeError\u001b[0m                                 Traceback (most recent call last)",
            "\u001b[0;32m<ipython-input-13-153b23a90704>\u001b[0m in \u001b[0;36m<module>\u001b[0;34m()\u001b[0m\n\u001b[1;32m      2\u001b[0m \u001b[0mt1\u001b[0m \u001b[0;34m=\u001b[0m \u001b[0;34m(\u001b[0m\u001b[0;36m1\u001b[0m\u001b[0;34m,\u001b[0m \u001b[0;36m2\u001b[0m\u001b[0;34m,\u001b[0m \u001b[0;36m3\u001b[0m\u001b[0;34m,\u001b[0m \u001b[0;36m4\u001b[0m\u001b[0;34m,\u001b[0m \u001b[0;34m[\u001b[0m\u001b[0;36m5\u001b[0m\u001b[0;34m,\u001b[0m \u001b[0;36m6\u001b[0m\u001b[0;34m,\u001b[0m \u001b[0;36m7\u001b[0m\u001b[0;34m]\u001b[0m\u001b[0;34m)\u001b[0m\u001b[0;34m\u001b[0m\u001b[0;34m\u001b[0m\u001b[0m\n\u001b[1;32m      3\u001b[0m \u001b[0;34m\u001b[0m\u001b[0m\n\u001b[0;32m----> 4\u001b[0;31m \u001b[0mt1\u001b[0m\u001b[0;34m[\u001b[0m\u001b[0;36m2\u001b[0m\u001b[0;34m]\u001b[0m \u001b[0;34m=\u001b[0m \u001b[0;36m100\u001b[0m \u001b[0;31m#will get TypeError\u001b[0m\u001b[0;34m\u001b[0m\u001b[0;34m\u001b[0m\u001b[0m\n\u001b[0m",
            "\u001b[0;31mTypeError\u001b[0m: 'tuple' object does not support item assignment"
          ]
        }
      ],
      "source": [
        "#creating tuple\n",
        "t1 = (1, 2, 3, 4, [5, 6, 7])\n",
        "\n",
        "t1[2] = 100 #will get TypeError"
      ]
    },
    {
      "cell_type": "code",
      "execution_count": 22,
      "metadata": {
        "id": "z_fRsFt0p5xA",
        "outputId": "2664132f-8902-4c7e-b095-33248658dd02",
        "colab": {
          "base_uri": "https://localhost:8080/"
        }
      },
      "outputs": [
        {
          "output_type": "stream",
          "name": "stdout",
          "text": [
            "(1, 2, 3, 4, ['ABC', 16, 17])\n"
          ]
        }
      ],
      "source": [
        "t1 = (1, 2, 3, 4, [15, 16, 17])\n",
        "#tuple is immutable\n",
        "#here list is part of tuple\n",
        "# try to update the list in tuple\n",
        "t1[4][0] = 'ABC'\n",
        "print(t1)"
      ]
    },
    {
      "cell_type": "code",
      "execution_count": 23,
      "metadata": {
        "id": "IZ1BXNDKp5xC",
        "outputId": "1447c360-899f-4e91-87b5-81c809f66335",
        "colab": {
          "base_uri": "https://localhost:8080/"
        }
      },
      "outputs": [
        {
          "output_type": "stream",
          "name": "stdout",
          "text": [
            "(11, 12, 13, 14, 15, 16)\n"
          ]
        }
      ],
      "source": [
        "#concatinating tuples\n",
        "\n",
        "t1 = (11, 12, 13) + (14, 15, 16)\n",
        "print(t1)"
      ]
    },
    {
      "cell_type": "code",
      "execution_count": 25,
      "metadata": {
        "id": "e7SYaQySp5xO",
        "outputId": "88ce8cfd-afb5-4a3d-bb81-21d2f7b6493a",
        "colab": {
          "base_uri": "https://localhost:8080/"
        }
      },
      "outputs": [
        {
          "output_type": "stream",
          "name": "stdout",
          "text": [
            "('abc', 'abc', 'abc', 'abc')\n"
          ]
        }
      ],
      "source": [
        "#repeat the elements in a tuple for a given number of times using the * operator.\n",
        "t1 = (('abc', ) * 4)\n",
        "print(t1)"
      ]
    },
    {
      "cell_type": "markdown",
      "metadata": {
        "id": "NlmqcamIp5xP"
      },
      "source": [
        "# Tuple Deletion"
      ]
    },
    {
      "cell_type": "code",
      "execution_count": 17,
      "metadata": {
        "collapsed": true,
        "id": "sLVcLJP6p5xQ"
      },
      "outputs": [],
      "source": [
        "# Tuples are immutable, cannot change the elements in a tuple. \n",
        "# which means, cannot delete or remove items from a tuple.\n",
        "\n",
        "#delete entire tuple using del keyword\n",
        "t = (1, 2, 3, 4, 5, 6)\n",
        "\n",
        "#delete entire tuple\n",
        "del t\n",
        "\n"
      ]
    },
    {
      "cell_type": "markdown",
      "metadata": {
        "id": "80fL-px9p5xR"
      },
      "source": [
        "# Tuple Count"
      ]
    },
    {
      "cell_type": "code",
      "execution_count": 26,
      "metadata": {
        "id": "s4bvKWJOp5xS",
        "outputId": "bc189071-eeb1-4177-83a7-e150a3ecba83",
        "colab": {
          "base_uri": "https://localhost:8080/"
        }
      },
      "outputs": [
        {
          "output_type": "execute_result",
          "data": {
            "text/plain": [
              "9"
            ]
          },
          "metadata": {},
          "execution_count": 26
        }
      ],
      "source": [
        "t1 = (1, 2, 3, 1, 3, 3, 4, 1,1,1,2,1,1,1,2,3,1)\n",
        "\n",
        "#get the frequency of particular element appears in a tuple\n",
        "t1.count(1)"
      ]
    },
    {
      "cell_type": "markdown",
      "metadata": {
        "id": "jiZCbN3Hp5xT"
      },
      "source": [
        "# Tuple Index"
      ]
    },
    {
      "cell_type": "code",
      "execution_count": 29,
      "metadata": {
        "id": "7GG3n2O-p5xU",
        "outputId": "2489d72e-3510-4353-a499-e1f601766cd2",
        "colab": {
          "base_uri": "https://localhost:8080/"
        }
      },
      "outputs": [
        {
          "output_type": "stream",
          "name": "stdout",
          "text": [
            "2\n",
            "0\n"
          ]
        }
      ],
      "source": [
        "t1 = (11, 12, 13, 11, 13, 13, 14, 11)\n",
        "\n",
        "print(t1.index(13)) #return index of the first element is equal to 13\n",
        "\n",
        "#print index of the 11\n",
        "print(t1.index(11)) #return index of the first element is equal to 11\n",
        "\n"
      ]
    },
    {
      "cell_type": "markdown",
      "metadata": {
        "id": "Ogs_2RuFp5xV"
      },
      "source": [
        "# Tuple Memebership "
      ]
    },
    {
      "cell_type": "code",
      "execution_count": 32,
      "metadata": {
        "id": "xPA-0X-Bp5xW",
        "outputId": "a696e68b-4573-4a2b-910f-216bcb9ad167",
        "colab": {
          "base_uri": "https://localhost:8080/"
        }
      },
      "outputs": [
        {
          "output_type": "stream",
          "name": "stdout",
          "text": [
            "True\n"
          ]
        }
      ],
      "source": [
        "#test if an item exists in a tuple or not, using the keyword in.\n",
        "t1 = range(20)\n",
        "\n",
        "print(11 in t1)"
      ]
    },
    {
      "cell_type": "code",
      "execution_count": 34,
      "metadata": {
        "id": "snVPYW86p5xc",
        "outputId": "80430feb-ffd9-49bf-c3e5-82d538b348bb",
        "colab": {
          "base_uri": "https://localhost:8080/"
        }
      },
      "outputs": [
        {
          "output_type": "stream",
          "name": "stdout",
          "text": [
            "True\n",
            "False\n"
          ]
        }
      ],
      "source": [
        "print(7 in t1)\n",
        "\n",
        "print(37 in t1)"
      ]
    },
    {
      "cell_type": "markdown",
      "metadata": {
        "id": "sP5U1SBbp5xd"
      },
      "source": [
        "# Built in Functions"
      ]
    },
    {
      "cell_type": "markdown",
      "metadata": {
        "id": "J8ky6aB6p5xe"
      },
      "source": [
        "# Tuple Length"
      ]
    },
    {
      "cell_type": "code",
      "execution_count": 35,
      "metadata": {
        "id": "EYi6AhS0p5xe",
        "outputId": "1d1037fd-c932-4ea8-f44f-3f8499751def",
        "colab": {
          "base_uri": "https://localhost:8080/"
        }
      },
      "outputs": [
        {
          "output_type": "stream",
          "name": "stdout",
          "text": [
            "9\n"
          ]
        }
      ],
      "source": [
        "t1 = (11, 12, 13, 14, 15, 16,17,18,19)\n",
        "print(len(t1))"
      ]
    },
    {
      "cell_type": "markdown",
      "metadata": {
        "id": "wGVfv9iXp5xf"
      },
      "source": [
        "# Tuple Sort"
      ]
    },
    {
      "cell_type": "code",
      "execution_count": 38,
      "metadata": {
        "id": "SBzHAtUip5xf",
        "outputId": "4ffed9f4-88e5-4b18-aeb1-968a8ecb4644",
        "colab": {
          "base_uri": "https://localhost:8080/"
        }
      },
      "outputs": [
        {
          "output_type": "stream",
          "name": "stdout",
          "text": [
            "[1, 2, 3, 4, 5]\n"
          ]
        }
      ],
      "source": [
        "t1 = (4, 5, 1, 2, 3)\n",
        "\n",
        "new_t1 = sorted(t1)\n",
        "print(new_t1) #Take elements in the tuple and return a new sorted list \n",
        "             #(does not sort the tuple itself)."
      ]
    },
    {
      "cell_type": "code",
      "execution_count": 40,
      "metadata": {
        "id": "4j6hGkmop5xg",
        "outputId": "5b000357-72a2-43ca-f0bc-5f9439fe5896",
        "colab": {
          "base_uri": "https://localhost:8080/"
        }
      },
      "outputs": [
        {
          "output_type": "stream",
          "name": "stdout",
          "text": [
            "9\n"
          ]
        }
      ],
      "source": [
        "#get the largest element in a tuple\n",
        "t1 = (2, 5, 1, 6, 9)\n",
        "\n",
        "print(max(t1))"
      ]
    },
    {
      "cell_type": "code",
      "execution_count": 41,
      "metadata": {
        "id": "m0p4HqjLp5xh",
        "outputId": "ad1612b5-1b76-42a5-9145-9f6bce3848d7",
        "colab": {
          "base_uri": "https://localhost:8080/"
        }
      },
      "outputs": [
        {
          "output_type": "stream",
          "name": "stdout",
          "text": [
            "1\n"
          ]
        }
      ],
      "source": [
        "#get the smallest element in a tuple\n",
        "print(min(t1))"
      ]
    },
    {
      "cell_type": "code",
      "execution_count": 42,
      "metadata": {
        "id": "R-NIauayp5xi",
        "outputId": "903f76fe-dc9d-4dd3-e986-6d84b7cf2669",
        "colab": {
          "base_uri": "https://localhost:8080/"
        }
      },
      "outputs": [
        {
          "output_type": "stream",
          "name": "stdout",
          "text": [
            "23\n"
          ]
        }
      ],
      "source": [
        "#get sum of elments in the tuple\n",
        "print(sum(t1))"
      ]
    }
  ],
  "metadata": {
    "kernelspec": {
      "display_name": "Python 3",
      "language": "python",
      "name": "python3"
    },
    "language_info": {
      "codemirror_mode": {
        "name": "ipython",
        "version": 3
      },
      "file_extension": ".py",
      "mimetype": "text/x-python",
      "name": "python",
      "nbconvert_exporter": "python",
      "pygments_lexer": "ipython3",
      "version": "3.6.1"
    },
    "colab": {
      "name": "P_tuples.ipynb",
      "provenance": [],
      "collapsed_sections": [],
      "include_colab_link": true
    }
  },
  "nbformat": 4,
  "nbformat_minor": 0
}