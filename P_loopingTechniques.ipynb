{
  "nbformat": 4,
  "nbformat_minor": 0,
  "metadata": {
    "colab": {
      "name": "P_loopingTechniques.ipynb",
      "provenance": [],
      "authorship_tag": "ABX9TyPrbuVslU0OobT9AdrjEDam",
      "include_colab_link": true
    },
    "kernelspec": {
      "name": "python3",
      "display_name": "Python 3"
    },
    "language_info": {
      "name": "python"
    }
  },
  "cells": [
    {
      "cell_type": "markdown",
      "metadata": {
        "id": "view-in-github",
        "colab_type": "text"
      },
      "source": [
        "<a href=\"https://colab.research.google.com/github/kondasreenu/Python_Fundamentals/blob/main/P_loopingTechniques.ipynb\" target=\"_parent\"><img src=\"https://colab.research.google.com/assets/colab-badge.svg\" alt=\"Open In Colab\"/></a>"
      ]
    },
    {
      "cell_type": "markdown",
      "source": [
        "#Looping Techniques\n",
        "\n",
        "**Dictionaries:** Retrieving the key and corresponding value using items()"
      ],
      "metadata": {
        "id": "NoytSldsiSI5"
      }
    },
    {
      "cell_type": "code",
      "execution_count": 3,
      "metadata": {
        "colab": {
          "base_uri": "https://localhost:8080/"
        },
        "id": "vDciPVyuhypQ",
        "outputId": "618c5a10-14ee-4644-90cf-66dafc0ed403"
      },
      "outputs": [
        {
          "output_type": "stream",
          "name": "stdout",
          "text": [
            "Telangana  --- Hyderabad\n",
            "Andhrapradesh  --- Amaravathi\n"
          ]
        }
      ],
      "source": [
        "statecapitals = {'Telangana': 'Hyderabad', 'Andhrapradesh': 'Amaravathi'}\n",
        "for s, c in statecapitals.items():\n",
        "  print(s,\" ---\", c)\n"
      ]
    },
    {
      "cell_type": "markdown",
      "source": [
        "#enumerate() function\n",
        "**sequence:** When looping through a sequence, the position index and corresponding value can be retrieved at the same time using the enumerate() function."
      ],
      "metadata": {
        "id": "0p6vtodVixri"
      }
    },
    {
      "cell_type": "code",
      "source": [
        "for i, v in enumerate(['tic', 'tac', 'toe']):\n",
        "  print(i, v)"
      ],
      "metadata": {
        "colab": {
          "base_uri": "https://localhost:8080/"
        },
        "id": "fa16aiXBiN4L",
        "outputId": "a3d1d3d6-0322-4f03-83b1-01d1a2d61695"
      },
      "execution_count": 4,
      "outputs": [
        {
          "output_type": "stream",
          "name": "stdout",
          "text": [
            "0 tic\n",
            "1 tac\n",
            "2 toe\n"
          ]
        }
      ]
    },
    {
      "cell_type": "markdown",
      "source": [
        "#**zip() function**\n",
        "To loop over two or more sequences at the same time, the entries can be paired with the zip() function."
      ],
      "metadata": {
        "id": "XoIxaBs2jVIs"
      }
    },
    {
      "cell_type": "code",
      "source": [
        "questions = ['name', 'age', 'favorite color']\n",
        "\n",
        "answers = ['ABC', 35, 'blue']\n",
        "\n",
        "for q, a in zip(questions, answers):\n",
        "  print('What is your {0}?  It is {1}.'.format(q, a))"
      ],
      "metadata": {
        "colab": {
          "base_uri": "https://localhost:8080/"
        },
        "id": "Xqd--IvyjT6j",
        "outputId": "05ab6548-a398-41e2-de66-877cfb2ab431"
      },
      "execution_count": 5,
      "outputs": [
        {
          "output_type": "stream",
          "name": "stdout",
          "text": [
            "What is your name?  It is ABC.\n",
            "What is your age?  It is 35.\n",
            "What is your favorite color?  It is blue.\n"
          ]
        }
      ]
    },
    {
      "cell_type": "markdown",
      "source": [
        "#**reversed() function**\n",
        "\n",
        "To loop over a sequence in reverse, first specify the sequence in a forward direction and then call the reversed() function.\n",
        "\n"
      ],
      "metadata": {
        "id": "U-kN-V-djyVs"
      }
    },
    {
      "cell_type": "code",
      "source": [
        "for i in reversed(range(1, 20, 3)):\n",
        "  print(i)"
      ],
      "metadata": {
        "colab": {
          "base_uri": "https://localhost:8080/"
        },
        "id": "yKOaNstij-Cl",
        "outputId": "7315e6b2-64b0-4809-cb95-dda05ece7c5a"
      },
      "execution_count": 6,
      "outputs": [
        {
          "output_type": "stream",
          "name": "stdout",
          "text": [
            "19\n",
            "16\n",
            "13\n",
            "10\n",
            "7\n",
            "4\n",
            "1\n"
          ]
        }
      ]
    },
    {
      "cell_type": "markdown",
      "source": [
        "#**sorted() function**\n",
        "\n",
        "To loop over a sequence in sorted order, use the sorted() function which returns a new sorted list while leaving the source unaltered."
      ],
      "metadata": {
        "id": "NQ8FrJm8kG4c"
      }
    },
    {
      "cell_type": "code",
      "source": [
        "basket = ['apple', 'orange', 'apple', 'pear', 'orange', 'banana']\n",
        "\n",
        "for i in sorted(basket):\n",
        "  print(i)"
      ],
      "metadata": {
        "colab": {
          "base_uri": "https://localhost:8080/"
        },
        "id": "eFvybNP5kPmX",
        "outputId": "6c992b69-6230-43a1-8550-18bba0406f58"
      },
      "execution_count": 7,
      "outputs": [
        {
          "output_type": "stream",
          "name": "stdout",
          "text": [
            "apple\n",
            "apple\n",
            "banana\n",
            "orange\n",
            "orange\n",
            "pear\n"
          ]
        }
      ]
    },
    {
      "cell_type": "code",
      "source": [
        "basket = ['apple', 'orange', 'apple', 'pear', 'orange', 'banana']\n",
        "\n",
        "for i in sorted(set(basket)): #Using set() on a sequence eliminates duplicate elements.\n",
        "  print(i)"
      ],
      "metadata": {
        "colab": {
          "base_uri": "https://localhost:8080/"
        },
        "id": "nJ6v8A4RkUVW",
        "outputId": "0a1e9868-d3c7-47c5-ee49-7b24565a059f"
      },
      "execution_count": 9,
      "outputs": [
        {
          "output_type": "stream",
          "name": "stdout",
          "text": [
            "apple\n",
            "banana\n",
            "orange\n",
            "pear\n"
          ]
        }
      ]
    },
    {
      "cell_type": "code",
      "source": [
        "#finding the second largest element in the list\n",
        "n = int(input())\n",
        "arr = []\n",
        "for i in range(n):\n",
        "  arr.append(int(input()))\n",
        "print(arr)\n",
        "\n",
        "\n",
        "s = sorted(set(arr))\n",
        "print(s)\n",
        "\n",
        "print(s[-2])\n",
        "    "
      ],
      "metadata": {
        "colab": {
          "base_uri": "https://localhost:8080/"
        },
        "id": "h1h0qUDPlVUT",
        "outputId": "7f088c97-08af-4a9b-f98a-5e8f10fbe1c8"
      },
      "execution_count": 14,
      "outputs": [
        {
          "output_type": "stream",
          "name": "stdout",
          "text": [
            "5\n",
            "2\n",
            "3\n",
            "6\n",
            "6\n",
            "5\n",
            "[2, 3, 6, 6, 5]\n",
            "[2, 3, 5, 6]\n",
            "5\n"
          ]
        }
      ]
    }
  ]
}