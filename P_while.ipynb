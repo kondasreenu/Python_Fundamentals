{
  "nbformat": 4,
  "nbformat_minor": 0,
  "metadata": {
    "colab": {
      "name": "P_while.ipynb",
      "provenance": [],
      "authorship_tag": "ABX9TyMCDXxnu0fKG7lbOsOeDg1D",
      "include_colab_link": true
    },
    "kernelspec": {
      "name": "python3",
      "display_name": "Python 3"
    },
    "language_info": {
      "name": "python"
    }
  },
  "cells": [
    {
      "cell_type": "markdown",
      "metadata": {
        "id": "view-in-github",
        "colab_type": "text"
      },
      "source": [
        "<a href=\"https://colab.research.google.com/github/kondasreenu/Python_Fundamentals/blob/main/P_while.ipynb\" target=\"_parent\"><img src=\"https://colab.research.google.com/assets/colab-badge.svg\" alt=\"Open In Colab\"/></a>"
      ]
    },
    {
      "cell_type": "markdown",
      "source": [
        "**#Control flow: while loop**\n",
        "\n",
        "*   The while loop in Python is used to iterate over a block of code as long as the test expression (condition) is true. \n",
        "*   Use while loop when we don't know the number of times to iterate beforehand\n",
        "*   Python interprets any non-zero value as True. \n",
        "*   None and 0 are interpreted as False\n",
        "\n",
        "**Syntax:**\n",
        "\n",
        "while test_expression:\n",
        "\n",
        "      Body of while\n",
        "\n"
      ],
      "metadata": {
        "id": "gVKkwDRZAwaD"
      }
    },
    {
      "cell_type": "code",
      "source": [
        "#Program to find sum of first n numbers\n",
        "n = int(input(\"Enter n\"))\n",
        "i = 1\n",
        "sum = 0\n",
        "while(i <= n):\n",
        "    sum += i\n",
        "    i += 1\n",
        "print(\"sum of first \" +str(n) + \" numbers = \", str(sum))\n"
      ],
      "metadata": {
        "colab": {
          "base_uri": "https://localhost:8080/"
        },
        "id": "0REzU7yEBanf",
        "outputId": "3c8b34ad-91f9-4238-feef-51151dee082c"
      },
      "execution_count": 1,
      "outputs": [
        {
          "output_type": "stream",
          "name": "stdout",
          "text": [
            "Enter n10\n",
            "sum of first 10 numbers =  55\n"
          ]
        }
      ]
    },
    {
      "cell_type": "code",
      "source": [
        "#Program to find sum of elements in a list\n",
        "lst = [10,20,30,40,50]\n",
        "i = 0\n",
        "sum = 0\n",
        "while i < len(lst):\n",
        "    sum += lst[i]\n",
        "    i += 1\n",
        "print(\"sum of list elements \", str(sum))"
      ],
      "metadata": {
        "colab": {
          "base_uri": "https://localhost:8080/"
        },
        "id": "mEYJt-wQB6bM",
        "outputId": "a32f5952-68bb-4fe3-a684-89e392b45664"
      },
      "execution_count": 7,
      "outputs": [
        {
          "output_type": "stream",
          "name": "stdout",
          "text": [
            "sum of list elements  150\n"
          ]
        }
      ]
    },
    {
      "cell_type": "code",
      "source": [
        "#Program to find product of elements in a list\n",
        "lst = [10,20,30,40,50]\n",
        "i = 0\n",
        "product = 1 #intialize value to 1\n",
        "while i < len(lst): \n",
        "    product *= lst[i]\n",
        "    i += 1\n",
        "print(\"Product of list elements \", str(product))"
      ],
      "metadata": {
        "colab": {
          "base_uri": "https://localhost:8080/"
        },
        "id": "DiiJZNjZCvCb",
        "outputId": "745190d8-5cfc-4b62-cf45-bd34600ca968"
      },
      "execution_count": 9,
      "outputs": [
        {
          "output_type": "stream",
          "name": "stdout",
          "text": [
            "Product of list elements  12000000\n"
          ]
        }
      ]
    },
    {
      "cell_type": "markdown",
      "source": [
        "**#while loops can also have an optional else block.**\n",
        "\n",
        "The else part is executed if the condition in the while loop evaluates to False.\n",
        "\n",
        "The while loop can be terminated with a break statement. \n",
        "\n",
        "In such cases, the else part is ignored. \n",
        "\n",
        "Hence, a while loop's else part runs if no break occurs and the condition is false.\n",
        "\n",
        "\n",
        "Syntax:\n",
        "\n",
        "while test_expression:\n",
        "\n",
        "    Body of while\n",
        "else:\n",
        "  Body of else"
      ],
      "metadata": {
        "id": "jlSk4pcoDQWW"
      }
    },
    {
      "cell_type": "code",
      "source": [
        "#while loop with else block\n",
        "counter = 0\n",
        "while counter < 3:\n",
        "  print(\"Inside loop \"+ str(counter))\n",
        "  counter = counter + 1\n",
        "else:\n",
        "  print(\"Inside else \" + str(counter)) #observe the output of 4th line"
      ],
      "metadata": {
        "colab": {
          "base_uri": "https://localhost:8080/"
        },
        "id": "BfE5R2eiDjw5",
        "outputId": "2319b35a-b158-43f1-cc3b-cec9863fdbe3"
      },
      "execution_count": 11,
      "outputs": [
        {
          "output_type": "stream",
          "name": "stdout",
          "text": [
            "Inside loop 0\n",
            "Inside loop 1\n",
            "Inside loop 2\n",
            "Inside else 3\n"
          ]
        }
      ]
    },
    {
      "cell_type": "code",
      "source": [
        "#while loop with else block and break statement\n",
        "#The while loop can be terminated with a break statement.\n",
        "#In such cases, the else part is ignored.\n",
        "counter = 0\n",
        "while counter < 3:\n",
        "  print(\"Inside loop \"+ str(counter))\n",
        "  if(counter == 2):\n",
        "    break\n",
        "  counter = counter + 1\n",
        "else:\n",
        "  print(\"Inside else \" + str(counter)) #observe the output with previous code"
      ],
      "metadata": {
        "colab": {
          "base_uri": "https://localhost:8080/"
        },
        "outputId": "2cc92409-6a6c-4f53-82a3-e2ec408c2042",
        "id": "5E1LZxC7D3hN"
      },
      "execution_count": 12,
      "outputs": [
        {
          "output_type": "stream",
          "name": "stdout",
          "text": [
            "Inside loop 0\n",
            "Inside loop 1\n",
            "Inside loop 2\n"
          ]
        }
      ]
    }
  ]
}