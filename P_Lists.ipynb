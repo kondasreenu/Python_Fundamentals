{
  "nbformat": 4,
  "nbformat_minor": 0,
  "metadata": {
    "colab": {
      "name": "P_Lists.ipynb",
      "provenance": [],
      "authorship_tag": "ABX9TyMB2voZ8qXDMlSUITRorItU",
      "include_colab_link": true
    },
    "kernelspec": {
      "name": "python3",
      "display_name": "Python 3"
    },
    "language_info": {
      "name": "python"
    }
  },
  "cells": [
    {
      "cell_type": "markdown",
      "metadata": {
        "id": "view-in-github",
        "colab_type": "text"
      },
      "source": [
        "<a href=\"https://colab.research.google.com/github/kondasreenu/Python_Fundamentals/blob/main/P_Lists.ipynb\" target=\"_parent\"><img src=\"https://colab.research.google.com/assets/colab-badge.svg\" alt=\"Open In Colab\"/></a>"
      ]
    },
    {
      "cell_type": "markdown",
      "source": [
        "**#Lists**\n",
        "\n",
        "**Data Structure:**\n",
        "A Data Structure is a collection of data elements that is structured in someway.\n",
        "\n",
        "The most basic structure in Python is **\"Sequence\"**\n",
        "\n",
        "List is one of the Sequence Data Structure\n",
        "\n",
        "A list is a value that contains multiple values in an ordered sequence.\n",
        "\n",
        "List begins with an opening square bracket and ends with a closing square bracket, [].\n",
        "\n",
        "Values inside the list are also called items. Items are separated with commas (that is, they are comma-delimited).\n",
        "\n",
        "\n",
        "Each item in the list has an assigned a index value.\n",
        "\n",
        "**Mutable and Immutable Data Types**\n",
        "\n",
        "A list value is a mutable data type: it can have values added, removed, or changed. However, a string is immutable: it cannot be changed. Trying to reassign a single character in a string results in a TypeError error"
      ],
      "metadata": {
        "id": "vscL2OWgxA4x"
      }
    },
    {
      "cell_type": "markdown",
      "source": [
        "**List Creation**"
      ],
      "metadata": {
        "id": "s6WC86TNyW_v"
      }
    },
    {
      "cell_type": "code",
      "source": [
        "emptylst = []\n",
        "print(emptylst) #empty llist\n",
        "\n",
        "lst = ['one', 'two', 'three', 'four'] # list of strings ' ' or \" \"\n",
        "print(lst)\n",
        "\n",
        "lst2 = [1, 2, 3, 4] #list of integers\n",
        "print(lst2)\n",
        "lst3 = [[1, 2], [3, 4]] # list of lists\n",
        "print(lst3)\n",
        "lst4 = [1, 'rama', True, 1.24] # list of different datatypes\n",
        "print(lst4)"
      ],
      "metadata": {
        "colab": {
          "base_uri": "https://localhost:8080/"
        },
        "id": "947sSya3yY_4",
        "outputId": "76498eb8-bda0-4f68-8c11-a40f918d6559"
      },
      "execution_count": 1,
      "outputs": [
        {
          "output_type": "stream",
          "name": "stdout",
          "text": [
            "[]\n",
            "['one', 'two', 'three', 'four']\n",
            "[1, 2, 3, 4]\n",
            "[[1, 2], [3, 4]]\n",
            "[1, 'rama', True, 1.24]\n"
          ]
        }
      ]
    },
    {
      "cell_type": "markdown",
      "source": [
        "**List Length** : \n",
        "len()"
      ],
      "metadata": {
        "id": "frI4L0fhy4bl"
      }
    },
    {
      "cell_type": "code",
      "source": [
        "lst4 = [1, 'rama', True, 1.24]\n",
        "\n",
        "print(\"Lenth\",len(lst4))\n",
        "\n",
        "lst3 = [[1, 2], [3, 4]] # list of lists\n",
        "print(\"Lenth\",len(lst3))"
      ],
      "metadata": {
        "colab": {
          "base_uri": "https://localhost:8080/"
        },
        "id": "32wtjv9_zCSa",
        "outputId": "52271a16-bf11-4f76-8518-42a7c9be97f5"
      },
      "execution_count": 2,
      "outputs": [
        {
          "output_type": "stream",
          "name": "stdout",
          "text": [
            "Lenth 4\n",
            "Lenth 2\n"
          ]
        }
      ]
    },
    {
      "cell_type": "markdown",
      "source": [
        "**List Append and insert** : \n",
        "append() \n",
        "\n",
        "The append() and insert() methods are list methods and can be called only on list values, not on other values such as strings or integers.\n",
        "\n",
        "To add new values to a list, use the append() and insert() methods.\n",
        "\n",
        "append() --adds the argument to the end of the list.\n",
        "\n",
        "The insert() method can insert a value at any index in the list.\n",
        "\n",
        "The first argument to insert() is the index for the new value, and the second argument is the new value to be inserted."
      ],
      "metadata": {
        "id": "GPBvophLzVAT"
      }
    },
    {
      "cell_type": "code",
      "source": [
        "lst = ['one', 'two', 'three', 'four']\n",
        "\n",
        "lst.append('five') # append will add the item at the end\n",
        "\n",
        "print(lst)"
      ],
      "metadata": {
        "colab": {
          "base_uri": "https://localhost:8080/"
        },
        "id": "aSpD74HWzl82",
        "outputId": "65d3b955-6f9b-42c1-b186-3891b213deb2"
      },
      "execution_count": 3,
      "outputs": [
        {
          "output_type": "stream",
          "name": "stdout",
          "text": [
            "['one', 'two', 'three', 'four', 'five']\n"
          ]
        }
      ]
    },
    {
      "cell_type": "markdown",
      "source": [
        "**List Insert**\n",
        "\n",
        "#syntax: listname.insert(location, element) \n",
        "\n",
        "Element will be added at location"
      ],
      "metadata": {
        "id": "lqYAJFSIzstt"
      }
    },
    {
      "cell_type": "code",
      "source": [
        "lst = ['one', 'two', 'four']\n",
        "\n",
        "lst.insert(2, \"three\") # will add element y at location x\n",
        "\n",
        "print(lst)\n"
      ],
      "metadata": {
        "colab": {
          "base_uri": "https://localhost:8080/"
        },
        "id": "SMU5V1Xz0BIF",
        "outputId": "d3761e64-fdf3-4a3c-bc2f-30752eb54b4e"
      },
      "execution_count": 4,
      "outputs": [
        {
          "output_type": "stream",
          "name": "stdout",
          "text": [
            "['one', 'two', 'three', 'four']\n"
          ]
        }
      ]
    },
    {
      "cell_type": "code",
      "source": [
        "lst = ['one', 'two', 'four']\n",
        "\n",
        "lst.insert(2, \"twotwo\") # will add element y at location x\n",
        "\n",
        "print(lst)\n"
      ],
      "metadata": {
        "colab": {
          "base_uri": "https://localhost:8080/"
        },
        "id": "5SoxBt8W0EY6",
        "outputId": "048d5426-44be-406e-9823-898488f42b7f"
      },
      "execution_count": 11,
      "outputs": [
        {
          "output_type": "stream",
          "name": "stdout",
          "text": [
            "['one', 'two', 'twotwo', 'four']\n"
          ]
        }
      ]
    },
    {
      "cell_type": "code",
      "source": [
        "lst = ['one', 'two', 'four']\n",
        "\n",
        "lst.insert(-1, \"end\") # will add element y at location x\n",
        "\n",
        "print(lst)\n"
      ],
      "metadata": {
        "colab": {
          "base_uri": "https://localhost:8080/"
        },
        "id": "7c7Ny4L61KWZ",
        "outputId": "a880c4eb-f6a4-4934-cce4-2eb45bdb3595"
      },
      "execution_count": 12,
      "outputs": [
        {
          "output_type": "stream",
          "name": "stdout",
          "text": [
            "['one', 'two', 'end', 'four']\n"
          ]
        }
      ]
    },
    {
      "cell_type": "code",
      "source": [
        "lst = ['one', 'two', 'four']\n",
        "\n",
        "lst.insert(:, \"end\") # will add element y at location x\n",
        "\n",
        "print(lst)"
      ],
      "metadata": {
        "colab": {
          "base_uri": "https://localhost:8080/",
          "height": 130
        },
        "id": "p4R8c6Nb1SCS",
        "outputId": "3d9c6477-ccfc-4919-e984-a2a4d356b469"
      },
      "execution_count": 13,
      "outputs": [
        {
          "output_type": "error",
          "ename": "SyntaxError",
          "evalue": "ignored",
          "traceback": [
            "\u001b[0;36m  File \u001b[0;32m\"<ipython-input-13-4d82f9e32000>\"\u001b[0;36m, line \u001b[0;32m3\u001b[0m\n\u001b[0;31m    lst.insert(:, \"end\") # will add element y at location x\u001b[0m\n\u001b[0m               ^\u001b[0m\n\u001b[0;31mSyntaxError\u001b[0m\u001b[0;31m:\u001b[0m invalid syntax\n"
          ]
        }
      ]
    },
    {
      "cell_type": "code",
      "source": [
        "lst = ['one', 'two', 'four']\n",
        "\n",
        "lst.insert(3, \"end\") # will add element y at location x\n",
        "\n",
        "print(lst)"
      ],
      "metadata": {
        "colab": {
          "base_uri": "https://localhost:8080/"
        },
        "id": "pgwcgOYc1XbK",
        "outputId": "4f84a48d-bf4e-4c58-c3d2-849a8b97c745"
      },
      "execution_count": 14,
      "outputs": [
        {
          "output_type": "stream",
          "name": "stdout",
          "text": [
            "['one', 'two', 'four', 'end']\n"
          ]
        }
      ]
    },
    {
      "cell_type": "code",
      "source": [
        "lst = ['one', 'two', 'four']\n",
        "\n",
        "lst.insert(4, \"end\") # if location is >= len, item will be added at the end\n",
        "\n",
        "print(lst)"
      ],
      "metadata": {
        "colab": {
          "base_uri": "https://localhost:8080/"
        },
        "id": "6hVR-7-Q1bm6",
        "outputId": "a884538f-18e7-4e29-f968-56d8d4b8b4db"
      },
      "execution_count": 15,
      "outputs": [
        {
          "output_type": "stream",
          "name": "stdout",
          "text": [
            "['one', 'two', 'four', 'end']\n"
          ]
        }
      ]
    },
    {
      "cell_type": "code",
      "source": [
        "lst = ['one', 'two', 'four']\n",
        "\n",
        "lst.insert(10, \"end\") # if location is >= len, item will be added at the end\n",
        "\n",
        "print(lst)"
      ],
      "metadata": {
        "colab": {
          "base_uri": "https://localhost:8080/"
        },
        "id": "2E5pXYo31m8p",
        "outputId": "984e85b5-4528-49d6-f7e7-c63c03030645"
      },
      "execution_count": 16,
      "outputs": [
        {
          "output_type": "stream",
          "name": "stdout",
          "text": [
            "['one', 'two', 'four', 'end']\n"
          ]
        }
      ]
    },
    {
      "cell_type": "code",
      "source": [
        "lst = ['one', 'two', 'four']\n",
        "\n",
        "lst.insert(-3, \"end\") # if location is <= -len, item will be added at the begining\n",
        "\n",
        "print(lst)"
      ],
      "metadata": {
        "colab": {
          "base_uri": "https://localhost:8080/"
        },
        "id": "HFH_uTRl1rgn",
        "outputId": "8eda1177-07d8-4d9b-e668-b2d93773fdab"
      },
      "execution_count": 21,
      "outputs": [
        {
          "output_type": "stream",
          "name": "stdout",
          "text": [
            "['end', 'one', 'two', 'four']\n"
          ]
        }
      ]
    },
    {
      "cell_type": "markdown",
      "source": [
        "**List Remove**\n",
        "\n",
        "#syntax: lst.remove(x) \n",
        "\n",
        "The remove() method is passed the value to be removed from the list it is called on.\n",
        "\n",
        "If the value appears multiple times in the list, only the first instance of the value will be removed."
      ],
      "metadata": {
        "id": "TCy3KU292Frv"
      }
    },
    {
      "cell_type": "code",
      "source": [
        "s = ['cat', 'chicken', 'dog', 'bat']\n",
        "\n",
        "s.remove('bat')\n",
        "\n",
        "print(s)\n"
      ],
      "metadata": {
        "colab": {
          "base_uri": "https://localhost:8080/"
        },
        "id": "z2cdEnzG2tZ-",
        "outputId": "8169cd78-2da7-4ab2-e08c-bf4b60a83993"
      },
      "execution_count": 24,
      "outputs": [
        {
          "output_type": "stream",
          "name": "stdout",
          "text": [
            "['cat', 'chicken', 'dog']\n"
          ]
        }
      ]
    },
    {
      "cell_type": "code",
      "source": [
        "lst = ['one', 'two', 'three', 'four', 'two']\n",
        "\n",
        "lst.remove('two') #it will remove first occurence of 'two' in a given list\n",
        "\n",
        "print(lst)"
      ],
      "metadata": {
        "colab": {
          "base_uri": "https://localhost:8080/"
        },
        "id": "7AOXTZtK3ctf",
        "outputId": "29a67346-821b-4c36-bce7-45030e1d9372"
      },
      "execution_count": 28,
      "outputs": [
        {
          "output_type": "stream",
          "name": "stdout",
          "text": [
            "['one', 'three', 'four', 'two']\n"
          ]
        }
      ]
    },
    {
      "cell_type": "markdown",
      "source": [
        "**List Append & Extend**\n"
      ],
      "metadata": {
        "id": "ygsGiri425_V"
      }
    },
    {
      "cell_type": "code",
      "source": [
        "lst = ['one', 'two', 'three', 'four']\n",
        "\n",
        "lst2 = ['five', 'six']\n",
        "\n",
        "#append \n",
        "lst.append(lst2) #Sublist is appended at the end\n",
        "\n",
        "print(lst)\n",
        "print(len(lst))"
      ],
      "metadata": {
        "colab": {
          "base_uri": "https://localhost:8080/"
        },
        "id": "xnBxpPXf2-Cv",
        "outputId": "2c1c194b-23a4-46ba-ac66-0aade7ba6669"
      },
      "execution_count": 26,
      "outputs": [
        {
          "output_type": "stream",
          "name": "stdout",
          "text": [
            "['one', 'two', 'three', 'four', ['five', 'six']]\n",
            "5\n"
          ]
        }
      ]
    },
    {
      "cell_type": "code",
      "source": [
        "lst = ['one', 'two', 'three', 'four']\n",
        "\n",
        "lst2 = ['five', 'six']\n",
        "\n",
        "#extend \n",
        "lst.extend(lst2) #items are appended at the end\n",
        "\n",
        "print(lst)\n",
        "print(len(lst))"
      ],
      "metadata": {
        "colab": {
          "base_uri": "https://localhost:8080/"
        },
        "id": "53EGHJfL3IwF",
        "outputId": "4b6ca7aa-aaf0-4ff2-bd22-aa0f6fdd1e5b"
      },
      "execution_count": 27,
      "outputs": [
        {
          "output_type": "stream",
          "name": "stdout",
          "text": [
            "['one', 'two', 'three', 'four', 'five', 'six']\n",
            "6\n"
          ]
        }
      ]
    },
    {
      "cell_type": "markdown",
      "source": [
        "**del**\n",
        "\n",
        "The del statement will delete values at an index in a list.\n",
        "\n",
        "All of the values in the list after the deleted value will be moved up one index."
      ],
      "metadata": {
        "id": "yZiifloT3hwr"
      }
    },
    {
      "cell_type": "code",
      "source": [
        "#del to remove item based on index position\n",
        "\n",
        "lst = ['one', 'two', 'three', 'four', 'five']\n",
        "\n",
        "del lst[1]\n",
        "print(lst)\n",
        "\n",
        "#or we can use pop() method\n",
        "a = lst.pop(1)\n",
        "print(a)\n",
        "\n",
        "print(lst)"
      ],
      "metadata": {
        "colab": {
          "base_uri": "https://localhost:8080/"
        },
        "id": "5G59DcCK3mc1",
        "outputId": "6703160a-9a52-463c-ee8c-025cde4ce4e8"
      },
      "execution_count": 29,
      "outputs": [
        {
          "output_type": "stream",
          "name": "stdout",
          "text": [
            "['one', 'three', 'four', 'five']\n",
            "three\n",
            "['one', 'four', 'five']\n"
          ]
        }
      ]
    },
    {
      "cell_type": "markdown",
      "source": [
        "**del vs remove**\n",
        "\n",
        "The del statement is good to use when you know the index of the value you want to remove from the list. \n",
        "\n",
        "The remove() method is useful when you know the value you want to remove from the list. [First Occurence only]\n"
      ],
      "metadata": {
        "id": "1QVIqHkC36Jt"
      }
    },
    {
      "cell_type": "markdown",
      "source": [
        "**List related keywords in Python**\n",
        "\n",
        "The in and not in Operators\n",
        "\n",
        "Determine whether a value is or isn’t in a list with the in and not in operators."
      ],
      "metadata": {
        "id": "kDuggNPf4iiM"
      }
    },
    {
      "cell_type": "code",
      "source": [
        "#keyword 'in' is used to test if an item is in a list\n",
        "lst = ['one', 'two', 'three', 'four']\n",
        "\n",
        "if 'two' in lst:\n",
        "  print('Data')\n",
        "\n",
        "#keyword 'not' can combined with 'in'\n",
        "if 'six' not in lst:\n",
        "  print('Science')"
      ],
      "metadata": {
        "colab": {
          "base_uri": "https://localhost:8080/"
        },
        "id": "rnuE1rNQ4x3B",
        "outputId": "27d08631-401e-4a53-842b-2f9c6b86abf8"
      },
      "execution_count": 31,
      "outputs": [
        {
          "output_type": "stream",
          "name": "stdout",
          "text": [
            "Data\n",
            "Science\n"
          ]
        }
      ]
    },
    {
      "cell_type": "markdown",
      "source": [
        "**List Reverse**"
      ],
      "metadata": {
        "id": "S69e-Vl34_Sj"
      }
    },
    {
      "cell_type": "code",
      "source": [
        "#reverse is reverses the entire list\n",
        "\n",
        "lst = ['one', 'two', 'three', 'four']\n",
        "\n",
        "lst.reverse()\n",
        "\n",
        "print(lst)"
      ],
      "metadata": {
        "colab": {
          "base_uri": "https://localhost:8080/"
        },
        "id": "kXjz9BPt5BBV",
        "outputId": "1f966024-4217-4538-c68a-36b30df26527"
      },
      "execution_count": 32,
      "outputs": [
        {
          "output_type": "stream",
          "name": "stdout",
          "text": [
            "['four', 'three', 'two', 'one']\n"
          ]
        }
      ]
    },
    {
      "cell_type": "markdown",
      "source": [
        "**List Sorting**\n",
        "\n",
        "**sorted()**\n",
        "\n",
        "The easiest way to sort a List is with the sorted(list) function.\n",
        "\n",
        "That takes a list and returns a new list with those elements in sorted order.\n",
        "\n",
        "The original list is not changed.\n",
        "\n",
        "The sorted() optional argument reverse=True, e.g. sorted(list, reverse=True), makes it sort backwards.\n",
        "\n",
        "\n",
        "**sort()**\n",
        "\n",
        "**sort the list and stored in itself**\n",
        "\n",
        "Three important things for sort()\n",
        "\n",
        "1.\tThe sort() method sorts the list in place; don’t try to capture the return value by writing code like s = s.sort(). \n",
        "\n",
        "2.\tcannot sort lists that have both number values and string values in them, since Python doesn’t know how to compare these values.\n",
        "\n",
        "3.\tsort() uses “ASCIIbetical order” rather than actual alphabetical order for sorting strings. This means uppercase letters come before lowercase letters. Therefore, the lowercase a is sorted so that it comes after the uppercase Z."
      ],
      "metadata": {
        "id": "WIOwTmB_5O7r"
      }
    },
    {
      "cell_type": "code",
      "source": [
        "#create a list with numbers\n",
        "numbers = [3, 1, 6, 2, 8]\n",
        "\n",
        "sorted_lst = sorted(numbers)\n",
        "\n",
        "\n",
        "print(\"Sorted list :\", sorted_lst)\n",
        "\n",
        "#original list remain unchanged\n",
        "print(\"Original list: \", numbers)\n",
        "\n",
        "\n",
        "#print a list in reverse sorted order\n",
        "print(\"Reverse sorted list :\", sorted(numbers, reverse=True))\n",
        "\n",
        "#orginal list remain unchanged\n",
        "print(\"Original list :\",  numbers)"
      ],
      "metadata": {
        "colab": {
          "base_uri": "https://localhost:8080/"
        },
        "id": "cFPVgrO67bM1",
        "outputId": "2589fc8e-ff52-4042-ccd5-07a5b800f148"
      },
      "execution_count": 43,
      "outputs": [
        {
          "output_type": "stream",
          "name": "stdout",
          "text": [
            "Sorted list : [1, 2, 3, 6, 8]\n",
            "Original list:  [3, 1, 6, 2, 8]\n",
            "Reverse sorted list : [8, 6, 3, 2, 1]\n",
            "Original list : [3, 1, 6, 2, 8]\n"
          ]
        }
      ]
    },
    {
      "cell_type": "code",
      "source": [
        "lst = [1, 20, 5, 5, 4.2]\n",
        "\n",
        "#sort the list and stored in itself\n",
        "lst.sort()\n",
        "\n",
        "print(\"Sorted list: \", lst)\n",
        "\n",
        "# add element 'a' to the list to show an error\n",
        "\n",
        "lst.append('a')\n",
        "print(lst)\n",
        "\n",
        "#sort the list after append stored in itself\n",
        "lst.sort()\n",
        "\n",
        "print(\"Sorted list: \", lst)\n"
      ],
      "metadata": {
        "colab": {
          "base_uri": "https://localhost:8080/",
          "height": 269
        },
        "id": "BuhRz3TC7vaE",
        "outputId": "c5c809ed-63bb-42eb-a651-cef7d8aec7de"
      },
      "execution_count": 47,
      "outputs": [
        {
          "output_type": "stream",
          "name": "stdout",
          "text": [
            "Sorted list:  [1, 4.2, 5, 5, 20]\n",
            "[1, 4.2, 5, 5, 20, 'a']\n"
          ]
        },
        {
          "output_type": "error",
          "ename": "TypeError",
          "evalue": "ignored",
          "traceback": [
            "\u001b[0;31m---------------------------------------------------------------------------\u001b[0m",
            "\u001b[0;31mTypeError\u001b[0m                                 Traceback (most recent call last)",
            "\u001b[0;32m<ipython-input-47-0f38f6a2038d>\u001b[0m in \u001b[0;36m<module>\u001b[0;34m()\u001b[0m\n\u001b[1;32m     12\u001b[0m \u001b[0;34m\u001b[0m\u001b[0m\n\u001b[1;32m     13\u001b[0m \u001b[0;31m#sort the list after append stored in itself\u001b[0m\u001b[0;34m\u001b[0m\u001b[0;34m\u001b[0m\u001b[0;34m\u001b[0m\u001b[0m\n\u001b[0;32m---> 14\u001b[0;31m \u001b[0mlst\u001b[0m\u001b[0;34m.\u001b[0m\u001b[0msort\u001b[0m\u001b[0;34m(\u001b[0m\u001b[0;34m)\u001b[0m\u001b[0;34m\u001b[0m\u001b[0;34m\u001b[0m\u001b[0m\n\u001b[0m\u001b[1;32m     15\u001b[0m \u001b[0;34m\u001b[0m\u001b[0m\n\u001b[1;32m     16\u001b[0m \u001b[0mprint\u001b[0m\u001b[0;34m(\u001b[0m\u001b[0;34m\"Sorted list: \"\u001b[0m\u001b[0;34m,\u001b[0m \u001b[0mlst\u001b[0m\u001b[0;34m)\u001b[0m\u001b[0;34m\u001b[0m\u001b[0;34m\u001b[0m\u001b[0m\n",
            "\u001b[0;31mTypeError\u001b[0m: '<' not supported between instances of 'str' and 'int'"
          ]
        }
      ]
    },
    {
      "cell_type": "code",
      "source": [
        "lst = ['one', 'two', 'three', 'four','five', 'six', 'seven', 'eight', 'nine']\n",
        "\n",
        "lst.reverse()\n",
        "\n",
        "print(lst)\n",
        "\n",
        "\n",
        "lst.sort(reverse = False) #alphabetical order from a-z\n",
        "print(lst)\n",
        "\n",
        "lst.sort(reverse = True) #Reverse of alphabetical order from z-a\n",
        "print(lst)\n",
        "\n",
        "\n",
        "lst = ['a', 'A', 'b', 'B','c', 'C']\n",
        "\n",
        "lst.reverse()\n",
        "\n",
        "print(lst)\n",
        "\n",
        "\n",
        "lst.sort(reverse = False) #alphabetical order from a-z, capitals first\n",
        "print(lst)\n",
        "\n",
        "lst.sort(reverse = True) #Reverse of alphabetical order from z-a, lowercase\n",
        "print(lst)\n",
        "\n",
        "\n",
        "\n",
        "lst.sort()\n",
        "print(lst) # Same as lst.sort(reverse = False)"
      ],
      "metadata": {
        "colab": {
          "base_uri": "https://localhost:8080/"
        },
        "id": "7B9hYMxj5dSC",
        "outputId": "0e305f92-b8a4-4c23-f274-860720cc26da"
      },
      "execution_count": 41,
      "outputs": [
        {
          "output_type": "stream",
          "name": "stdout",
          "text": [
            "['nine', 'eight', 'seven', 'six', 'five', 'four', 'three', 'two', 'one']\n",
            "['eight', 'five', 'four', 'nine', 'one', 'seven', 'six', 'three', 'two']\n",
            "['two', 'three', 'six', 'seven', 'one', 'nine', 'four', 'five', 'eight']\n",
            "['C', 'c', 'B', 'b', 'A', 'a']\n",
            "['A', 'B', 'C', 'a', 'b', 'c']\n",
            "['c', 'b', 'a', 'C', 'B', 'A']\n",
            "['A', 'B', 'C', 'a', 'b', 'c']\n"
          ]
        }
      ]
    },
    {
      "cell_type": "code",
      "source": [
        "#To sort the values in regular alphabetical order, pass str.lower for the key keyword argument in the sort() method call.\n",
        "s = ['a', 'z', 'A', 'Z']\n",
        "s.sort(key=str.lower)\n",
        "print(s)\n",
        "\n",
        "\n",
        "lst = ['a', 'A', 'b', 'B','c', 'C']\n",
        "lst.sort(key=str.lower)\n",
        "print(lst)"
      ],
      "metadata": {
        "colab": {
          "base_uri": "https://localhost:8080/"
        },
        "id": "ErACos4z8MOs",
        "outputId": "799ebc76-94d0-4632-fb26-1d2d6e1e3cf6"
      },
      "execution_count": 52,
      "outputs": [
        {
          "output_type": "stream",
          "name": "stdout",
          "text": [
            "['a', 'A', 'z', 'Z']\n",
            "['a', 'A', 'b', 'B', 'c', 'C']\n",
            "['a', 'A', 'b', 'B', 'c', 'C']\n"
          ]
        }
      ]
    },
    {
      "cell_type": "code",
      "source": [
        "#List Having Multiple References\n",
        "\n",
        "lst = [1, 2, 3, 4, 5]\n",
        "abc = lst\n",
        "abc.append(6)\n",
        "\n",
        "#print original list, observer update in list\n",
        "print(\"Original list: \", lst)\n",
        "\n",
        "\n",
        "abc.remove(3)\n",
        "#print original list, observer update in list\n",
        "print(\"Original list: \", lst)"
      ],
      "metadata": {
        "colab": {
          "base_uri": "https://localhost:8080/"
        },
        "id": "cpSzvLi58mPG",
        "outputId": "52060336-7338-4a4c-d10e-c0ae4157b03f"
      },
      "execution_count": 54,
      "outputs": [
        {
          "output_type": "stream",
          "name": "stdout",
          "text": [
            "Original list:  [1, 2, 3, 4, 5, 6]\n",
            "Original list:  [1, 2, 4, 5, 6]\n"
          ]
        }
      ]
    },
    {
      "cell_type": "code",
      "source": [
        "#String Split to create a list\n",
        "\n",
        "#let's take a string\n",
        "\n",
        "s = \"one,two,three,four,five\"\n",
        "slst = s.split(',') # , delimitter, default is whitespace\n",
        "print(slst)\n",
        "\n",
        "\n",
        "s = \"This is a platform to learn Python course\"\n",
        "split_lst = s.split() # default split is white-character: space or tab\n",
        "print(split_lst)"
      ],
      "metadata": {
        "colab": {
          "base_uri": "https://localhost:8080/"
        },
        "id": "ZClbSC4r86BC",
        "outputId": "d7fc707e-9b7d-46f5-9642-7ef54ab294e4"
      },
      "execution_count": 56,
      "outputs": [
        {
          "output_type": "stream",
          "name": "stdout",
          "text": [
            "['one', 'two', 'three', 'four', 'five']\n",
            "['This', 'is', 'a', 'platform', 'to', 'learn', 'Python', 'course']\n"
          ]
        }
      ]
    },
    {
      "cell_type": "code",
      "source": [
        "#List Indexing\n",
        "\"\"\"\n",
        "Each item in the list has an assigned index value starting from 0.\n",
        "\n",
        "Accessing elements in a list is called indexing.\n",
        "\"\"\"\n",
        "\n",
        "lst = [1, 2, 3, 4]\n",
        "print(lst[1]) #print second element\n",
        "\n",
        "#print last element using negative index\n",
        "print(lst[-2])"
      ],
      "metadata": {
        "colab": {
          "base_uri": "https://localhost:8080/"
        },
        "id": "BUj8xZZd9SYq",
        "outputId": "2393d17b-d0c9-4cf0-a324-321f96b8c75d"
      },
      "execution_count": 57,
      "outputs": [
        {
          "output_type": "stream",
          "name": "stdout",
          "text": [
            "2\n",
            "3\n"
          ]
        }
      ]
    },
    {
      "cell_type": "markdown",
      "source": [
        "**List Slicing**\n",
        "\n",
        "Accessing parts of segments is called slicing.\n",
        "\n",
        "The key point to remember is that the :end value represents the first value that is not in the selected slice.\n",
        "\n",
        "Getting a List from Another List with Slices\n",
        "\n",
        "A slice evaluates to a new list value.\n",
        "\n",
        "list1[2] is a list with an index (one integer).\n",
        "\n",
        "list1[1:4] is a list with a slice (two integers).\n",
        "\n",
        "A slice is typed between square brackets, like an index, but it has two integers separated by a colon. \n",
        "\n",
        "In a slice, the first integer is the index where the slice starts. \n",
        "\n",
        "The second integer is the index where the slice ends. \n",
        "\n",
        "A slice goes up to, but will not include, the value at the second index.\n",
        "\n",
        "**Notice the difference between indexes and slices.**\n",
        "\n",
        "\n",
        "list1 = [1,2,3,4,5]\n",
        "\n",
        "print(list1[1:4])  # [2,3,4] slicing\n",
        "\n",
        "print(list1[1:-2])  # [2,3] slicing\n",
        "\n",
        "print(list1[-1]) #5  indexing\n",
        "\n",
        "print(list1[:-1]) #[1, 2, 3, 4]\n",
        "\n",
        "print(list1[:]) #[1, 2, 3, 4, 5]\n",
        "\n",
        "print(list1[0:-1]) # [1, 2, 3, 4]\n",
        "\n",
        "\n",
        "l2 = [[1,2],[3,4],[5,6]]\n",
        "\n",
        "print(l2[1:2])\n",
        "\n",
        "[[3, 4]]\n",
        "\n",
        "print(l2[-1])\n",
        "\n",
        "[5, 6]\n",
        "\n",
        "print(l2[:-1])\n",
        "\n",
        "[[1, 2], [3, 4]]"
      ],
      "metadata": {
        "id": "YCdO-wQv9gIT"
      }
    },
    {
      "cell_type": "code",
      "source": [
        "numbers = [10, 20, 30, 40, 50,60,70,80]\n",
        "\n",
        "#print all numbers\n",
        "print(numbers[:]) \n",
        "\n",
        "#print from index 0 to index 3\n",
        "print(numbers[0:4])"
      ],
      "metadata": {
        "colab": {
          "base_uri": "https://localhost:8080/"
        },
        "id": "9U1RjBja-NQC",
        "outputId": "58de6e87-335a-4d29-c4d7-b924df5b676c"
      },
      "execution_count": 58,
      "outputs": [
        {
          "output_type": "stream",
          "name": "stdout",
          "text": [
            "[10, 20, 30, 40, 50, 60, 70, 80]\n",
            "[10, 20, 30, 40]\n"
          ]
        }
      ]
    },
    {
      "cell_type": "code",
      "source": [
        "numbers = [10, 20, 30, 40, 50,60,70,80]\n",
        "print (numbers)\n",
        "#print alternate elements in a list\n",
        "print(numbers[::2]) #step 2\n",
        "\n",
        "#print elemnts start from 0 through rest of the list\n",
        "print(numbers[0::]) \n",
        "#print elemnts start from index 2 with a step 2\n",
        "print(numbers[2::2])\n"
      ],
      "metadata": {
        "colab": {
          "base_uri": "https://localhost:8080/"
        },
        "id": "2qyvsa8c-YoS",
        "outputId": "68ca7f76-a3c5-4c01-ad6a-dab09198ae43"
      },
      "execution_count": 61,
      "outputs": [
        {
          "output_type": "stream",
          "name": "stdout",
          "text": [
            "[10, 20, 30, 40, 50, 60, 70, 80]\n",
            "[10, 30, 50, 70]\n",
            "[10, 20, 30, 40, 50, 60, 70, 80]\n",
            "[30, 50, 70]\n"
          ]
        }
      ]
    },
    {
      "cell_type": "markdown",
      "source": [
        "List extend using \"+\"\n",
        "\n",
        "lst = ['one', 'two', 'three', 'four']\n",
        "\n",
        "lst2 = ['five', 'six']\n",
        "\n",
        "#extend \n",
        "lst.extend(lst2) #items are appended at the end\n",
        "\n",
        "print(lst)\n",
        "#['one', 'two', 'three', 'four','five', 'six']\n",
        "\n",
        "print(len(lst))\n",
        "#6\n",
        "\n"
      ],
      "metadata": {
        "id": "n8_oXzEY--hi"
      }
    },
    {
      "cell_type": "markdown",
      "source": [
        "**List Concatenation and List Replication**\n",
        "\n",
        "Lists can be concatenated and replicated just like strings. \n",
        "\n",
        "The + operator combines two lists to create a new list value. \n",
        "\n",
        "The * operator can be used with a list and an integer value to replicate the list."
      ],
      "metadata": {
        "id": "2lbeEiadkAd-"
      }
    },
    {
      "cell_type": "code",
      "source": [
        "list1 = [1,2,3,4,5]\n",
        "list2 = list1 * 2 # Replication\n",
        "print(list1)\n",
        "print(\"len of list1 \",len(list1))\n",
        "print(list2)\n",
        "print(\"len of list2 \",len(list2))\n",
        "\n",
        "\n",
        "#list1 = [1,2,3,4,5]\n",
        "#list2 = list1 * 0.5 # Replication\n",
        "#print(list1)\n",
        "#print(\"len of list1 \",len(list1))\n",
        "#print(list2)\n",
        "#print(\"len of list2 \",len(list2))\n"
      ],
      "metadata": {
        "colab": {
          "base_uri": "https://localhost:8080/"
        },
        "id": "NBrrTs7zkK90",
        "outputId": "d7f20c56-6942-4cec-a55e-53b644f1270d"
      },
      "execution_count": 18,
      "outputs": [
        {
          "output_type": "stream",
          "name": "stdout",
          "text": [
            "[1, 2, 3, 4, 5]\n",
            "len of list1  5\n",
            "[1, 2, 3, 4, 5, 1, 2, 3, 4, 5]\n",
            "len of list2  10\n"
          ]
        }
      ]
    },
    {
      "cell_type": "code",
      "source": [
        "list1 = [1,2,3,4,5]\n",
        "list2 = list1 * 4  # Replication\n",
        "print(list1)\n",
        "print(\"len of list1 \",len(list1))\n",
        "print(list2)\n",
        "print(\"len of list2 \",len(list2))"
      ],
      "metadata": {
        "colab": {
          "base_uri": "https://localhost:8080/"
        },
        "id": "kOwvtNDmkd_H",
        "outputId": "cdbffb18-e57a-41f1-adc2-3f62c7ba5cf5"
      },
      "execution_count": 14,
      "outputs": [
        {
          "output_type": "stream",
          "name": "stdout",
          "text": [
            "[1, 2, 3, 4, 5]\n",
            "len of list1  5\n",
            "[1, 2, 3, 4, 5, 1, 2, 3, 4, 5, 1, 2, 3, 4, 5, 1, 2, 3, 4, 5]\n",
            "len of list2  20\n"
          ]
        }
      ]
    },
    {
      "cell_type": "code",
      "source": [
        "list1 = [1,2,3,4,5]\n",
        "list2 = [6,7,8,9,10]\n",
        "print(list1)\n",
        "print(\"len of list1 \",len(list1))\n",
        "print(list2)\n",
        "print(\"len of list2 \",len(list2))\n",
        "list3 = list1 + list2 # concatenation\n",
        "print(list3)\n",
        "print(\"len of list3 \",len(list3))"
      ],
      "metadata": {
        "colab": {
          "base_uri": "https://localhost:8080/"
        },
        "id": "MdT5uBPMkytv",
        "outputId": "45bec0d0-c9f4-47a5-ea9f-af2d0df8a826"
      },
      "execution_count": 16,
      "outputs": [
        {
          "output_type": "stream",
          "name": "stdout",
          "text": [
            "[1, 2, 3, 4, 5]\n",
            "len of list1  5\n",
            "[6, 7, 8, 9, 10]\n",
            "len of list2  5\n",
            "[1, 2, 3, 4, 5, 6, 7, 8, 9, 10]\n",
            "len of list3  10\n"
          ]
        }
      ]
    },
    {
      "cell_type": "code",
      "source": [
        "lst1 = [1, 2, 3, 4]\n",
        "lst2 = ['varma', 'naveen', 'murali', 'brahma']\n",
        "new_lst = lst1 + lst2\n",
        "\n",
        "print(new_lst)"
      ],
      "metadata": {
        "colab": {
          "base_uri": "https://localhost:8080/"
        },
        "id": "9oEIOgT2_OpA",
        "outputId": "45a06cce-5bdb-4708-bf8f-2d9e76a3f111"
      },
      "execution_count": 62,
      "outputs": [
        {
          "output_type": "stream",
          "name": "stdout",
          "text": [
            "[1, 2, 3, 4, 'varma', 'naveen', 'murali', 'brahma']\n"
          ]
        }
      ]
    },
    {
      "cell_type": "code",
      "source": [
        ""
      ],
      "metadata": {
        "id": "-KP06OrPkABm"
      },
      "execution_count": null,
      "outputs": []
    },
    {
      "cell_type": "markdown",
      "source": [
        "**List Count**\n",
        "\n",
        "To find the frequncy of occurence of an item\n",
        "\n"
      ],
      "metadata": {
        "id": "_dENeCzK_Vm4"
      }
    },
    {
      "cell_type": "code",
      "source": [
        "numbers = [1, 2, 3, 1, 3, 4, 2, 5, 1, 2, 3, 1, 1, 1, 1]\n",
        "\n",
        "#frequency of 1 in a list\n",
        "print(numbers.count(1))\n",
        "\n",
        "#frequency of 3 in a list\n",
        "print(numbers.count(3))"
      ],
      "metadata": {
        "colab": {
          "base_uri": "https://localhost:8080/"
        },
        "id": "UsFha7o7_mcR",
        "outputId": "20fd7b48-27dd-4ab2-a7bd-bff6dcac3ba8"
      },
      "execution_count": 64,
      "outputs": [
        {
          "output_type": "stream",
          "name": "stdout",
          "text": [
            "7\n",
            "3\n"
          ]
        }
      ]
    },
    {
      "cell_type": "markdown",
      "source": [
        "\n",
        "The **multiple assignment trick** (technically called **tuple unpacking**) is a shortcut that lets you assign multiple variables with the values in a list in one line of code.\n",
        "\n",
        "The number of variables and the length of the list must be exactly equal, or Python will give you a ValueError:"
      ],
      "metadata": {
        "id": "-oT_z-e-ll8z"
      }
    },
    {
      "cell_type": "code",
      "source": [
        "cat = ['fat', 'gray', 'loud']\n",
        "size = cat[0]\n",
        "color = cat[1]\n",
        "disposition = cat[2]\n",
        "\n",
        "print(size, color, disposition)\n",
        "\n",
        "size, color, disposition = cat #single line assignment\n",
        "print(size, color, disposition)"
      ],
      "metadata": {
        "colab": {
          "base_uri": "https://localhost:8080/"
        },
        "id": "UJO4evhPli6z",
        "outputId": "81fef782-c08f-4871-e857-30e2b2882448"
      },
      "execution_count": 21,
      "outputs": [
        {
          "output_type": "stream",
          "name": "stdout",
          "text": [
            "fat gray loud\n",
            "fat gray loud\n"
          ]
        }
      ]
    },
    {
      "cell_type": "markdown",
      "source": [
        "**List Looping**\n",
        "\n",
        "Best appraoch using for loop"
      ],
      "metadata": {
        "id": "sAqFZUiI_vH-"
      }
    },
    {
      "cell_type": "code",
      "source": [
        "#loop through a list\n",
        "\n",
        "lst = ['one', 'two', 'three', 'four']\n",
        "\n",
        "for ele in lst:\n",
        "    print(ele)"
      ],
      "metadata": {
        "colab": {
          "base_uri": "https://localhost:8080/"
        },
        "id": "YGfpG6fq_yHY",
        "outputId": "354747b3-2cb1-49c1-a9d1-db58d738e66f"
      },
      "execution_count": 65,
      "outputs": [
        {
          "output_type": "stream",
          "name": "stdout",
          "text": [
            "one\n",
            "two\n",
            "three\n",
            "four\n"
          ]
        }
      ]
    },
    {
      "cell_type": "markdown",
      "source": [
        "Using the **enumerate()** Function with Lists\n",
        "\n",
        "On each iteration of the loop, enumerate() will return two values: the index of the item in the list, and the item in the list itself.\n",
        "\n",
        "The enumerate() function is useful if you need both the item and the item’s index in the loop’s block.\n"
      ],
      "metadata": {
        "id": "GY6ONv2DmKOz"
      }
    },
    {
      "cell_type": "code",
      "source": [
        "#without enumeration\n",
        "supplies = ['pens', 'staplers', 'flamethrowers', 'binders']\n",
        "for i in range(len(supplies)):\n",
        "  print('Index ' + str(i) + ' in supplies is: ' + supplies[i])\n"
      ],
      "metadata": {
        "colab": {
          "base_uri": "https://localhost:8080/"
        },
        "id": "E0eqAcWhmWOp",
        "outputId": "b4b2159e-f487-46f5-c915-c9282c071c83"
      },
      "execution_count": 22,
      "outputs": [
        {
          "output_type": "stream",
          "name": "stdout",
          "text": [
            "Index 0 in supplies is: pens\n",
            "Index 1 in supplies is: staplers\n",
            "Index 2 in supplies is: flamethrowers\n",
            "Index 3 in supplies is: binders\n"
          ]
        }
      ]
    },
    {
      "cell_type": "code",
      "source": [
        "#with enumeration\n",
        "for index, item in enumerate(supplies):\n",
        "  print('Index ' + str(index) + ' in supplies is: ' + item)\n"
      ],
      "metadata": {
        "colab": {
          "base_uri": "https://localhost:8080/"
        },
        "id": "fW1q21qFmOwq",
        "outputId": "2196eaba-d138-4bc0-8fb9-82db491aab09"
      },
      "execution_count": 23,
      "outputs": [
        {
          "output_type": "stream",
          "name": "stdout",
          "text": [
            "Index 0 in supplies is: pens\n",
            "Index 1 in supplies is: staplers\n",
            "Index 2 in supplies is: flamethrowers\n",
            "Index 3 in supplies is: binders\n"
          ]
        }
      ]
    },
    {
      "cell_type": "markdown",
      "source": [
        "Using the **random.choice()** and **random.shuffle()** Functions with Lists\n",
        "\n",
        "The random.choice() function will return a randomly selected item from the list.\n",
        "\n",
        "\n",
        "The random.shuffle() function will reorder the items in a list. This function modifies the list in place, rather than returning a new list."
      ],
      "metadata": {
        "id": "mviki3ljm376"
      }
    },
    {
      "cell_type": "code",
      "source": [
        "import random\n",
        "lst1 = [1,2,3,4,5,6,7,8,9,10]\n",
        "print(random.choice(lst1)) #random.choice() \n",
        "print(random.choice(lst1)) #random.choice() \n",
        "print(random.choice(lst1)) #random.choice() "
      ],
      "metadata": {
        "colab": {
          "base_uri": "https://localhost:8080/"
        },
        "id": "YCfQx9VfnBui",
        "outputId": "cb7eeeb9-afe5-4652-cc4f-e7fb73f9bb90"
      },
      "execution_count": 32,
      "outputs": [
        {
          "output_type": "stream",
          "name": "stdout",
          "text": [
            "6\n",
            "4\n",
            "7\n"
          ]
        }
      ]
    },
    {
      "cell_type": "code",
      "source": [
        "import random\n",
        "lst1 = [1,2,3,4,5,6,7,8,9,10]\n",
        "print(\"Before Shuffle\",lst1)\n",
        "random.shuffle(lst1) # random.shuffle()  \n",
        "print(\"After Shuffle\",lst1)"
      ],
      "metadata": {
        "colab": {
          "base_uri": "https://localhost:8080/"
        },
        "id": "bB5urC8XncGw",
        "outputId": "9c374a4c-e98f-41da-834d-3aeda1c06680"
      },
      "execution_count": 38,
      "outputs": [
        {
          "output_type": "stream",
          "name": "stdout",
          "text": [
            "Before Shuffle [1, 2, 3, 4, 5, 6, 7, 8, 9, 10]\n",
            "After Shuffle [5, 4, 8, 3, 2, 1, 7, 9, 10, 6]\n"
          ]
        }
      ]
    },
    {
      "cell_type": "markdown",
      "source": [
        "**List Comprehensions**\n",
        "\n",
        "\n",
        "List comprehensions provide a **concise way to create lists.**\n",
        "\n",
        "**Common applications** are **to make new lists where each element is the result of some operations** applied to each member of another sequence or iterable, or to create a subsequence of those elements that satisfy a certain condition.\n",
        "\n"
      ],
      "metadata": {
        "id": "uveBNSK7_5Xw"
      }
    },
    {
      "cell_type": "code",
      "source": [
        "# without list comprehension\n",
        "squares = []\n",
        "for i in range(10):\n",
        "  squares.append(i**2)   #list append\n",
        "print(squares)"
      ],
      "metadata": {
        "colab": {
          "base_uri": "https://localhost:8080/"
        },
        "id": "mu20GQZAAI4l",
        "outputId": "623ea838-2526-4e36-ee5b-132a28a5ed9a"
      },
      "execution_count": 67,
      "outputs": [
        {
          "output_type": "stream",
          "name": "stdout",
          "text": [
            "[0, 1, 4, 9, 16, 25, 36, 49, 64, 81]\n"
          ]
        }
      ]
    },
    {
      "cell_type": "code",
      "source": [
        "#using list comprehension\n",
        "squares = [i**2 for i in range(10)]\n",
        "print(squares)"
      ],
      "metadata": {
        "colab": {
          "base_uri": "https://localhost:8080/"
        },
        "id": "OmKyOA4hAQ92",
        "outputId": "6d684b61-00bd-4bbf-db72-f671a3ca3912"
      },
      "execution_count": 68,
      "outputs": [
        {
          "output_type": "stream",
          "name": "stdout",
          "text": [
            "[0, 1, 4, 9, 16, 25, 36, 49, 64, 81]\n"
          ]
        }
      ]
    },
    {
      "cell_type": "code",
      "source": [
        "#example\n",
        "\n",
        "lst = [-10, -20, 10, 20, 50]\n",
        "\n",
        "#create a new list with values doubled\n",
        "new_lst = [i*2 for i in lst]\n",
        "print(\"Double\",new_lst)\n",
        "\n",
        "#filter the list to exclude negative numbers\n",
        "new_lst = [i for i in lst if i >= 0]\n",
        "print(\"Only Positive\",new_lst)\n",
        "\n",
        "#filter the list to exclude positive numbers\n",
        "new_lst = [i for i in lst if i <= 0]\n",
        "print(\"Only Negative\",new_lst)\n",
        "\n",
        "\n",
        "#create a list of tuples like (number, square_of_number)\n",
        "new_lst = [(i, i**2) for i in range(10)]\n",
        "print(\"Pair(value, square)\\n\",new_lst)"
      ],
      "metadata": {
        "colab": {
          "base_uri": "https://localhost:8080/"
        },
        "id": "aJnjIyi-AZj3",
        "outputId": "32a17bbe-b62a-4081-e3ae-a3c57c2f3e3f"
      },
      "execution_count": 74,
      "outputs": [
        {
          "output_type": "stream",
          "name": "stdout",
          "text": [
            "Double [-20, -40, 20, 40, 100]\n",
            "Only Positive [10, 20, 50]\n",
            "Only Negative [-10, -20]\n",
            "Pair(value, square)\n",
            " [(0, 0), (1, 1), (2, 4), (3, 9), (4, 16), (5, 25), (6, 36), (7, 49), (8, 64), (9, 81)]\n"
          ]
        }
      ]
    },
    {
      "cell_type": "markdown",
      "source": [
        "**Nested List Comprehensions**"
      ],
      "metadata": {
        "id": "BztMUDsMBBek"
      }
    },
    {
      "cell_type": "code",
      "source": [
        "#let's suppose we have a matrix\n",
        "\n",
        "matrix = [\n",
        "    [1, 2, 3, 4],\n",
        "    [5, 6, 7, 8],\n",
        "    [9, 10, 11, 12]\n",
        "]\n",
        "\n",
        "\n",
        "#transpose of a matrix without list comprehension\n",
        "transposed = []\n",
        "for i in range(4):\n",
        "  lst = []\n",
        "  for row in matrix:\n",
        "    lst.append(row[i])\n",
        "  transposed.append(lst)\n",
        "\n",
        "print(transposed)\n",
        "\n"
      ],
      "metadata": {
        "colab": {
          "base_uri": "https://localhost:8080/"
        },
        "id": "w_RR0WCnBFGe",
        "outputId": "b0a1b7d3-45bb-4c74-e244-02bc5a9d705d"
      },
      "execution_count": 10,
      "outputs": [
        {
          "output_type": "stream",
          "name": "stdout",
          "text": [
            "[[1, 5, 9], [2, 6, 10], [3, 7, 11], [4, 8, 12]]\n"
          ]
        }
      ]
    },
    {
      "cell_type": "code",
      "source": [
        "#with list comprehension\n",
        "transposed = [[row[i] for row in matrix] for i in range(4)]\n",
        "print(transposed)"
      ],
      "metadata": {
        "colab": {
          "base_uri": "https://localhost:8080/"
        },
        "id": "2V8HplSjBLqj",
        "outputId": "61289ec8-cdba-4696-a8a4-da7e646a5167"
      },
      "execution_count": 76,
      "outputs": [
        {
          "output_type": "stream",
          "name": "stdout",
          "text": [
            "[[1, 5, 9], [2, 6, 10], [3, 7, 11], [4, 8, 12]]\n"
          ]
        }
      ]
    },
    {
      "cell_type": "code",
      "source": [
        "matrix = [\n",
        "\n",
        " [1, 2, 3, 4],\n",
        "    [5, 6, 7, 8],\n",
        "    [9, 10, 11, 12]]\n",
        " \n",
        "\n",
        "transposed = []\n",
        "\n",
        "for i in range(4):\n",
        "\n",
        "\tprint(\"we are going to take the \",i,\"th element of each row\")\n",
        "\n",
        "\tlst = []\n",
        "\n",
        "\tfor row in matrix:\n",
        "\n",
        "\t\tprint(\"the row we are considering :\", row, \"and we are going to add\", row[i],\"to a temporary list\")\n",
        "\n",
        "\t\tlst.append(row[i])\n",
        "\n",
        "\tprint(\"the \",i,\"th column elements = \", i ,\"th elements in every row are =\", lst)\n",
        "\n",
        "\ttransposed.append(lst)\n",
        "\n",
        "\tprint(\"=\"*50)\n",
        "\n",
        "print(transposed)"
      ],
      "metadata": {
        "colab": {
          "base_uri": "https://localhost:8080/"
        },
        "id": "rR5VRMmLBZCC",
        "outputId": "bba1a3d1-b0f9-4c0a-85a4-af85b40f9350"
      },
      "execution_count": 78,
      "outputs": [
        {
          "output_type": "stream",
          "name": "stdout",
          "text": [
            "we are going to take the  0 th element of each row\n",
            "the row we are considering : [1, 2, 3, 4] and we are going to add 1 to a temporary list\n",
            "the row we are considering : [5, 6, 7, 8] and we are going to add 5 to a temporary list\n",
            "the row we are considering : [9, 10, 11, 12] and we are going to add 9 to a temporary list\n",
            "the  0 th column elements =  0 th elements in every row are = [1, 5, 9]\n",
            "==================================================\n",
            "we are going to take the  1 th element of each row\n",
            "the row we are considering : [1, 2, 3, 4] and we are going to add 2 to a temporary list\n",
            "the row we are considering : [5, 6, 7, 8] and we are going to add 6 to a temporary list\n",
            "the row we are considering : [9, 10, 11, 12] and we are going to add 10 to a temporary list\n",
            "the  1 th column elements =  1 th elements in every row are = [2, 6, 10]\n",
            "==================================================\n",
            "we are going to take the  2 th element of each row\n",
            "the row we are considering : [1, 2, 3, 4] and we are going to add 3 to a temporary list\n",
            "the row we are considering : [5, 6, 7, 8] and we are going to add 7 to a temporary list\n",
            "the row we are considering : [9, 10, 11, 12] and we are going to add 11 to a temporary list\n",
            "the  2 th column elements =  2 th elements in every row are = [3, 7, 11]\n",
            "==================================================\n",
            "we are going to take the  3 th element of each row\n",
            "the row we are considering : [1, 2, 3, 4] and we are going to add 4 to a temporary list\n",
            "the row we are considering : [5, 6, 7, 8] and we are going to add 8 to a temporary list\n",
            "the row we are considering : [9, 10, 11, 12] and we are going to add 12 to a temporary list\n",
            "the  3 th column elements =  3 th elements in every row are = [4, 8, 12]\n",
            "==================================================\n",
            "[[1, 5, 9], [2, 6, 10], [3, 7, 11], [4, 8, 12]]\n"
          ]
        }
      ]
    }
  ]
}